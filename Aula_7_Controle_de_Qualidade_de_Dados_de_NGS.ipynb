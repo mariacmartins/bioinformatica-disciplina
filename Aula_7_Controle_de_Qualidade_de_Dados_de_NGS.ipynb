{
  "nbformat": 4,
  "nbformat_minor": 0,
  "metadata": {
    "colab": {
      "name": "Aula 7: Controle de Qualidade de Dados de NGS.ipynb",
      "provenance": [],
      "authorship_tag": "ABX9TyOhX3asLUAfXaSRXDjvJtG5",
      "include_colab_link": true
    },
    "kernelspec": {
      "name": "python3",
      "display_name": "Python 3"
    },
    "language_info": {
      "name": "python"
    }
  },
  "cells": [
    {
      "cell_type": "markdown",
      "metadata": {
        "id": "view-in-github",
        "colab_type": "text"
      },
      "source": [
        "<a href=\"https://colab.research.google.com/github/mariacmartins/bioinformatica-disciplina/blob/main/Aula_7_Controle_de_Qualidade_de_Dados_de_NGS.ipynb\" target=\"_parent\"><img src=\"https://colab.research.google.com/assets/colab-badge.svg\" alt=\"Open In Colab\"/></a>"
      ]
    },
    {
      "cell_type": "markdown",
      "metadata": {
        "id": "xbUmfp8h93xc"
      },
      "source": [
        "# Aula 7: Controle de Qualidade de Dados de NGS\n",
        "As tecnologias de **sequenciamento de próxima geração (NGS)** fornecem um meio de alto rendimento para geração de uma grande quantidade de dados. No entanto, a qualidade dos dados gerados pode ser afetada por uma variedade de artefatos que surgem durante os processos de preparação e sequenciamento da biblioteca. Esses problemas incluem perfis de erro específicos de plataforma,  erros de leitura, leituras de baixa qualidade e contaminação de primeres/adaptadores. A qualidade dos dados é muito importante para análises posteriores, como montagem de sequências, identificação de polimorfismos de nucleotídeo único e estudos de expressão gênica. Portanto, os artefatos de sequência precisam ser removidos, caso contrário, eles podem levar a conclusões erradas.\n",
        "\n",
        "Atualmente, a medida mais utilizada para se definir a confiabilidade de uma base é o **Phred Score (Q)**."
      ]
    },
    {
      "cell_type": "code",
      "metadata": {
        "colab": {
          "base_uri": "https://localhost:8080/"
        },
        "id": "oi9CQ4Cc9aB_",
        "outputId": "8144150b-917f-4ff7-9bbd-8030331b28b3"
      },
      "source": [
        "!apt install sra-toolkit fastqc trimmomatic"
      ],
      "execution_count": 1,
      "outputs": [
        {
          "output_type": "stream",
          "text": [
            "Reading package lists... Done\n",
            "Building dependency tree       \n",
            "Reading state information... Done\n",
            "fastqc is already the newest version (0.11.5+dfsg-6).\n",
            "sra-toolkit is already the newest version (2.8.2-5+dfsg-1).\n",
            "trimmomatic is already the newest version (0.36+dfsg-3).\n",
            "The following package was automatically installed and is no longer required:\n",
            "  libnvidia-common-460\n",
            "Use 'apt autoremove' to remove it.\n",
            "0 upgraded, 0 newly installed, 0 to remove and 34 not upgraded.\n"
          ],
          "name": "stdout"
        }
      ]
    },
    {
      "cell_type": "markdown",
      "metadata": {
        "id": "xvxICsz4SXnR"
      },
      "source": [
        "Utilizando a ferramenta fastq-dump do pacote SRA Toolkit, baixe os dados de leitura com código de acesso SRR1071260."
      ]
    },
    {
      "cell_type": "code",
      "metadata": {
        "colab": {
          "base_uri": "https://localhost:8080/"
        },
        "id": "ZRI6UUPNHk9x",
        "outputId": "dc2d13c2-0806-404c-a8fc-54141ca7d4a6"
      },
      "source": [
        "!fastq-dump SRR1071260"
      ],
      "execution_count": 2,
      "outputs": [
        {
          "output_type": "stream",
          "text": [
            "Read 11642652 spots for SRR1071260\n",
            "Written 11642652 spots for SRR1071260\n"
          ],
          "name": "stdout"
        }
      ]
    },
    {
      "cell_type": "markdown",
      "metadata": {
        "id": "PoVi-CLbSeOG"
      },
      "source": [
        "Utilize a ferramenta FastQC para gerar um relatório de qualidade para estes dados."
      ]
    },
    {
      "cell_type": "code",
      "metadata": {
        "colab": {
          "base_uri": "https://localhost:8080/"
        },
        "id": "tyZcTXvMI45B",
        "outputId": "c77d7c37-8b47-4577-8c19-26d614e8366c"
      },
      "source": [
        "!mkdir -p SRR1071260_raw_qc\n",
        "!fastqc -o SRR1071260_raw_qc SRR1071260.fastq"
      ],
      "execution_count": 3,
      "outputs": [
        {
          "output_type": "stream",
          "text": [
            "Started analysis of SRR1071260.fastq\n",
            "Approx 5% complete for SRR1071260.fastq\n",
            "Approx 10% complete for SRR1071260.fastq\n",
            "Approx 15% complete for SRR1071260.fastq\n",
            "Approx 20% complete for SRR1071260.fastq\n",
            "Approx 25% complete for SRR1071260.fastq\n",
            "Approx 30% complete for SRR1071260.fastq\n",
            "Approx 35% complete for SRR1071260.fastq\n",
            "Approx 40% complete for SRR1071260.fastq\n",
            "Approx 45% complete for SRR1071260.fastq\n",
            "Approx 50% complete for SRR1071260.fastq\n",
            "Approx 55% complete for SRR1071260.fastq\n",
            "Approx 60% complete for SRR1071260.fastq\n",
            "Approx 65% complete for SRR1071260.fastq\n",
            "Approx 70% complete for SRR1071260.fastq\n",
            "Approx 75% complete for SRR1071260.fastq\n",
            "Approx 80% complete for SRR1071260.fastq\n",
            "Approx 85% complete for SRR1071260.fastq\n",
            "Approx 90% complete for SRR1071260.fastq\n",
            "Approx 95% complete for SRR1071260.fastq\n",
            "Analysis complete for SRR1071260.fastq\n"
          ],
          "name": "stdout"
        }
      ]
    },
    {
      "cell_type": "markdown",
      "metadata": {
        "id": "ukZfxe3ISlmb"
      },
      "source": [
        "Utilize a ferramenta TrimmomaticSE para realizar a remoção de regiões com baixa qualidade e possíveis contaminações por primers, bem como as leituras com tamanho menos de 60 bp."
      ]
    },
    {
      "cell_type": "code",
      "metadata": {
        "colab": {
          "base_uri": "https://localhost:8080/"
        },
        "id": "qVhu7QWBK0XD",
        "outputId": "cc2569a6-6ff0-44a6-8cad-7c47a842862e"
      },
      "source": [
        "!TrimmomaticSE SRR1071260.fastq SRR1071260_filtered.fastq HEADCROP:10 SLIDINGWINDOW:5:30 MINLEN:60"
      ],
      "execution_count": 4,
      "outputs": [
        {
          "output_type": "stream",
          "text": [
            "TrimmomaticSE: Started with arguments:\n",
            " SRR1071260.fastq SRR1071260_filtered.fastq HEADCROP:10 SLIDINGWINDOW:5:30 MINLEN:60\n",
            "Automatically using 2 threads\n",
            "Quality encoding detected as phred33\n",
            "Input Reads: 11642652 Surviving: 9975737 (85.68%) Dropped: 1666915 (14.32%)\n",
            "TrimmomaticSE: Completed successfully\n"
          ],
          "name": "stdout"
        }
      ]
    },
    {
      "cell_type": "markdown",
      "metadata": {
        "id": "B6pV0bCiSvJk"
      },
      "source": [
        "Gere um novo relatório para os dados processados."
      ]
    },
    {
      "cell_type": "code",
      "metadata": {
        "colab": {
          "base_uri": "https://localhost:8080/"
        },
        "id": "xg5dabZMNkRL",
        "outputId": "4a40f167-b2e6-437e-b86b-8c3318db22ea"
      },
      "source": [
        "!mkdir -p SRR1071260_filtered_qc\n",
        "!fastqc -o SRR1071260_filtered_qc SRR1071260_filtered.fastq"
      ],
      "execution_count": 5,
      "outputs": [
        {
          "output_type": "stream",
          "text": [
            "Started analysis of SRR1071260_filtered.fastq\n",
            "Approx 5% complete for SRR1071260_filtered.fastq\n",
            "Approx 10% complete for SRR1071260_filtered.fastq\n",
            "Approx 15% complete for SRR1071260_filtered.fastq\n",
            "Approx 20% complete for SRR1071260_filtered.fastq\n",
            "Approx 25% complete for SRR1071260_filtered.fastq\n",
            "Approx 30% complete for SRR1071260_filtered.fastq\n",
            "Approx 35% complete for SRR1071260_filtered.fastq\n",
            "Approx 40% complete for SRR1071260_filtered.fastq\n",
            "Approx 45% complete for SRR1071260_filtered.fastq\n",
            "Approx 50% complete for SRR1071260_filtered.fastq\n",
            "Approx 55% complete for SRR1071260_filtered.fastq\n",
            "Approx 60% complete for SRR1071260_filtered.fastq\n",
            "Approx 65% complete for SRR1071260_filtered.fastq\n",
            "Approx 70% complete for SRR1071260_filtered.fastq\n",
            "Approx 75% complete for SRR1071260_filtered.fastq\n",
            "Approx 80% complete for SRR1071260_filtered.fastq\n",
            "Approx 85% complete for SRR1071260_filtered.fastq\n",
            "Approx 90% complete for SRR1071260_filtered.fastq\n",
            "Approx 95% complete for SRR1071260_filtered.fastq\n",
            "Analysis complete for SRR1071260_filtered.fastq\n"
          ],
          "name": "stdout"
        }
      ]
    }
  ]
}