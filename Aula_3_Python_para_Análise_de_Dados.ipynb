{
  "nbformat": 4,
  "nbformat_minor": 0,
  "metadata": {
    "colab": {
      "name": "Aula 3: Python para Análise de Dados.ipynb",
      "provenance": [],
      "authorship_tag": "ABX9TyMxEhM7TCqaU+ek4le45AWh",
      "include_colab_link": true
    },
    "kernelspec": {
      "name": "python3",
      "display_name": "Python 3"
    },
    "language_info": {
      "name": "python"
    }
  },
  "cells": [
    {
      "cell_type": "markdown",
      "metadata": {
        "id": "view-in-github",
        "colab_type": "text"
      },
      "source": [
        "<a href=\"https://colab.research.google.com/github/mariacmartins/bioinformatica-disciplina/blob/main/Aula_3_Python_para_An%C3%A1lise_de_Dados.ipynb\" target=\"_parent\"><img src=\"https://colab.research.google.com/assets/colab-badge.svg\" alt=\"Open In Colab\"/></a>"
      ]
    },
    {
      "cell_type": "markdown",
      "metadata": {
        "id": "0FV-jPMpwx02"
      },
      "source": [
        "# Aula 3: Python para Análise de Dados\n",
        "\n",
        "- **NumPy:** É uma biblioteca que suporta arrays e matrizes multidimensionais. O NumPy fornece um grande conjunto de funções e operações de biblioteca que ajudam os programadores a executar facilmente cálculos numéricos. Esses tipos de cálculos numéricos são amplamente utilizados em tarefas como: Modelos de Machine Learning, Visão Computacional e tarefas matemáticas.\n",
        "- **Pandas:** É uma biblioteca de software da linguagem Python para manipulação e análise de dados. Oferece estruturas e operações para manipular dados estruturados e séries temporais.\n",
        "- **Matplotlib:** É biblioteca para criação de gráficos e visualizações de dados em Python.\n"
      ]
    },
    {
      "cell_type": "markdown",
      "metadata": {
        "id": "HLKsPQnyOLIS"
      },
      "source": [
        "### Numpy"
      ]
    },
    {
      "cell_type": "code",
      "metadata": {
        "id": "MXpgmCCpwZy0"
      },
      "source": [
        "import numpy as np"
      ],
      "execution_count": 1,
      "outputs": []
    },
    {
      "cell_type": "markdown",
      "metadata": {
        "id": "1_6wQ3rw5WaN"
      },
      "source": [
        "### Equação da reta\n",
        "\n",
        "Com base na equação da reta:\n",
        "```\n",
        "y = a * x + b\n",
        "```\n",
        "- Crie um array do NumPy chamado “X” com os seguintes valores: 1,2,3,4,5,6,7;\n",
        "- Utilizando operações element-wise, produza um novo array “y”, com os valores do eixo y para uma reta com a = 0.5 e b = 2, a partir dos valores do eixo x armazenados no vetor “X”.\n"
      ]
    },
    {
      "cell_type": "code",
      "metadata": {
        "colab": {
          "base_uri": "https://localhost:8080/"
        },
        "id": "yfW47dCTy3jj",
        "outputId": "0c0bb806-4eae-4649-ba40-cd8629d97a8c"
      },
      "source": [
        "# Criando o array x\n",
        "numbers_list = [1,2,3,4,5,6,7]\n",
        "x = np.array(numbers_list)\n",
        "\n",
        "x"
      ],
      "execution_count": 2,
      "outputs": [
        {
          "output_type": "execute_result",
          "data": {
            "text/plain": [
              "array([1, 2, 3, 4, 5, 6, 7])"
            ]
          },
          "metadata": {
            "tags": []
          },
          "execution_count": 2
        }
      ]
    },
    {
      "cell_type": "code",
      "metadata": {
        "colab": {
          "base_uri": "https://localhost:8080/"
        },
        "id": "tuBRRPRA1UQN",
        "outputId": "e0803ed5-503a-4e1d-b39a-59ce911114f8"
      },
      "source": [
        "# Equação da reta e resultados\n",
        "\n",
        "a = 0.5\n",
        "b = 2\n",
        "\n",
        "for i in x:\n",
        "  y = a * x + b\n",
        "  \n",
        "print(y)"
      ],
      "execution_count": 3,
      "outputs": [
        {
          "output_type": "stream",
          "text": [
            "[2.5 3.  3.5 4.  4.5 5.  5.5]\n"
          ],
          "name": "stdout"
        }
      ]
    },
    {
      "cell_type": "markdown",
      "metadata": {
        "id": "1L5WTZ8G6D0D"
      },
      "source": [
        "### Operações do NumPy\n",
        "Crie um vetor “ages” com o NumPy que armazene os seguintes valores: 28, 29, 25, 22, 21, 30, 71, 21. Em novas células de código, utilizando as funções do NumPy, calcule a partir deste vetor: \n",
        "1. A média dos valores;\n",
        "2. A mediana dos valores;\n",
        "3. O desvio padrão dos valores;\n"
      ]
    },
    {
      "cell_type": "code",
      "metadata": {
        "colab": {
          "base_uri": "https://localhost:8080/"
        },
        "id": "MIIx-50Xzv-G",
        "outputId": "ddfa0458-9af6-4a01-ca70-1ad0ae0e1899"
      },
      "source": [
        "# Crie um vetor “ages” com o NumPy que armazene os seguintes valores: 28, 29, 25, 22, 21, 30, 71, 21. \n",
        "ages_list = [28, 29, 25, 22, 21, 30, 71, 21]\n",
        "ages =  np.array(ages_list)\n",
        "ages"
      ],
      "execution_count": 4,
      "outputs": [
        {
          "output_type": "execute_result",
          "data": {
            "text/plain": [
              "array([28, 29, 25, 22, 21, 30, 71, 21])"
            ]
          },
          "metadata": {
            "tags": []
          },
          "execution_count": 4
        }
      ]
    },
    {
      "cell_type": "code",
      "metadata": {
        "colab": {
          "base_uri": "https://localhost:8080/"
        },
        "id": "JKcBDOQk0XnE",
        "outputId": "02c0a47b-4d44-4bcf-9826-75c2de9c40c4"
      },
      "source": [
        "# Média de idades (ages)\n",
        "np.mean(ages)"
      ],
      "execution_count": 5,
      "outputs": [
        {
          "output_type": "execute_result",
          "data": {
            "text/plain": [
              "30.875"
            ]
          },
          "metadata": {
            "tags": []
          },
          "execution_count": 5
        }
      ]
    },
    {
      "cell_type": "code",
      "metadata": {
        "colab": {
          "base_uri": "https://localhost:8080/"
        },
        "id": "YjZxp86w0ff9",
        "outputId": "9a4c30a4-9784-4f20-9c61-4b0ede040689"
      },
      "source": [
        "# Mediana de idades (ages)\n",
        "np.median(ages)"
      ],
      "execution_count": 6,
      "outputs": [
        {
          "output_type": "execute_result",
          "data": {
            "text/plain": [
              "26.5"
            ]
          },
          "metadata": {
            "tags": []
          },
          "execution_count": 6
        }
      ]
    },
    {
      "cell_type": "code",
      "metadata": {
        "colab": {
          "base_uri": "https://localhost:8080/"
        },
        "id": "FgdR9Bu40jUC",
        "outputId": "fd9680b1-3183-40bc-e484-b71e31dd1129"
      },
      "source": [
        "# Desvio padrão de idades (ages)\n",
        "np.std(ages)"
      ],
      "execution_count": 7,
      "outputs": [
        {
          "output_type": "execute_result",
          "data": {
            "text/plain": [
              "15.535745073861118"
            ]
          },
          "metadata": {
            "tags": []
          },
          "execution_count": 7
        }
      ]
    },
    {
      "cell_type": "markdown",
      "metadata": {
        "id": "i7Yyuk6uPwZi"
      },
      "source": [
        "### SciPy"
      ]
    },
    {
      "cell_type": "markdown",
      "metadata": {
        "id": "sbIUkVvWIz94"
      },
      "source": [
        "###Enriquecimento Funcional\n",
        "Em um estudo de análise de expressão diferencial foram identificados 100 genes diferencialmente expressos (DEGs) de um total de 25000. Considerando que um termo do Gene Ontology (GO) relacionado ao controle de multiplicação celular está presente em 50 DEGs, e ocorre ao todo em 200 genes do genoma:\n",
        "\n",
        "- Crie uma tabela de contingência chamada “matrix” com os dados do estudo;\n",
        "- Calcule o valor de p para a distribuição deste termo utilizando Chi2;\n",
        "- Calcule o valor de p para a distribuição deste termo utilizando o teste exato de Fisher. \n"
      ]
    },
    {
      "cell_type": "code",
      "metadata": {
        "id": "o9h8iBmHHnc7"
      },
      "source": [
        "from scipy.stats import chi2_contingency\n",
        "from scipy.stats import fisher_exact\n"
      ],
      "execution_count": 8,
      "outputs": []
    },
    {
      "cell_type": "code",
      "metadata": {
        "id": "xqf1twViGvi8"
      },
      "source": [
        "total_genes = 25000\n",
        "degs = 100\n",
        "\n",
        "total_genes_go_term = 200\n",
        "degs_go_term = 50\n"
      ],
      "execution_count": 9,
      "outputs": []
    },
    {
      "cell_type": "code",
      "metadata": {
        "id": "t9Rw8h66H2F1"
      },
      "source": [
        "matrix = np.array([\n",
        "                   [total_genes, total_genes_go_term],\n",
        "                   [degs, degs_go_term]\n",
        "])"
      ],
      "execution_count": 10,
      "outputs": []
    },
    {
      "cell_type": "code",
      "metadata": {
        "colab": {
          "base_uri": "https://localhost:8080/"
        },
        "id": "7tHeEKEZIGyz",
        "outputId": "eeb91b61-b019-47e0-cd82-02ffa306bd53"
      },
      "source": [
        "chi, pvalue, dof, ef = chi2_contingency(matrix)\n",
        "pvalue"
      ],
      "execution_count": 11,
      "outputs": [
        {
          "output_type": "execute_result",
          "data": {
            "text/plain": [
              "0.0"
            ]
          },
          "metadata": {
            "tags": []
          },
          "execution_count": 11
        }
      ]
    },
    {
      "cell_type": "code",
      "metadata": {
        "colab": {
          "base_uri": "https://localhost:8080/"
        },
        "id": "gPT48u2kIRZX",
        "outputId": "a74d26d7-0db0-4edb-feb3-aa03d487b705"
      },
      "source": [
        "odds, pvalue = fisher_exact(matrix)\n",
        "pvalue"
      ],
      "execution_count": 12,
      "outputs": [
        {
          "output_type": "execute_result",
          "data": {
            "text/plain": [
              "2.512571204650446e-63"
            ]
          },
          "metadata": {
            "tags": []
          },
          "execution_count": 12
        }
      ]
    },
    {
      "cell_type": "markdown",
      "metadata": {
        "id": "q6UbsVNr6dtv"
      },
      "source": [
        "### Pandas e Matlibplot"
      ]
    },
    {
      "cell_type": "code",
      "metadata": {
        "id": "2t727ony6nbC"
      },
      "source": [
        "import pandas as pd\n",
        "from matplotlib import pyplot as plt"
      ],
      "execution_count": 13,
      "outputs": []
    },
    {
      "cell_type": "markdown",
      "metadata": {
        "id": "-XKAqVRu7brI"
      },
      "source": [
        "### Câncer de Mama\n",
        "Carregue os dados do arquivo CSV disponível no endereço https://www.dropbox.com/s/o22fjkn3wcyefec/cancer.csv?dl=1 para um Pandas DataFrame com nome “df” e a partir dele:\n",
        "\n",
        "- Plote um histograma dos dados do campo “mean area\" e abaixo, em uma célula de texto, deixe um pequeno comentário sobre a distribuição dos dados (a distribuição é normal? Um teste paramétrico seria apropriado?)\n",
        "\n",
        "-\tPlote um histograma dos dados do campo “mean area\" transformados para logaritmo e abaixo, em uma célula de texto, deixe um pequeno comentário sobre a distribuição dos dados, comparando com os resultados não transformados\n",
        "\n",
        "-\tCrie um novo DataFrame chamado “df_grouped” com os dados agrupados pelo campo “diagnosis” e que contenha a média dos demais campos. \n",
        "\n",
        "-\tCrie um gráfico de barras com os dados do DataFrame “df_grouped” de modo a mostrar a média dos valores no campo “mean area” entre os grupos “cancer” e “not_cancer”\n",
        "\n",
        "-\tUtilize o Teste T de Student para comparar os grupos “cancer” e “not_cancer” com base nos valores para o campo “mean area\". Em uma célula de texto, descreve o resultado da análise (há diferença significativa entre os grupos?). Importante: lembre de aplicar as transformações necessárias nos dados.\n"
      ]
    },
    {
      "cell_type": "code",
      "metadata": {
        "colab": {
          "base_uri": "https://localhost:8080/",
          "height": 196
        },
        "id": "lBpghqOu6orv",
        "outputId": "728ca2f2-0f5d-4831-ee19-d009fa841ff9"
      },
      "source": [
        "#Criando o df e dando uma olhada nele\n",
        "df = pd.read_csv('cancer.csv')\n",
        "df.head(3)"
      ],
      "execution_count": 14,
      "outputs": [
        {
          "output_type": "execute_result",
          "data": {
            "text/html": [
              "<div>\n",
              "<style scoped>\n",
              "    .dataframe tbody tr th:only-of-type {\n",
              "        vertical-align: middle;\n",
              "    }\n",
              "\n",
              "    .dataframe tbody tr th {\n",
              "        vertical-align: top;\n",
              "    }\n",
              "\n",
              "    .dataframe thead th {\n",
              "        text-align: right;\n",
              "    }\n",
              "</style>\n",
              "<table border=\"1\" class=\"dataframe\">\n",
              "  <thead>\n",
              "    <tr style=\"text-align: right;\">\n",
              "      <th></th>\n",
              "      <th>mean radius</th>\n",
              "      <th>mean texture</th>\n",
              "      <th>mean perimeter</th>\n",
              "      <th>mean area</th>\n",
              "      <th>mean smoothness</th>\n",
              "      <th>mean compactness</th>\n",
              "      <th>mean concavity</th>\n",
              "      <th>mean concave points</th>\n",
              "      <th>mean symmetry</th>\n",
              "      <th>mean fractal dimension</th>\n",
              "      <th>radius error</th>\n",
              "      <th>texture error</th>\n",
              "      <th>perimeter error</th>\n",
              "      <th>area error</th>\n",
              "      <th>smoothness error</th>\n",
              "      <th>compactness error</th>\n",
              "      <th>concavity error</th>\n",
              "      <th>concave points error</th>\n",
              "      <th>symmetry error</th>\n",
              "      <th>fractal dimension error</th>\n",
              "      <th>worst radius</th>\n",
              "      <th>worst texture</th>\n",
              "      <th>worst perimeter</th>\n",
              "      <th>worst area</th>\n",
              "      <th>worst smoothness</th>\n",
              "      <th>worst compactness</th>\n",
              "      <th>worst concavity</th>\n",
              "      <th>worst concave points</th>\n",
              "      <th>worst symmetry</th>\n",
              "      <th>worst fractal dimension</th>\n",
              "      <th>diagnosis</th>\n",
              "    </tr>\n",
              "  </thead>\n",
              "  <tbody>\n",
              "    <tr>\n",
              "      <th>0</th>\n",
              "      <td>17.99</td>\n",
              "      <td>10.38</td>\n",
              "      <td>122.8</td>\n",
              "      <td>1001.0</td>\n",
              "      <td>0.11840</td>\n",
              "      <td>0.27760</td>\n",
              "      <td>0.3001</td>\n",
              "      <td>0.14710</td>\n",
              "      <td>0.2419</td>\n",
              "      <td>0.07871</td>\n",
              "      <td>1.0950</td>\n",
              "      <td>0.9053</td>\n",
              "      <td>8.589</td>\n",
              "      <td>153.40</td>\n",
              "      <td>0.006399</td>\n",
              "      <td>0.04904</td>\n",
              "      <td>0.05373</td>\n",
              "      <td>0.01587</td>\n",
              "      <td>0.03003</td>\n",
              "      <td>0.006193</td>\n",
              "      <td>25.38</td>\n",
              "      <td>17.33</td>\n",
              "      <td>184.6</td>\n",
              "      <td>2019.0</td>\n",
              "      <td>0.1622</td>\n",
              "      <td>0.6656</td>\n",
              "      <td>0.7119</td>\n",
              "      <td>0.2654</td>\n",
              "      <td>0.4601</td>\n",
              "      <td>0.11890</td>\n",
              "      <td>cancer</td>\n",
              "    </tr>\n",
              "    <tr>\n",
              "      <th>1</th>\n",
              "      <td>20.57</td>\n",
              "      <td>17.77</td>\n",
              "      <td>132.9</td>\n",
              "      <td>1326.0</td>\n",
              "      <td>0.08474</td>\n",
              "      <td>0.07864</td>\n",
              "      <td>0.0869</td>\n",
              "      <td>0.07017</td>\n",
              "      <td>0.1812</td>\n",
              "      <td>0.05667</td>\n",
              "      <td>0.5435</td>\n",
              "      <td>0.7339</td>\n",
              "      <td>3.398</td>\n",
              "      <td>74.08</td>\n",
              "      <td>0.005225</td>\n",
              "      <td>0.01308</td>\n",
              "      <td>0.01860</td>\n",
              "      <td>0.01340</td>\n",
              "      <td>0.01389</td>\n",
              "      <td>0.003532</td>\n",
              "      <td>24.99</td>\n",
              "      <td>23.41</td>\n",
              "      <td>158.8</td>\n",
              "      <td>1956.0</td>\n",
              "      <td>0.1238</td>\n",
              "      <td>0.1866</td>\n",
              "      <td>0.2416</td>\n",
              "      <td>0.1860</td>\n",
              "      <td>0.2750</td>\n",
              "      <td>0.08902</td>\n",
              "      <td>cancer</td>\n",
              "    </tr>\n",
              "    <tr>\n",
              "      <th>2</th>\n",
              "      <td>19.69</td>\n",
              "      <td>21.25</td>\n",
              "      <td>130.0</td>\n",
              "      <td>1203.0</td>\n",
              "      <td>0.10960</td>\n",
              "      <td>0.15990</td>\n",
              "      <td>0.1974</td>\n",
              "      <td>0.12790</td>\n",
              "      <td>0.2069</td>\n",
              "      <td>0.05999</td>\n",
              "      <td>0.7456</td>\n",
              "      <td>0.7869</td>\n",
              "      <td>4.585</td>\n",
              "      <td>94.03</td>\n",
              "      <td>0.006150</td>\n",
              "      <td>0.04006</td>\n",
              "      <td>0.03832</td>\n",
              "      <td>0.02058</td>\n",
              "      <td>0.02250</td>\n",
              "      <td>0.004571</td>\n",
              "      <td>23.57</td>\n",
              "      <td>25.53</td>\n",
              "      <td>152.5</td>\n",
              "      <td>1709.0</td>\n",
              "      <td>0.1444</td>\n",
              "      <td>0.4245</td>\n",
              "      <td>0.4504</td>\n",
              "      <td>0.2430</td>\n",
              "      <td>0.3613</td>\n",
              "      <td>0.08758</td>\n",
              "      <td>cancer</td>\n",
              "    </tr>\n",
              "  </tbody>\n",
              "</table>\n",
              "</div>"
            ],
            "text/plain": [
              "   mean radius  mean texture  ...  worst fractal dimension  diagnosis\n",
              "0        17.99         10.38  ...                  0.11890     cancer\n",
              "1        20.57         17.77  ...                  0.08902     cancer\n",
              "2        19.69         21.25  ...                  0.08758     cancer\n",
              "\n",
              "[3 rows x 31 columns]"
            ]
          },
          "metadata": {
            "tags": []
          },
          "execution_count": 14
        }
      ]
    },
    {
      "cell_type": "code",
      "metadata": {
        "colab": {
          "base_uri": "https://localhost:8080/",
          "height": 333
        },
        "id": "cGQoHznXL4rM",
        "outputId": "c7246981-c5d8-46e9-d56b-fb08e4044407"
      },
      "source": [
        "plt.hist(df['mean area'], bins=10)"
      ],
      "execution_count": 15,
      "outputs": [
        {
          "output_type": "execute_result",
          "data": {
            "text/plain": [
              "(array([ 93., 251., 101.,  47.,  51.,  14.,   6.,   3.,   1.,   2.]),\n",
              " array([ 143.5 ,  379.25,  615.  ,  850.75, 1086.5 , 1322.25, 1558.  ,\n",
              "        1793.75, 2029.5 , 2265.25, 2501.  ]),\n",
              " <a list of 10 Patch objects>)"
            ]
          },
          "metadata": {
            "tags": []
          },
          "execution_count": 15
        },
        {
          "output_type": "display_data",
          "data": {
            "image/png": "[encoded data removed]",
            "text/plain": [
              "<Figure size 432x288 with 1 Axes>"
            ]
          },
          "metadata": {
            "tags": [],
            "needs_background": "light"
          }
        }
      ]
    },
    {
      "cell_type": "markdown",
      "metadata": {
        "id": "4rN2Y_nySgZs"
      },
      "source": [
        "Os testes paramétricos partem da distribuição normal. Nesse caso, o teste paramétrico não seria uma opção tão adequada, visto que o formato do gráfico remete mais à uma distribuição de Poisson."
      ]
    },
    {
      "cell_type": "code",
      "metadata": {
        "colab": {
          "base_uri": "https://localhost:8080/",
          "height": 352
        },
        "id": "Vj33BbesRszq",
        "outputId": "d0c65d27-a4e8-4323-e505-3d8db350ef80"
      },
      "source": [
        "#Transformação para log\n",
        "plt.hist(np.log(df['mean area']), bins=10)"
      ],
      "execution_count": 16,
      "outputs": [
        {
          "output_type": "execute_result",
          "data": {
            "text/plain": [
              "(array([  4.,  16.,  47., 112., 154.,  96.,  57.,  65.,  14.,   4.]),\n",
              " array([4.96633504, 5.25214612, 5.53795721, 5.8237683 , 6.10957939,\n",
              "        6.39539048, 6.68120157, 6.96701266, 7.25282375, 7.53863484,\n",
              "        7.82444593]),\n",
              " <a list of 10 Patch objects>)"
            ]
          },
          "metadata": {
            "tags": []
          },
          "execution_count": 16
        },
        {
          "output_type": "display_data",
          "data": {
            "image/png": "[encoded data removed]",
            "text/plain": [
              "<Figure size 432x288 with 1 Axes>"
            ]
          },
          "metadata": {
            "tags": [],
            "needs_background": "light"
          }
        }
      ]
    },
    {
      "cell_type": "markdown",
      "metadata": {
        "id": "gyz8PZS8XBSv"
      },
      "source": [
        "A transformação dos valores do campo \"mean area\" para logaritmo afetou a distribuição. A distribuição agora tem um formato mais similar à \"curva em forma de sino\" (associado ao formato de uma distribuição normal)."
      ]
    },
    {
      "cell_type": "code",
      "metadata": {
        "colab": {
          "base_uri": "https://localhost:8080/",
          "height": 196
        },
        "id": "zdrQQyhVDcGj",
        "outputId": "2246c6e8-e54d-410f-8c47-68dd1f47813a"
      },
      "source": [
        "df_grouped = df.groupby('diagnosis').mean()\n",
        "df_grouped"
      ],
      "execution_count": 17,
      "outputs": [
        {
          "output_type": "execute_result",
          "data": {
            "text/html": [
              "<div>\n",
              "<style scoped>\n",
              "    .dataframe tbody tr th:only-of-type {\n",
              "        vertical-align: middle;\n",
              "    }\n",
              "\n",
              "    .dataframe tbody tr th {\n",
              "        vertical-align: top;\n",
              "    }\n",
              "\n",
              "    .dataframe thead th {\n",
              "        text-align: right;\n",
              "    }\n",
              "</style>\n",
              "<table border=\"1\" class=\"dataframe\">\n",
              "  <thead>\n",
              "    <tr style=\"text-align: right;\">\n",
              "      <th></th>\n",
              "      <th>mean radius</th>\n",
              "      <th>mean texture</th>\n",
              "      <th>mean perimeter</th>\n",
              "      <th>mean area</th>\n",
              "      <th>mean smoothness</th>\n",
              "      <th>mean compactness</th>\n",
              "      <th>mean concavity</th>\n",
              "      <th>mean concave points</th>\n",
              "      <th>mean symmetry</th>\n",
              "      <th>mean fractal dimension</th>\n",
              "      <th>radius error</th>\n",
              "      <th>texture error</th>\n",
              "      <th>perimeter error</th>\n",
              "      <th>area error</th>\n",
              "      <th>smoothness error</th>\n",
              "      <th>compactness error</th>\n",
              "      <th>concavity error</th>\n",
              "      <th>concave points error</th>\n",
              "      <th>symmetry error</th>\n",
              "      <th>fractal dimension error</th>\n",
              "      <th>worst radius</th>\n",
              "      <th>worst texture</th>\n",
              "      <th>worst perimeter</th>\n",
              "      <th>worst area</th>\n",
              "      <th>worst smoothness</th>\n",
              "      <th>worst compactness</th>\n",
              "      <th>worst concavity</th>\n",
              "      <th>worst concave points</th>\n",
              "      <th>worst symmetry</th>\n",
              "      <th>worst fractal dimension</th>\n",
              "    </tr>\n",
              "    <tr>\n",
              "      <th>diagnosis</th>\n",
              "      <th></th>\n",
              "      <th></th>\n",
              "      <th></th>\n",
              "      <th></th>\n",
              "      <th></th>\n",
              "      <th></th>\n",
              "      <th></th>\n",
              "      <th></th>\n",
              "      <th></th>\n",
              "      <th></th>\n",
              "      <th></th>\n",
              "      <th></th>\n",
              "      <th></th>\n",
              "      <th></th>\n",
              "      <th></th>\n",
              "      <th></th>\n",
              "      <th></th>\n",
              "      <th></th>\n",
              "      <th></th>\n",
              "      <th></th>\n",
              "      <th></th>\n",
              "      <th></th>\n",
              "      <th></th>\n",
              "      <th></th>\n",
              "      <th></th>\n",
              "      <th></th>\n",
              "      <th></th>\n",
              "      <th></th>\n",
              "      <th></th>\n",
              "      <th></th>\n",
              "    </tr>\n",
              "  </thead>\n",
              "  <tbody>\n",
              "    <tr>\n",
              "      <th>cancer</th>\n",
              "      <td>17.462830</td>\n",
              "      <td>21.604906</td>\n",
              "      <td>115.365377</td>\n",
              "      <td>978.376415</td>\n",
              "      <td>0.102898</td>\n",
              "      <td>0.145188</td>\n",
              "      <td>0.160775</td>\n",
              "      <td>0.087990</td>\n",
              "      <td>0.192909</td>\n",
              "      <td>0.062680</td>\n",
              "      <td>0.609083</td>\n",
              "      <td>1.210915</td>\n",
              "      <td>4.323929</td>\n",
              "      <td>72.672406</td>\n",
              "      <td>0.006780</td>\n",
              "      <td>0.032281</td>\n",
              "      <td>0.041824</td>\n",
              "      <td>0.015060</td>\n",
              "      <td>0.020472</td>\n",
              "      <td>0.004062</td>\n",
              "      <td>21.134811</td>\n",
              "      <td>29.318208</td>\n",
              "      <td>141.370330</td>\n",
              "      <td>1422.286321</td>\n",
              "      <td>0.144845</td>\n",
              "      <td>0.374824</td>\n",
              "      <td>0.450606</td>\n",
              "      <td>0.182237</td>\n",
              "      <td>0.323468</td>\n",
              "      <td>0.091530</td>\n",
              "    </tr>\n",
              "    <tr>\n",
              "      <th>not_cancer</th>\n",
              "      <td>12.146524</td>\n",
              "      <td>17.914762</td>\n",
              "      <td>78.075406</td>\n",
              "      <td>462.790196</td>\n",
              "      <td>0.092478</td>\n",
              "      <td>0.080085</td>\n",
              "      <td>0.046058</td>\n",
              "      <td>0.025717</td>\n",
              "      <td>0.174186</td>\n",
              "      <td>0.062867</td>\n",
              "      <td>0.284082</td>\n",
              "      <td>1.220380</td>\n",
              "      <td>2.000321</td>\n",
              "      <td>21.135148</td>\n",
              "      <td>0.007196</td>\n",
              "      <td>0.021438</td>\n",
              "      <td>0.025997</td>\n",
              "      <td>0.009858</td>\n",
              "      <td>0.020584</td>\n",
              "      <td>0.003636</td>\n",
              "      <td>13.379801</td>\n",
              "      <td>23.515070</td>\n",
              "      <td>87.005938</td>\n",
              "      <td>558.899440</td>\n",
              "      <td>0.124959</td>\n",
              "      <td>0.182673</td>\n",
              "      <td>0.166238</td>\n",
              "      <td>0.074444</td>\n",
              "      <td>0.270246</td>\n",
              "      <td>0.079442</td>\n",
              "    </tr>\n",
              "  </tbody>\n",
              "</table>\n",
              "</div>"
            ],
            "text/plain": [
              "            mean radius  mean texture  ...  worst symmetry  worst fractal dimension\n",
              "diagnosis                              ...                                         \n",
              "cancer        17.462830     21.604906  ...        0.323468                 0.091530\n",
              "not_cancer    12.146524     17.914762  ...        0.270246                 0.079442\n",
              "\n",
              "[2 rows x 30 columns]"
            ]
          },
          "metadata": {
            "tags": []
          },
          "execution_count": 17
        }
      ]
    },
    {
      "cell_type": "code",
      "metadata": {
        "colab": {
          "base_uri": "https://localhost:8080/",
          "height": 283
        },
        "id": "D0ebV-76M8dx",
        "outputId": "bf20ebfe-2526-44fe-cb50-9b7b61b7a4a2"
      },
      "source": [
        "plt.bar(df_grouped.index, df_grouped['mean area'])"
      ],
      "execution_count": 18,
      "outputs": [
        {
          "output_type": "execute_result",
          "data": {
            "text/plain": [
              "<BarContainer object of 2 artists>"
            ]
          },
          "metadata": {
            "tags": []
          },
          "execution_count": 18
        },
        {
          "output_type": "display_data",
          "data": {
            "image/png": "[encoded data removed]",
            "text/plain": [
              "<Figure size 432x288 with 1 Axes>"
            ]
          },
          "metadata": {
            "tags": [],
            "needs_background": "light"
          }
        }
      ]
    },
    {
      "cell_type": "markdown",
      "metadata": {
        "id": "Pt4iTk_EJHl-"
      },
      "source": [
        "Teste T:"
      ]
    },
    {
      "cell_type": "code",
      "metadata": {
        "id": "H_DdQ2hUJJS7"
      },
      "source": [
        "from scipy.stats import ttest_ind\n"
      ],
      "execution_count": 19,
      "outputs": []
    },
    {
      "cell_type": "code",
      "metadata": {
        "id": "a83kwzLKtZsR"
      },
      "source": [
        "cancer = df.query('diagnosis ==\"cancer\"')['mean area']\n",
        "\n",
        "not_cancer = df.query('diagnosis ==\"not_cancer\"')['mean area']"
      ],
      "execution_count": 20,
      "outputs": []
    },
    {
      "cell_type": "code",
      "metadata": {
        "colab": {
          "base_uri": "https://localhost:8080/"
        },
        "id": "miliqF-HNF4g",
        "outputId": "2307f92f-5de3-442b-a8f3-aa9a3c2d6e45"
      },
      "source": [
        "t_statistics, pvalue = ttest_ind(cancer, not_cancer)\n",
        "pvalue"
      ],
      "execution_count": 21,
      "outputs": [
        {
          "output_type": "execute_result",
          "data": {
            "text/plain": [
              "4.734564310307344e-88"
            ]
          },
          "metadata": {
            "tags": []
          },
          "execution_count": 21
        }
      ]
    },
    {
      "cell_type": "markdown",
      "metadata": {
        "id": "KUqIBWy3viYS"
      },
      "source": [
        "Houve diferença diferença significativa estatística entre os grupos cancer e not_cancer."
      ]
    }
  ]
}