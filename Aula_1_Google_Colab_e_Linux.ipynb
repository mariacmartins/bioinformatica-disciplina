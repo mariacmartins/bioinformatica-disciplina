{
  "nbformat": 4,
  "nbformat_minor": 0,
  "metadata": {
    "colab": {
      "name": "Aula 1: Google Colab e Linux.ipynb",
      "provenance": []
    },
    "kernelspec": {
      "name": "python3",
      "display_name": "Python 3"
    }
  },
  "cells": [
    {
      "cell_type": "markdown",
      "metadata": {
        "id": "crGx5Q41xtNJ"
      },
      "source": [
        "# Aula 1: Google Colab\r\n",
        "![linux_colab.png](data:image/png;base64,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)\r\n"
      ]
    },
    {
      "cell_type": "markdown",
      "metadata": {
        "id": "_SOghJ2_u8yc"
      },
      "source": [
        "## Resumo\r\n",
        "O Google Colab é um ambiente de armazenamento em nuvem de notebooks, executado diretamente no navegador, sem a necessidade de nenhum tipo de instalação de software em  máquina. Os notebooks permitem combinar códigos executáveis (por exemplo, códigos em **Python**) com textos e imagens utilizando **Markdown**.\r\n",
        "\r\n",
        "Além disso, também podemos executar comandos de **Linux** nas *células* de código executáveis.\r\n",
        "\r\n",
        "Exemplos de comandos e seus significados:\r\n",
        "\r\n",
        "- !ls: listar os arquivos (conteúdo) de uma pasta \r\n",
        "- !wget: baixar arquivos\r\n",
        "- !rm: remover arquivos\r\n",
        "- !mkdir: criar um diretório\r\n",
        "- !gzip: descompactar arquivos\r\n",
        "\r\n",
        "[Acesse aqui para mais informações sobre comandos](https://www.hostinger.com/tutorials/linux-commands)"
      ]
    },
    {
      "cell_type": "code",
      "metadata": {
        "id": "e07SfxFuAkt3"
      },
      "source": [
        "#Criando uma pasta chamada data\r\n",
        "!mkdir data"
      ],
      "execution_count": 1,
      "outputs": []
    },
    {
      "cell_type": "code",
      "metadata": {
        "colab": {
          "base_uri": "https://localhost:8080/"
        },
        "id": "6r8O3eGRqh6k",
        "outputId": "270551f5-49c6-47b8-eaee-f46362ecc291"
      },
      "source": [
        "#Baixando o arquivo, salvando na pasta data e renomeando o arquivo para uniprot_sprot.fasta.gz\r\n",
        "!wget -O data/uniprot_sprot.fasta.gz https://ftp.uniprot.org/pub/databases/uniprot/current_release/knowledgebase/complete/uniprot_sprot.fasta.gz"
      ],
      "execution_count": 2,
      "outputs": [
        {
          "output_type": "stream",
          "text": [
            "--2021-03-15 13:14:20--  https://ftp.uniprot.org/pub/databases/uniprot/current_release/knowledgebase/complete/uniprot_sprot.fasta.gz\n",
            "Resolving ftp.uniprot.org (ftp.uniprot.org)... 141.161.180.197\n",
            "Connecting to ftp.uniprot.org (ftp.uniprot.org)|141.161.180.197|:443... connected.\n",
            "HTTP request sent, awaiting response... 200 OK\n",
            "Length: 89862102 (86M) [application/x-gzip]\n",
            "Saving to: ‘data/uniprot_sprot.fasta.gz’\n",
            "\n",
            "data/uniprot_sprot. 100%[===================>]  85.70M  6.24MB/s    in 21s     \n",
            "\n",
            "2021-03-15 13:14:42 (4.04 MB/s) - ‘data/uniprot_sprot.fasta.gz’ saved [89862102/89862102]\n",
            "\n"
          ],
          "name": "stdout"
        }
      ]
    },
    {
      "cell_type": "code",
      "metadata": {
        "id": "M9brSI41231e"
      },
      "source": [
        "#Descompactando arquivos\r\n",
        "!gzip -d data/uniprot_sprot.fasta.gz"
      ],
      "execution_count": 4,
      "outputs": []
    },
    {
      "cell_type": "code",
      "metadata": {
        "colab": {
          "base_uri": "https://localhost:8080/"
        },
        "id": "JTtzuVTQC5Wr",
        "outputId": "cd4df6c4-02c4-409e-ddb1-6a8b47f2bde8"
      },
      "source": [
        "!ls"
      ],
      "execution_count": 7,
      "outputs": [
        {
          "output_type": "stream",
          "text": [
            "data  sample_data\n"
          ],
          "name": "stdout"
        }
      ]
    },
    {
      "cell_type": "code",
      "metadata": {
        "colab": {
          "base_uri": "https://localhost:8080/"
        },
        "id": "CPZwSSGcBmHt",
        "outputId": "41f2b26b-72ba-4c3c-d819-03e743d2e88f"
      },
      "source": [
        "#Listando os arquivos dentro da pasta data\r\n",
        "!ls data"
      ],
      "execution_count": 5,
      "outputs": [
        {
          "output_type": "stream",
          "text": [
            "uniprot_sprot.fasta\n"
          ],
          "name": "stdout"
        }
      ]
    },
    {
      "cell_type": "code",
      "metadata": {
        "colab": {
          "base_uri": "https://localhost:8080/"
        },
        "id": "JeKFGGsW2y6R",
        "outputId": "e221645e-ce41-42b2-ca6c-a2f6dcaf1a65"
      },
      "source": [
        "#Head para ver as primeiras 10 linhas do arquivo “uniprot_sprot.fasta” \r\n",
        "!head -10 data/uniprot_sprot.fasta"
      ],
      "execution_count": 6,
      "outputs": [
        {
          "output_type": "stream",
          "text": [
            ">sp|Q6GZX4|001R_FRG3G Putative transcription factor 001R OS=Frog virus 3 (isolate Goorha) OX=654924 GN=FV3-001R PE=4 SV=1\n",
            "MAFSAEDVLKEYDRRRRMEALLLSLYYPNDRKLLDYKEWSPPRVQVECPKAPVEWNNPPS\n",
            "EKGLIVGHFSGIKYKGEKAQASEVDVNKMCCWVSKFKDAMRRYQGIQTCKIPGKVLSDLD\n",
            "AKIKAYNLTVEGVEGFVRYSRVTKQHVAAFLKELRHSKQYENVNLIHYILTDKRVDIQHL\n",
            "EKDLVKDFKALVESAHRMRQGHMINVKYILYQLLKKHGHGPDGPDILTVKTGSKGVLYDD\n",
            "SFRKIYTDLGWKFTPL\n",
            ">sp|Q6GZX3|002L_FRG3G Uncharacterized protein 002L OS=Frog virus 3 (isolate Goorha) OX=654924 GN=FV3-002L PE=4 SV=1\n",
            "MSIIGATRLQNDKSDTYSAGPCYAGGCSAFTPRGTCGKDWDLGEQTCASGFCTSQPLCAR\n",
            "IKKTQVCGLRYSSKGKDPLVSAEWDSRGAPYVRCTYDADLIDTQAQVDQFVSMFGESPSL\n",
            "AERYCMRGVKNTAGELVSRVSSDADPAGGWCRKWYSAHRGPDQDAALGSFCIKNPGAADC\n"
          ],
          "name": "stdout"
        }
      ]
    }
  ]
}