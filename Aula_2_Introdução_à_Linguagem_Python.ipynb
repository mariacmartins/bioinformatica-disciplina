{
  "nbformat": 4,
  "nbformat_minor": 0,
  "metadata": {
    "colab": {
      "name": "Aula 2: Introdução à Linguagem Python.ipynb",
      "provenance": [],
      "authorship_tag": "ABX9TyMkPKtK7n2te2sUDG8XAPvt",
      "include_colab_link": true
    },
    "kernelspec": {
      "name": "python3",
      "display_name": "Python 3"
    },
    "language_info": {
      "name": "python"
    }
  },
  "cells": [
    {
      "cell_type": "markdown",
      "metadata": {
        "id": "view-in-github",
        "colab_type": "text"
      },
      "source": [
        "<a href=\"https://colab.research.google.com/github/mariacmartins/bioinformatica-disciplina/blob/main/Aula_2_Introdu%C3%A7%C3%A3o_%C3%A0_Linguagem_Python.ipynb\" target=\"_parent\"><img src=\"https://colab.research.google.com/assets/colab-badge.svg\" alt=\"Open In Colab\"/></a>"
      ]
    },
    {
      "cell_type": "markdown",
      "metadata": {
        "id": "_ga57G2au1xT"
      },
      "source": [
        "# Aula 2: Introdução à Linguagem Python\n",
        "\n",
        "Python é uma linguagem de programação interpretada e tipada. Pode ser utilizada para bioinformática devido a sua sintaxe simples, além de possuir uma diversa coleção de ferramentas e libs voltadas para à área de bioinformática e ser amplamente utilizada para análises de dados."
      ]
    },
    {
      "cell_type": "markdown",
      "metadata": {
        "id": "NUJY8Am5xN0i"
      },
      "source": [
        "- **Círculo:** Utilizando as operações matemáticas do Python vistas em aula, calcule o perímetro e a área de um círculo com o raio igual ao radius, armazenando os valores calculados, respectivamente, nas variáveis **circle_perimeter** e **circle_area**."
      ]
    },
    {
      "cell_type": "code",
      "metadata": {
        "id": "XeuQH3NxrW_g"
      },
      "source": [
        "pi = 3.14\n",
        "radius = 5 \n"
      ],
      "execution_count": 1,
      "outputs": []
    },
    {
      "cell_type": "code",
      "metadata": {
        "colab": {
          "base_uri": "https://localhost:8080/"
        },
        "id": "TRn5htB3wPk2",
        "outputId": "5ad7ad11-0638-4186-ee1e-3151cf494546"
      },
      "source": [
        "circle_perimeter = 2 * pi * radius \n",
        "circle_perimeter"
      ],
      "execution_count": 2,
      "outputs": [
        {
          "output_type": "execute_result",
          "data": {
            "text/plain": [
              "31.400000000000002"
            ]
          },
          "metadata": {
            "tags": []
          },
          "execution_count": 2
        }
      ]
    },
    {
      "cell_type": "code",
      "metadata": {
        "colab": {
          "base_uri": "https://localhost:8080/"
        },
        "id": "-M3buYDzwm-G",
        "outputId": "8d2ef5f5-74d7-490c-e928-9da37d8376f3"
      },
      "source": [
        "circle_area = pi * (radius * radius)\n",
        "circle_area"
      ],
      "execution_count": 3,
      "outputs": [
        {
          "output_type": "execute_result",
          "data": {
            "text/plain": [
              "78.5"
            ]
          },
          "metadata": {
            "tags": []
          },
          "execution_count": 3
        }
      ]
    },
    {
      "cell_type": "markdown",
      "metadata": {
        "id": "V_BH0_EKyFnN"
      },
      "source": [
        "- **Bhaskara – parte I:** Utilizando as operações matemáticas do Python vistas em aula, calcule as raízes (x_1 e x_2) de uma equação do segundo grau para as variáveis acima. "
      ]
    },
    {
      "cell_type": "code",
      "metadata": {
        "colab": {
          "base_uri": "https://localhost:8080/"
        },
        "id": "0CyxFsuLBZ6t",
        "outputId": "007dde22-878d-48e8-e92e-c04f1b58bf6f"
      },
      "source": [
        "a = -5\n",
        "b = 2\n",
        "c = 3\n",
        "\n",
        "delta = (b ** 2) - 4 * a * c\n",
        "x_1 = (-b + delta ** (1 / 2)) / (2 * a)\n",
        "x_2 = (-b - delta ** (1 / 2)) / (2 * a)\n",
        "\n",
        "print(f\"delta: {delta}, x_1: {x_1}, x_2: {x_2}\")"
      ],
      "execution_count": 4,
      "outputs": [
        {
          "output_type": "stream",
          "text": [
            "delta: 64, x_1: -0.6, x_2: 1.0\n"
          ],
          "name": "stdout"
        }
      ]
    },
    {
      "cell_type": "markdown",
      "metadata": {
        "id": "ZcJh6CnwGEW6"
      },
      "source": [
        "- **Transcrição – parte I:** Crie uma célula de código e nela defina uma variável dna_sequence, nela armazenando uma sequência de DNA à sua escolha. Utilize o método .replace para produzir a sequência de RNA correspondente, armazenando o resultado em uma variável rna_sequence.\n",
        "\n",
        "OBS: Os nucleotídeos encontrados no DNA diferenciam-se dos encontrados no RNA pelo fato de que, no RNA, o açúcar é a ribose (por isso são chamados de ribonucleotídeos) e a base nitrogenada é a uracila (U) em vez da timina (T)."
      ]
    },
    {
      "cell_type": "code",
      "metadata": {
        "colab": {
          "base_uri": "https://localhost:8080/",
          "height": 35
        },
        "id": "9-7v5LzKGN7G",
        "outputId": "fafe10d1-f21f-4b9b-c734-2eae96b0faf3"
      },
      "source": [
        "dna_sequence = \"tccctggatg\"\n",
        "rna_sequence = dna_sequence.replace(\"t\", \"u\")\n",
        "\n",
        "rna_sequence"
      ],
      "execution_count": 5,
      "outputs": [
        {
          "output_type": "execute_result",
          "data": {
            "application/vnd.google.colaboratory.intrinsic+json": {
              "type": "string"
            },
            "text/plain": [
              "'ucccuggaug'"
            ]
          },
          "metadata": {
            "tags": []
          },
          "execution_count": 5
        }
      ]
    },
    {
      "cell_type": "markdown",
      "metadata": {
        "id": "MhmDZmv6ICLX"
      },
      "source": [
        "- **Short Sequence Repeat (SSR):** Crie uma célula de código e nela a seguinte variável: \n",
        "ssr_repeat = “GCATCGAC”. \n",
        "Utilizando as operações matemáticas para string, produza duas novas variáveis que contenham a sequência do alelo de indivíduos com 5 e 7 repetições neste locus. O nome das variáveis deve ser ssr_allele_5 e ssr_allele_7.\n"
      ]
    },
    {
      "cell_type": "code",
      "metadata": {
        "colab": {
          "base_uri": "https://localhost:8080/"
        },
        "id": "3po31DLwIbop",
        "outputId": "91bde818-8447-4761-9901-d5dfdb105923"
      },
      "source": [
        "ssr_repeat = \"GCATCGAC\"\n",
        "ssr_allele_5 = ssr_repeat * 5\n",
        "ssr_allele_7 = ssr_repeat * 7\n",
        "\n",
        "print(f\"ssr_allele_5: {ssr_allele_5}, ssr_allele_7: {ssr_allele_7}\")"
      ],
      "execution_count": 6,
      "outputs": [
        {
          "output_type": "stream",
          "text": [
            "ssr_allele_5: GCATCGACGCATCGACGCATCGACGCATCGACGCATCGAC, ssr_allele_7: GCATCGACGCATCGACGCATCGACGCATCGACGCATCGACGCATCGACGCATCGAC\n"
          ],
          "name": "stdout"
        }
      ]
    },
    {
      "cell_type": "markdown",
      "metadata": {
        "id": "pULAi7VqJORo"
      },
      "source": [
        "- **Primeiro códon – parte I:** Crie uma célula de código e nela uma variável chamada dna_sequence e nela insira uma sequência de DNA. Utilizando as operações de slicing, selecione apenas o primeiro códon da sequência a armazene ele em uma variável chamada codon."
      ]
    },
    {
      "cell_type": "code",
      "metadata": {
        "colab": {
          "base_uri": "https://localhost:8080/",
          "height": 35
        },
        "id": "uQdXDEfsJV4H",
        "outputId": "d87c9326-75c3-4907-b40c-e0912af53aca"
      },
      "source": [
        "dna_sequence = \"CCGATATGAAGCACT\"\n",
        "codon = dna_sequence[0:3]\n",
        "codon"
      ],
      "execution_count": 7,
      "outputs": [
        {
          "output_type": "execute_result",
          "data": {
            "application/vnd.google.colaboratory.intrinsic+json": {
              "type": "string"
            },
            "text/plain": [
              "'CCG'"
            ]
          },
          "metadata": {
            "tags": []
          },
          "execution_count": 7
        }
      ]
    },
    {
      "cell_type": "markdown",
      "metadata": {
        "id": "Aahygyv2K5zS"
      },
      "source": [
        "- **Primeiro códon – parte II:** Replique o código do exercício anterior em uma nova célula de código, adicionando ao final uma estruturação if para checar se o primeiro códon da sequência é um ATG. Se for, a mensagem “É um códon de iniciação” deve ser mostrada. Caso contrário, a mensagem “Não é um códon de iniciação” deve ser mostrada."
      ]
    },
    {
      "cell_type": "code",
      "metadata": {
        "colab": {
          "base_uri": "https://localhost:8080/"
        },
        "id": "HaV2J8p-LAej",
        "outputId": "2edc5a41-4d64-42ec-d2d0-75dd43228de0"
      },
      "source": [
        "dna_sequence = \"CCGATATGAAGCACT\"\n",
        "codon = dna_sequence[0:3]\n",
        "\n",
        "if codon == \"ATG\":\n",
        "  print(\"É um códon de iniciação\")\n",
        "else:\n",
        "  print(\"Não é um códon de iniciação\")"
      ],
      "execution_count": 8,
      "outputs": [
        {
          "output_type": "stream",
          "text": [
            "Não é um códon de iniciação\n"
          ],
          "name": "stdout"
        }
      ]
    },
    {
      "cell_type": "markdown",
      "metadata": {
        "id": "juctR0EqLa8X"
      },
      "source": [
        "- **Fim de transcrição:** Crie uma nova células de código e nela as seguintes variáveis:\n",
        "sequence_codons = [‘ATG’, ‘GGG’, ‘CCC’, ‘AAA’, ‘TAA’, ‘GGC’]\n",
        "stop_codons = [‘TAA’, ‘TGA’, ‘TAG’]. Percorra os códons da lista sequence_codons utilizando a estrutura for e cheque, utilizando uma estrutura if, se o códon está na lista de códons de terminação (stop_codons). Se estivar, a mensagem “códon de terminação encontrado” deve ser mostrada e o for deve ser interrompido com um break. Caso contrário, mostrar a sequência do códon com um print.\n"
      ]
    },
    {
      "cell_type": "code",
      "metadata": {
        "colab": {
          "base_uri": "https://localhost:8080/"
        },
        "id": "hgb9M9RsLpIv",
        "outputId": "dc1ab979-1fc0-4d6a-c311-b93307100380"
      },
      "source": [
        "sequence_codons = [\"ATG\", \"GGG\", \"CCC\", \"AAA\", \"TAA\", \"GGC\"]\n",
        "stop_codons = [\"TAA\", \"TGA\", \"TAG\"]\n",
        "\n",
        "for codon in sequence_codons:\n",
        "  if codon in stop_codons:\n",
        "    print(\"Códon de terminação encontrado\")\n",
        "    break\n",
        "  else: \n",
        "    print(codon)\n"
      ],
      "execution_count": 9,
      "outputs": [
        {
          "output_type": "stream",
          "text": [
            "ATG\n",
            "GGG\n",
            "CCC\n",
            "AAA\n",
            "Códon de terminação encontrado\n"
          ],
          "name": "stdout"
        }
      ]
    },
    {
      "cell_type": "markdown",
      "metadata": {
        "id": "y27kUbs_Ndpj"
      },
      "source": [
        "- **Complementariedade de base:** Crie uma nova célula de código e nela um dicionário chamado base_complements que armazene os dados de complementariedade de base e uma variável dna_sequence que armazene uma sequência de DNA à sua escolha. Utilizando a estrutura for, percorra as bases da sequência armazenada na dna_sequence e mostre a sua respectiva base complementar."
      ]
    },
    {
      "cell_type": "code",
      "metadata": {
        "colab": {
          "base_uri": "https://localhost:8080/"
        },
        "id": "lh0gb521Nj3W",
        "outputId": "6b98cc76-cb39-42f2-ca9a-e9165d743290"
      },
      "source": [
        "dna_sequence = \"CCGATATGAAGCACT\"\n",
        "base_complement = {\"A\":\"T\", \"T\":\"A\", \"G\":\"C\", \"C\":\"G\"}\n",
        "\n",
        "dna_sequence_complement = \"\"\n",
        "\n",
        "for base in dna_sequence:\n",
        "  dna_sequence_complement += base_complement[base]\n",
        "\n",
        "print(dna_sequence)\n",
        "print(dna_sequence_complement)\n"
      ],
      "execution_count": 10,
      "outputs": [
        {
          "output_type": "stream",
          "text": [
            "CCGATATGAAGCACT\n",
            "GGCTATACTTCGTGA\n"
          ],
          "name": "stdout"
        }
      ]
    },
    {
      "cell_type": "markdown",
      "metadata": {
        "id": "gSZ4jXvIXPxf"
      },
      "source": [
        "- **Baskara – parte II:** Crie uma nova célula de código e nela uma função que receba os parâmetros a, b e c de uma função de segundo grau e retorne as raízes x_1 e x_2, de modo similar à atividade 5. Teste a função utilizando os mesmos valores utilizados na atividade 5."
      ]
    },
    {
      "cell_type": "code",
      "metadata": {
        "colab": {
          "base_uri": "https://localhost:8080/"
        },
        "id": "GxNDjG9iYZ96",
        "outputId": "cab6e224-b673-4d9c-9ee8-e33cd66bd2ad"
      },
      "source": [
        "\n",
        "def bhaskara(a, b, c):\n",
        "  delta = (b ** 2) - 4 * a * c\n",
        "  x_1 = (-b + delta ** (1 / 2)) / (2 * a)\n",
        "  x_2 = (-b - delta ** (1 / 2)) / (2 * a)\n",
        "  return print(f\"x_1: {x_1}, x_2: {x_2}\")\n",
        "\n",
        "bhaskara(a=-5, b=2, c=3)\n"
      ],
      "execution_count": 11,
      "outputs": [
        {
          "output_type": "stream",
          "text": [
            "x_1: -0.6, x_2: 1.0\n"
          ],
          "name": "stdout"
        }
      ]
    },
    {
      "cell_type": "markdown",
      "metadata": {
        "id": "lQUAVPzzZ3MR"
      },
      "source": [
        "- **Transcrição – parte II:** Cria uma  nova célula de codigo e nela função que receba através do parâmetro dna_sequence uma sequência de DNA e retorne a sequência de RNA correspondente, de modo similar à atividade 6. "
      ]
    },
    {
      "cell_type": "code",
      "metadata": {
        "colab": {
          "base_uri": "https://localhost:8080/",
          "height": 35
        },
        "id": "p8uZyOLrZ7TH",
        "outputId": "f5ee44a5-8048-42bb-d7ae-60177b6cc7a9"
      },
      "source": [
        "def rna_match(dna_sequence):\n",
        "  rna_sequence = dna_sequence.replace(\"t\", \"u\")\n",
        "  return rna_sequence\n",
        "\n",
        "rna_match(dna_sequence=\"tccctggatg\")"
      ],
      "execution_count": 12,
      "outputs": [
        {
          "output_type": "execute_result",
          "data": {
            "application/vnd.google.colaboratory.intrinsic+json": {
              "type": "string"
            },
            "text/plain": [
              "'ucccuggaug'"
            ]
          },
          "metadata": {
            "tags": []
          },
          "execution_count": 12
        }
      ]
    }
  ]
}