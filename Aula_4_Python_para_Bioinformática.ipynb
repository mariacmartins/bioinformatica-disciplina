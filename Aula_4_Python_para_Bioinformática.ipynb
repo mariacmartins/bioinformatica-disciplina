{
  "nbformat": 4,
  "nbformat_minor": 0,
  "metadata": {
    "colab": {
      "name": "Aula 4: Python para Bioinformática.ipynb",
      "provenance": [],
      "authorship_tag": "ABX9TyN8VwrMmXQvcsE9JSwZlkyj",
      "include_colab_link": true
    },
    "kernelspec": {
      "name": "python3",
      "display_name": "Python 3"
    },
    "language_info": {
      "name": "python"
    }
  },
  "cells": [
    {
      "cell_type": "markdown",
      "metadata": {
        "id": "view-in-github",
        "colab_type": "text"
      },
      "source": [
        "<a href=\"https://colab.research.google.com/github/mariacmartins/bioinformatica-disciplina/blob/main/Aula_4_Python_para_Bioinform%C3%A1tica.ipynb\" target=\"_parent\"><img src=\"https://colab.research.google.com/assets/colab-badge.svg\" alt=\"Open In Colab\"/></a>"
      ]
    },
    {
      "cell_type": "markdown",
      "metadata": {
        "id": "83NVtH-8zhg8"
      },
      "source": [
        "# Aula 4: Python para Bioinformática\n",
        "\n",
        "## BioPython: \n",
        "Uma biblioteca para leitura, escrita, manipulação e visualização de dados biológicos disponível para a linguagem Python.\n",
        "\n",
        "**Submódulos do Biopython**:\n",
        "- Seq: Permite representar sequências biológicas (DNA, RNA ou proteínas) e disponibiliza uma série de métodos interessantes para a manipulação destas sequências.\n",
        "- SeqIO: Permite que façamos a leitura e escrita de diferentes formatos de arquivo de sequência.\n",
        "- SeqUtils: Permite fazer predições e analisar propriedades de moléculas.\n",
        "- Align: Ferramenta para alinhamentos múltiplos.\n",
        "- AlignIO: Ler os dados de alinhamento.\n",
        "-Phylo: Utilizado para análises de filogenética e construção de árvores filogenéticas."
      ]
    },
    {
      "cell_type": "code",
      "metadata": {
        "colab": {
          "base_uri": "https://localhost:8080/"
        },
        "id": "qNX1vY5LzRiK",
        "outputId": "629923d9-723f-49ec-cb32-dff1b1c0957c"
      },
      "source": [
        "!pip install biopython"
      ],
      "execution_count": 1,
      "outputs": [
        {
          "output_type": "stream",
          "text": [
            "Requirement already satisfied: biopython in /usr/local/lib/python3.7/dist-packages (1.78)\n",
            "Requirement already satisfied: numpy in /usr/local/lib/python3.7/dist-packages (from biopython) (1.19.5)\n"
          ],
          "name": "stdout"
        }
      ]
    },
    {
      "cell_type": "code",
      "metadata": {
        "colab": {
          "base_uri": "https://localhost:8080/"
        },
        "id": "yxFcr45f113H",
        "outputId": "2ae9fedc-f807-4b97-e4a7-264bcbc3cfa7"
      },
      "source": [
        "!apt install muscle"
      ],
      "execution_count": 2,
      "outputs": [
        {
          "output_type": "stream",
          "text": [
            "Reading package lists... Done\n",
            "Building dependency tree       \n",
            "Reading state information... Done\n",
            "muscle is already the newest version (1:3.8.31+dfsg-3).\n",
            "0 upgraded, 0 newly installed, 0 to remove and 30 not upgraded.\n"
          ],
          "name": "stdout"
        }
      ]
    },
    {
      "cell_type": "markdown",
      "metadata": {
        "id": "89K9OH1q4Dbi"
      },
      "source": [
        "### Dogma central:\n",
        "Utilizando a classe Seq disponível no módulo Bio.Seq, crie uma variável chamada dna_sequence para representar a sequência de DNA \"ATGTTTAAATGA\" e a partir desta:\n",
        "- Gere a sequência de DNA complementar (reverse complement)\n",
        "- Gere a sequência de RNA\n",
        "- Gere a sequência de proteína\n"
      ]
    },
    {
      "cell_type": "code",
      "metadata": {
        "id": "9vuYUJIr25qZ"
      },
      "source": [
        "from Bio.Seq import Seq "
      ],
      "execution_count": 3,
      "outputs": []
    },
    {
      "cell_type": "code",
      "metadata": {
        "colab": {
          "base_uri": "https://localhost:8080/"
        },
        "id": "nyUrwiqC3Srn",
        "outputId": "2c2c9b1c-1890-4d2a-f194-020a7e5ac777"
      },
      "source": [
        "dna_sequence = Seq(\"ATGTTTAAATGA\")\n",
        "dna_sequence"
      ],
      "execution_count": 4,
      "outputs": [
        {
          "output_type": "execute_result",
          "data": {
            "text/plain": [
              "Seq('ATGTTTAAATGA')"
            ]
          },
          "metadata": {
            "tags": []
          },
          "execution_count": 4
        }
      ]
    },
    {
      "cell_type": "code",
      "metadata": {
        "colab": {
          "base_uri": "https://localhost:8080/"
        },
        "id": "M5Uh0ic03aWG",
        "outputId": "e446402a-91e8-4aa0-b3dc-b210fb8ddfaa"
      },
      "source": [
        "# sequência de DNA complementar\n",
        "dna_sequence.reverse_complement()"
      ],
      "execution_count": 5,
      "outputs": [
        {
          "output_type": "execute_result",
          "data": {
            "text/plain": [
              "Seq('TCATTTAAACAT')"
            ]
          },
          "metadata": {
            "tags": []
          },
          "execution_count": 5
        }
      ]
    },
    {
      "cell_type": "code",
      "metadata": {
        "colab": {
          "base_uri": "https://localhost:8080/"
        },
        "id": "-9RSLfAi4xmc",
        "outputId": "b9b2d961-c427-4a04-9c87-de23bebe91c8"
      },
      "source": [
        "# sequência de RNA\n",
        "dna_sequence.transcribe()"
      ],
      "execution_count": 6,
      "outputs": [
        {
          "output_type": "execute_result",
          "data": {
            "text/plain": [
              "Seq('AUGUUUAAAUGA')"
            ]
          },
          "metadata": {
            "tags": []
          },
          "execution_count": 6
        }
      ]
    },
    {
      "cell_type": "code",
      "metadata": {
        "colab": {
          "base_uri": "https://localhost:8080/"
        },
        "id": "Y2Sd4qyb5IjW",
        "outputId": "24c44f0b-f478-4725-ab84-eb67e2c3d689"
      },
      "source": [
        "# sequência de proteína\n",
        "dna_sequence.translate()"
      ],
      "execution_count": 7,
      "outputs": [
        {
          "output_type": "execute_result",
          "data": {
            "text/plain": [
              "Seq('MFK*')"
            ]
          },
          "metadata": {
            "tags": []
          },
          "execution_count": 7
        }
      ]
    },
    {
      "cell_type": "markdown",
      "metadata": {
        "id": "q9PDTLhg881w"
      },
      "source": [
        "### 2D Electrophoresis:\n",
        "Imagine que você está trabalhando em um projeto de análise proteômica de Mycobacterium tuberculosis através de eletroforese bidimensional, uma técnica analítica que separa proteínas a partir de seu ponto isoelétrico e massa molecular, resultando assim em diferentes spots. Neste projeto você identificou que um dos spots se apresenta “mais forte” (maior expressão) em uma cepa isolada de um hospital (resistente a antibióticos), e quase ausente na cepa controle (suscetível a antibióticos), e agora é necessário identificar qual proteína é esta. \n",
        "- Baixe o arquivo “mtb.fasta”  com o seguinte comando: \n",
        "!wget -O mtb.fasta http://bit.ly/bioinfo-biopython-mtb\n",
        "- Leia as sequências do arquivo utilizando o módulo Bio.SeqIO\n",
        "- Utilizando o módulo Bio.SeqUtils e a biblioteca Pandas, crie um DataFrame e armazene nele os dados de massa molecular e ponto isoelétrico, arredondando os valores numéricos para apenas 2 casas decimais\n",
        "- Identifique a proteína que possui massa molecular igual a 57114.73 e ponto isoelétrico igual a 6.75. \n"
      ]
    },
    {
      "cell_type": "code",
      "metadata": {
        "id": "J_w3Dw7S615j"
      },
      "source": [
        "from Bio import SeqIO\n",
        "\n",
        "from Bio.SeqUtils import ProtParam\n",
        "\n",
        "import pandas as pd"
      ],
      "execution_count": 8,
      "outputs": []
    },
    {
      "cell_type": "code",
      "metadata": {
        "colab": {
          "base_uri": "https://localhost:8080/"
        },
        "id": "0G07UrhT7NqN",
        "outputId": "1b0b8207-8ef7-4750-de98-bec42a919270"
      },
      "source": [
        "!wget -O mtb.fasta http://bit.ly/bioinfo-biopython-mtb"
      ],
      "execution_count": 9,
      "outputs": [
        {
          "output_type": "stream",
          "text": [
            "--2021-04-05 14:15:30--  http://bit.ly/bioinfo-biopython-mtb\n",
            "Resolving bit.ly (bit.ly)... 67.199.248.10, 67.199.248.11\n",
            "Connecting to bit.ly (bit.ly)|67.199.248.10|:80... connected.\n",
            "HTTP request sent, awaiting response... 301 Moved Permanently\n",
            "Location: https://www.uniprot.org/uniprot/?query=proteome:UP000001584&format=fasta [following]\n",
            "--2021-04-05 14:15:30--  https://www.uniprot.org/uniprot/?query=proteome:UP000001584&format=fasta\n",
            "Resolving www.uniprot.org (www.uniprot.org)... 193.62.193.81, 128.175.245.202\n",
            "Connecting to www.uniprot.org (www.uniprot.org)|193.62.193.81|:443... connected.\n",
            "HTTP request sent, awaiting response... 200 \n",
            "Length: unspecified [text/plain]\n",
            "Saving to: ‘mtb.fasta’\n",
            "\n",
            "mtb.fasta               [            <=>     ]   1.85M   369KB/s    in 5.1s    \n",
            "\n",
            "2021-04-05 14:15:35 (369 KB/s) - ‘mtb.fasta’ saved [1936612]\n",
            "\n"
          ],
          "name": "stdout"
        }
      ]
    },
    {
      "cell_type": "code",
      "metadata": {
        "id": "TFsTADzrHXZZ"
      },
      "source": [
        "#criando o dataframe\n",
        "df = pd.DataFrame(columns=['protein_id', 'molecular_weight', 'isoeletric_point'])\n",
        "\n",
        "handle = open('mtb.fasta')\n",
        "parser = SeqIO.parse(handle, 'fasta')\n",
        "\n",
        "for record in parser:\n",
        "  protein_analyzer = ProtParam.ProteinAnalysis(str(record.seq))\n",
        "  df = df.append(\n",
        "      {\n",
        "      'protein_id': record.id, \n",
        "      'molecular_weight': round(protein_analyzer.molecular_weight(), 2),\n",
        "      'isoeletric_point': round(protein_analyzer.isoelectric_point(), 2)\n",
        "      },\n",
        "      ignore_index=True\n",
        "    )"
      ],
      "execution_count": 10,
      "outputs": []
    },
    {
      "cell_type": "code",
      "metadata": {
        "colab": {
          "base_uri": "https://localhost:8080/",
          "height": 204
        },
        "id": "rfOqmCjmJ2ac",
        "outputId": "ab3387c9-864d-4244-fbbc-61ecefd61a61"
      },
      "source": [
        "# inspecionando o df\n",
        "df.head()"
      ],
      "execution_count": 11,
      "outputs": [
        {
          "output_type": "execute_result",
          "data": {
            "text/html": [
              "<div>\n",
              "<style scoped>\n",
              "    .dataframe tbody tr th:only-of-type {\n",
              "        vertical-align: middle;\n",
              "    }\n",
              "\n",
              "    .dataframe tbody tr th {\n",
              "        vertical-align: top;\n",
              "    }\n",
              "\n",
              "    .dataframe thead th {\n",
              "        text-align: right;\n",
              "    }\n",
              "</style>\n",
              "<table border=\"1\" class=\"dataframe\">\n",
              "  <thead>\n",
              "    <tr style=\"text-align: right;\">\n",
              "      <th></th>\n",
              "      <th>protein_id</th>\n",
              "      <th>molecular_weight</th>\n",
              "      <th>isoeletric_point</th>\n",
              "    </tr>\n",
              "  </thead>\n",
              "  <tbody>\n",
              "    <tr>\n",
              "      <th>0</th>\n",
              "      <td>sp|O05581|PAT_MYCTU</td>\n",
              "      <td>35625.40</td>\n",
              "      <td>5.14</td>\n",
              "    </tr>\n",
              "    <tr>\n",
              "      <th>1</th>\n",
              "      <td>sp|P9WI11|PPE28_MYCTU</td>\n",
              "      <td>67066.57</td>\n",
              "      <td>4.47</td>\n",
              "    </tr>\n",
              "    <tr>\n",
              "      <th>2</th>\n",
              "      <td>sp|P9WHN7|PTH_MYCTU</td>\n",
              "      <td>20455.27</td>\n",
              "      <td>9.63</td>\n",
              "    </tr>\n",
              "    <tr>\n",
              "      <th>3</th>\n",
              "      <td>sp|P9WHA9|RL28B_MYCTU</td>\n",
              "      <td>9095.34</td>\n",
              "      <td>12.00</td>\n",
              "    </tr>\n",
              "    <tr>\n",
              "      <th>4</th>\n",
              "      <td>sp|P9WHE3|RL7_MYCTU</td>\n",
              "      <td>13440.31</td>\n",
              "      <td>4.59</td>\n",
              "    </tr>\n",
              "  </tbody>\n",
              "</table>\n",
              "</div>"
            ],
            "text/plain": [
              "              protein_id  molecular_weight  isoeletric_point\n",
              "0    sp|O05581|PAT_MYCTU          35625.40              5.14\n",
              "1  sp|P9WI11|PPE28_MYCTU          67066.57              4.47\n",
              "2    sp|P9WHN7|PTH_MYCTU          20455.27              9.63\n",
              "3  sp|P9WHA9|RL28B_MYCTU           9095.34             12.00\n",
              "4    sp|P9WHE3|RL7_MYCTU          13440.31              4.59"
            ]
          },
          "metadata": {
            "tags": []
          },
          "execution_count": 11
        }
      ]
    },
    {
      "cell_type": "code",
      "metadata": {
        "colab": {
          "base_uri": "https://localhost:8080/",
          "height": 80
        },
        "id": "ZDWFXqd9LG5T",
        "outputId": "97b3a00d-c5e3-407b-f6db-918d06c82c36"
      },
      "source": [
        "#encontrando a proteína desejada a partir do peso molecular e do ponto isoelétrico\n",
        "df.query('molecular_weight == 57114.73 and isoeletric_point == 6.75')"
      ],
      "execution_count": 12,
      "outputs": [
        {
          "output_type": "execute_result",
          "data": {
            "text/html": [
              "<div>\n",
              "<style scoped>\n",
              "    .dataframe tbody tr th:only-of-type {\n",
              "        vertical-align: middle;\n",
              "    }\n",
              "\n",
              "    .dataframe tbody tr th {\n",
              "        vertical-align: top;\n",
              "    }\n",
              "\n",
              "    .dataframe thead th {\n",
              "        text-align: right;\n",
              "    }\n",
              "</style>\n",
              "<table border=\"1\" class=\"dataframe\">\n",
              "  <thead>\n",
              "    <tr style=\"text-align: right;\">\n",
              "      <th></th>\n",
              "      <th>protein_id</th>\n",
              "      <th>molecular_weight</th>\n",
              "      <th>isoeletric_point</th>\n",
              "    </tr>\n",
              "  </thead>\n",
              "  <tbody>\n",
              "    <tr>\n",
              "      <th>74</th>\n",
              "      <td>sp|P9WG91|STP_MYCTU</td>\n",
              "      <td>57114.73</td>\n",
              "      <td>6.75</td>\n",
              "    </tr>\n",
              "  </tbody>\n",
              "</table>\n",
              "</div>"
            ],
            "text/plain": [
              "             protein_id  molecular_weight  isoeletric_point\n",
              "74  sp|P9WG91|STP_MYCTU          57114.73              6.75"
            ]
          },
          "metadata": {
            "tags": []
          },
          "execution_count": 12
        }
      ]
    },
    {
      "cell_type": "markdown",
      "metadata": {
        "id": "43v7w-zEL4qA"
      },
      "source": [
        "### MUSCLE: \n",
        "Imagine agora que você identificou o gene responsável pelo spot diferencialmente expresso entre as duas cepas e que gostaria de fazer uma análise filogenética com base nele. Para isso, você usará as sequências disponíveis no UniProt que apresentam pelo menos 90% de similaridade com a proteína identificada no spot. Entretanto, antes é necessário realizar um alinhamento múltiplo, e por isso você resolve usar a ferramenta MUSCLE. \n",
        "\n",
        "- Baixe o arquivo “mtb-90.fasta”  com o seguinte comando: \n",
        "!wget -O mtb-90.fasta http://bit.ly/biopython-mtb-90-stp \n",
        "- Utilizando a classe MuscleCommandline do módulo Bio.Align.Applications, produza um alinhamento múltiplo no formato FASTA e com o nome “mtb-90.aligned.fasta” a partir do arquivo “mtb-90.fasta”.\n",
        "\n"
      ]
    },
    {
      "cell_type": "code",
      "metadata": {
        "id": "bGlH0abLL4Xk"
      },
      "source": [
        "from Bio.Align.Applications import MuscleCommandline"
      ],
      "execution_count": 13,
      "outputs": []
    },
    {
      "cell_type": "code",
      "metadata": {
        "colab": {
          "base_uri": "https://localhost:8080/"
        },
        "id": "DKpiZnFPNHfU",
        "outputId": "583a3a5a-3618-44b6-9ca7-ab66f74eb2e1"
      },
      "source": [
        "!wget -O mtb-90.fasta http://bit.ly/biopython-mtb-90-stp "
      ],
      "execution_count": 14,
      "outputs": [
        {
          "output_type": "stream",
          "text": [
            "--2021-04-05 14:15:48--  http://bit.ly/biopython-mtb-90-stp\n",
            "Resolving bit.ly (bit.ly)... 67.199.248.11, 67.199.248.10\n",
            "Connecting to bit.ly (bit.ly)|67.199.248.11|:80... connected.\n",
            "HTTP request sent, awaiting response... 301 Moved Permanently\n",
            "Location: https://www.uniprot.org/uniprot/?query=P9WG90+OR+A5U522+OR+R4MFT3+OR+A0A045INE6+OR+A0A655I569+OR+A0A0H3LBD1+OR+A0A655CEJ5+OR+A0A655G224+OR+A0A1R3Y0V9+OR+A0A109SY95+OR+A0A501P535+OR+A0A0H3M715+OR+A0A328GGU5+OR+A0A0K2HXW9+OR+G0TNP1&sort=score&format=fasta [following]\n",
            "--2021-04-05 14:15:48--  https://www.uniprot.org/uniprot/?query=P9WG90+OR+A5U522+OR+R4MFT3+OR+A0A045INE6+OR+A0A655I569+OR+A0A0H3LBD1+OR+A0A655CEJ5+OR+A0A655G224+OR+A0A1R3Y0V9+OR+A0A109SY95+OR+A0A501P535+OR+A0A0H3M715+OR+A0A328GGU5+OR+A0A0K2HXW9+OR+G0TNP1&sort=score&format=fasta\n",
            "Resolving www.uniprot.org (www.uniprot.org)... 193.62.193.81, 128.175.245.202\n",
            "Connecting to www.uniprot.org (www.uniprot.org)|193.62.193.81|:443... connected.\n",
            "HTTP request sent, awaiting response... 200 \n",
            "Length: 10210 (10.0K) [text/plain]\n",
            "Saving to: ‘mtb-90.fasta’\n",
            "\n",
            "mtb-90.fasta        100%[===================>]   9.97K  --.-KB/s    in 0.003s  \n",
            "\n",
            "2021-04-05 14:15:50 (3.48 MB/s) - ‘mtb-90.fasta’ saved [10210/10210]\n",
            "\n"
          ],
          "name": "stdout"
        }
      ]
    },
    {
      "cell_type": "code",
      "metadata": {
        "colab": {
          "base_uri": "https://localhost:8080/"
        },
        "id": "Ns17FfoUMtxH",
        "outputId": "a3ceddec-ee1a-48f9-969e-8f67cfe1b8c3"
      },
      "source": [
        "muscle_command = MuscleCommandline(input=\"mtb-90.fasta\", out=\"mtb-90.aligned.fasta\", fasta=True)\n",
        "stdout, stderr = muscle_command()\n",
        "print(stderr)"
      ],
      "execution_count": 15,
      "outputs": [
        {
          "output_type": "stream",
          "text": [
            "\n",
            "MUSCLE v3.8.31 by Robert C. Edgar\n",
            "\n",
            "http://www.drive5.com/muscle\n",
            "This software is donated to the public domain.\n",
            "Please cite: Edgar, R.C. Nucleic Acids Res 32(5), 1792-97.\n",
            "\n",
            "mtb-90 15 seqs, max length 537, avg  length 530\n",
            "00:00:00    44 MB(10%)  Iter   1    0.83%  K-mer dist pass 1\n",
            "00:00:00    44 MB(10%)  Iter   1  100.00%  K-mer dist pass 1\n",
            "00:00:00    44 MB(10%)  Iter   1    0.83%  K-mer dist pass 2\n",
            "00:00:00    44 MB(10%)  Iter   1  100.00%  K-mer dist pass 2\n",
            "00:00:00    44 MB(10%)  Iter   1    7.14%  Align node       \n",
            "00:00:00    47 MB(11%)  Iter   1   14.29%  Align node\n",
            "00:00:00    48 MB(11%)  Iter   1   21.43%  Align node\n",
            "00:00:00    48 MB(11%)  Iter   1   28.57%  Align node\n",
            "00:00:00    48 MB(11%)  Iter   1   35.71%  Align node\n",
            "00:00:00    49 MB(11%)  Iter   1   42.86%  Align node\n",
            "00:00:00    49 MB(11%)  Iter   1   50.00%  Align node\n",
            "00:00:00    49 MB(11%)  Iter   1   57.14%  Align node\n",
            "00:00:00    50 MB(11%)  Iter   1   64.29%  Align node\n",
            "00:00:00    50 MB(11%)  Iter   1   71.43%  Align node\n",
            "00:00:00    51 MB(11%)  Iter   1   78.57%  Align node\n",
            "00:00:00    51 MB(11%)  Iter   1   85.71%  Align node\n",
            "00:00:00    51 MB(11%)  Iter   1   92.86%  Align node\n",
            "00:00:00    51 MB(11%)  Iter   1  100.00%  Align node\n",
            "00:00:00    51 MB(11%)  Iter   1  100.00%  Align node\n",
            "00:00:00    51 MB(11%)  Iter   1    6.67%  Root alignment\n",
            "00:00:00    51 MB(11%)  Iter   1   13.33%  Root alignment\n",
            "00:00:00    51 MB(11%)  Iter   1   20.00%  Root alignment\n",
            "00:00:00    51 MB(11%)  Iter   1   26.67%  Root alignment\n",
            "00:00:00    51 MB(11%)  Iter   1   33.33%  Root alignment\n",
            "00:00:00    51 MB(11%)  Iter   1   40.00%  Root alignment\n",
            "00:00:00    51 MB(11%)  Iter   1   46.67%  Root alignment\n",
            "00:00:00    51 MB(11%)  Iter   1   53.33%  Root alignment\n",
            "00:00:00    51 MB(11%)  Iter   1   60.00%  Root alignment\n",
            "00:00:00    51 MB(11%)  Iter   1   66.67%  Root alignment\n",
            "00:00:00    51 MB(11%)  Iter   1   73.33%  Root alignment\n",
            "00:00:00    51 MB(11%)  Iter   1   80.00%  Root alignment\n",
            "00:00:00    51 MB(11%)  Iter   1   86.67%  Root alignment\n",
            "00:00:00    51 MB(11%)  Iter   1   93.33%  Root alignment\n",
            "00:00:00    51 MB(11%)  Iter   1  100.00%  Root alignment\n",
            "00:00:00    51 MB(11%)  Iter   1  100.00%  Root alignment\n",
            "00:00:00    51 MB(11%)  Iter   2    7.69%  Refine tree   \n",
            "00:00:00    51 MB(11%)  Iter   2   15.38%  Refine tree\n",
            "00:00:00    51 MB(11%)  Iter   2   23.08%  Refine tree\n",
            "00:00:00    51 MB(11%)  Iter   2   30.77%  Refine tree\n",
            "00:00:00    51 MB(11%)  Iter   2   38.46%  Refine tree\n",
            "00:00:00    51 MB(11%)  Iter   2   46.15%  Refine tree\n",
            "00:00:00    51 MB(11%)  Iter   2   53.85%  Refine tree\n",
            "00:00:00    51 MB(11%)  Iter   2  100.00%  Refine tree\n",
            "00:00:00    51 MB(11%)  Iter   2    6.67%  Root alignment\n",
            "00:00:00    51 MB(11%)  Iter   2   13.33%  Root alignment\n",
            "00:00:00    51 MB(11%)  Iter   2   20.00%  Root alignment\n",
            "00:00:00    51 MB(11%)  Iter   2   26.67%  Root alignment\n",
            "00:00:00    51 MB(11%)  Iter   2   33.33%  Root alignment\n",
            "00:00:00    51 MB(11%)  Iter   2   40.00%  Root alignment\n",
            "00:00:00    51 MB(11%)  Iter   2   46.67%  Root alignment\n",
            "00:00:00    51 MB(11%)  Iter   2   53.33%  Root alignment\n",
            "00:00:00    51 MB(11%)  Iter   2   60.00%  Root alignment\n",
            "00:00:00    51 MB(11%)  Iter   2   66.67%  Root alignment\n",
            "00:00:00    51 MB(11%)  Iter   2   73.33%  Root alignment\n",
            "00:00:00    51 MB(11%)  Iter   2   80.00%  Root alignment\n",
            "00:00:00    51 MB(11%)  Iter   2   86.67%  Root alignment\n",
            "00:00:00    51 MB(11%)  Iter   2   93.33%  Root alignment\n",
            "00:00:00    51 MB(11%)  Iter   2  100.00%  Root alignment\n",
            "00:00:00    51 MB(11%)  Iter   2  100.00%  Root alignment\n",
            "00:00:00    51 MB(11%)  Iter   2  100.00%  Root alignment\n",
            "00:00:00    51 MB(11%)  Iter   3    7.41%  Refine biparts\n",
            "00:00:00    51 MB(11%)  Iter   3   11.11%  Refine biparts\n",
            "00:00:00    51 MB(11%)  Iter   3   14.81%  Refine biparts\n",
            "00:00:00    51 MB(11%)  Iter   3   18.52%  Refine biparts\n",
            "00:00:00    51 MB(11%)  Iter   3   22.22%  Refine biparts\n",
            "00:00:00    51 MB(11%)  Iter   3   25.93%  Refine biparts\n",
            "00:00:00    51 MB(11%)  Iter   3   29.63%  Refine biparts\n",
            "00:00:00    51 MB(11%)  Iter   3   33.33%  Refine biparts\n",
            "00:00:00    51 MB(11%)  Iter   3   37.04%  Refine biparts\n",
            "00:00:00    51 MB(11%)  Iter   3   40.74%  Refine biparts\n",
            "00:00:00    51 MB(11%)  Iter   3   44.44%  Refine biparts\n",
            "00:00:00    51 MB(11%)  Iter   3   48.15%  Refine biparts\n",
            "00:00:00    51 MB(11%)  Iter   3   51.85%  Refine biparts\n",
            "00:00:00    51 MB(11%)  Iter   3   55.56%  Refine biparts\n",
            "00:00:00    51 MB(11%)  Iter   3   59.26%  Refine biparts\n",
            "00:00:00    51 MB(11%)  Iter   3   62.96%  Refine biparts\n",
            "00:00:00    51 MB(11%)  Iter   3   66.67%  Refine biparts\n",
            "00:00:00    51 MB(11%)  Iter   3   70.37%  Refine biparts\n",
            "00:00:00    51 MB(11%)  Iter   3   74.07%  Refine biparts\n",
            "00:00:00    51 MB(11%)  Iter   3   77.78%  Refine biparts\n",
            "00:00:00    51 MB(11%)  Iter   3   81.48%  Refine biparts\n",
            "00:00:00    51 MB(11%)  Iter   3   85.19%  Refine biparts\n",
            "00:00:00    51 MB(11%)  Iter   3   88.89%  Refine biparts\n",
            "00:00:00    51 MB(11%)  Iter   3   92.59%  Refine biparts\n",
            "00:00:00    51 MB(11%)  Iter   3   96.30%  Refine biparts\n",
            "00:00:00    51 MB(11%)  Iter   3  100.00%  Refine biparts\n",
            "00:00:00    51 MB(11%)  Iter   3  103.70%  Refine biparts\n",
            "00:00:00    51 MB(11%)  Iter   3  100.00%  Refine biparts\n",
            "00:00:00    51 MB(11%)  Iter   4    7.41%  Refine biparts\n",
            "00:00:00    51 MB(11%)  Iter   4   11.11%  Refine biparts\n",
            "00:00:00    51 MB(11%)  Iter   4   14.81%  Refine biparts\n",
            "00:00:00    51 MB(11%)  Iter   4   18.52%  Refine biparts\n",
            "00:00:00    51 MB(11%)  Iter   4   22.22%  Refine biparts\n",
            "00:00:00    51 MB(11%)  Iter   4   25.93%  Refine biparts\n",
            "00:00:00    51 MB(11%)  Iter   4   29.63%  Refine biparts\n",
            "00:00:00    51 MB(11%)  Iter   4   33.33%  Refine biparts\n",
            "00:00:00    51 MB(11%)  Iter   4   37.04%  Refine biparts\n",
            "00:00:00    51 MB(11%)  Iter   4   40.74%  Refine biparts\n",
            "00:00:00    51 MB(11%)  Iter   4   44.44%  Refine biparts\n",
            "00:00:00    51 MB(11%)  Iter   4   48.15%  Refine biparts\n",
            "00:00:00    51 MB(11%)  Iter   4   51.85%  Refine biparts\n",
            "00:00:00    51 MB(11%)  Iter   4   55.56%  Refine biparts\n",
            "00:00:00    51 MB(11%)  Iter   4   59.26%  Refine biparts\n",
            "00:00:00    51 MB(11%)  Iter   4   62.96%  Refine biparts\n",
            "00:00:00    51 MB(11%)  Iter   4   66.67%  Refine biparts\n",
            "00:00:00    51 MB(11%)  Iter   4   70.37%  Refine biparts\n",
            "00:00:00    51 MB(11%)  Iter   4   74.07%  Refine biparts\n",
            "00:00:00    51 MB(11%)  Iter   4   77.78%  Refine biparts\n",
            "00:00:00    51 MB(11%)  Iter   4   81.48%  Refine biparts\n",
            "00:00:00    51 MB(11%)  Iter   4   85.19%  Refine biparts\n",
            "00:00:00    51 MB(11%)  Iter   4   88.89%  Refine biparts\n",
            "00:00:00    51 MB(11%)  Iter   4   92.59%  Refine biparts\n",
            "00:00:00    51 MB(11%)  Iter   4   96.30%  Refine biparts\n",
            "00:00:00    51 MB(11%)  Iter   4  100.00%  Refine biparts\n",
            "00:00:00    51 MB(11%)  Iter   4  103.70%  Refine biparts\n",
            "00:00:00    51 MB(11%)  Iter   4  100.00%  Refine biparts\n",
            "00:00:00    51 MB(11%)  Iter   5    7.41%  Refine biparts\n",
            "00:00:00    51 MB(11%)  Iter   5   11.11%  Refine biparts\n",
            "00:00:00    51 MB(11%)  Iter   5   14.81%  Refine biparts\n",
            "00:00:00    51 MB(11%)  Iter   5   18.52%  Refine biparts\n",
            "00:00:00    51 MB(11%)  Iter   5   22.22%  Refine biparts\n",
            "00:00:00    51 MB(11%)  Iter   5   25.93%  Refine biparts\n",
            "00:00:00    51 MB(11%)  Iter   5   29.63%  Refine biparts\n",
            "00:00:00    51 MB(11%)  Iter   5   33.33%  Refine biparts\n",
            "00:00:00    51 MB(11%)  Iter   5   37.04%  Refine biparts\n",
            "00:00:00    51 MB(11%)  Iter   5   40.74%  Refine biparts\n",
            "00:00:00    51 MB(11%)  Iter   5   44.44%  Refine biparts\n",
            "00:00:00    51 MB(11%)  Iter   5   48.15%  Refine biparts\n",
            "00:00:00    51 MB(11%)  Iter   5   51.85%  Refine biparts\n",
            "00:00:00    51 MB(11%)  Iter   5   55.56%  Refine biparts\n",
            "00:00:00    51 MB(11%)  Iter   5   59.26%  Refine biparts\n",
            "00:00:00    51 MB(11%)  Iter   5   62.96%  Refine biparts\n",
            "00:00:00    51 MB(11%)  Iter   5   66.67%  Refine biparts\n",
            "00:00:00    51 MB(11%)  Iter   5   70.37%  Refine biparts\n",
            "00:00:00    51 MB(11%)  Iter   5   74.07%  Refine biparts\n",
            "00:00:00    51 MB(11%)  Iter   5   77.78%  Refine biparts\n",
            "00:00:00    51 MB(11%)  Iter   5   81.48%  Refine biparts\n",
            "00:00:00    51 MB(11%)  Iter   5   85.19%  Refine biparts\n",
            "00:00:00    51 MB(11%)  Iter   5   88.89%  Refine biparts\n",
            "00:00:00    51 MB(11%)  Iter   5   92.59%  Refine biparts\n",
            "00:00:00    51 MB(11%)  Iter   5   96.30%  Refine biparts\n",
            "00:00:00    51 MB(11%)  Iter   5  100.00%  Refine biparts\n",
            "00:00:00    51 MB(11%)  Iter   5  103.70%  Refine biparts\n",
            "00:00:00    51 MB(11%)  Iter   5  100.00%  Refine biparts\n",
            "00:00:00    51 MB(11%)  Iter   6    7.41%  Refine biparts\n",
            "00:00:00    51 MB(11%)  Iter   6   11.11%  Refine biparts\n",
            "00:00:00    51 MB(11%)  Iter   6   14.81%  Refine biparts\n",
            "00:00:00    51 MB(11%)  Iter   6   18.52%  Refine biparts\n",
            "00:00:00    51 MB(11%)  Iter   6   22.22%  Refine biparts\n",
            "00:00:00    51 MB(11%)  Iter   6   25.93%  Refine biparts\n",
            "00:00:00    51 MB(11%)  Iter   6   29.63%  Refine biparts\n",
            "00:00:00    51 MB(11%)  Iter   6   33.33%  Refine biparts\n",
            "00:00:00    51 MB(11%)  Iter   6   37.04%  Refine biparts\n",
            "00:00:00    51 MB(11%)  Iter   6   40.74%  Refine biparts\n",
            "00:00:00    51 MB(11%)  Iter   6   44.44%  Refine biparts\n",
            "00:00:00    51 MB(11%)  Iter   6   48.15%  Refine biparts\n",
            "00:00:00    51 MB(11%)  Iter   6   51.85%  Refine biparts\n",
            "00:00:00    51 MB(11%)  Iter   6   55.56%  Refine biparts\n",
            "00:00:00    51 MB(11%)  Iter   6   59.26%  Refine biparts\n",
            "00:00:00    51 MB(11%)  Iter   6   62.96%  Refine biparts\n",
            "00:00:00    51 MB(11%)  Iter   6   66.67%  Refine biparts\n",
            "00:00:00    51 MB(11%)  Iter   6   70.37%  Refine biparts\n",
            "00:00:00    51 MB(11%)  Iter   6   74.07%  Refine biparts\n",
            "00:00:00    51 MB(11%)  Iter   6   77.78%  Refine biparts\n",
            "00:00:00    51 MB(11%)  Iter   6   81.48%  Refine biparts\n",
            "00:00:00    51 MB(11%)  Iter   6   85.19%  Refine biparts\n",
            "00:00:00    51 MB(11%)  Iter   6   88.89%  Refine biparts\n",
            "00:00:00    51 MB(11%)  Iter   6   92.59%  Refine biparts\n",
            "00:00:00    51 MB(11%)  Iter   6   96.30%  Refine biparts\n",
            "00:00:00    51 MB(11%)  Iter   6  100.00%  Refine biparts\n",
            "00:00:00    51 MB(11%)  Iter   6  103.70%  Refine biparts\n",
            "00:00:00    51 MB(11%)  Iter   6  100.00%  Refine biparts\n",
            "00:00:00    51 MB(11%)  Iter   7    7.41%  Refine biparts\n",
            "00:00:00    51 MB(11%)  Iter   7   11.11%  Refine biparts\n",
            "00:00:00    51 MB(11%)  Iter   7   14.81%  Refine biparts\n",
            "00:00:00    51 MB(11%)  Iter   7   18.52%  Refine biparts\n",
            "00:00:00    51 MB(11%)  Iter   7   22.22%  Refine biparts\n",
            "00:00:00    51 MB(11%)  Iter   7   25.93%  Refine biparts\n",
            "00:00:00    51 MB(11%)  Iter   7   29.63%  Refine biparts\n",
            "00:00:00    51 MB(11%)  Iter   7   33.33%  Refine biparts\n",
            "00:00:00    51 MB(11%)  Iter   7   37.04%  Refine biparts\n",
            "00:00:00    51 MB(11%)  Iter   7   40.74%  Refine biparts\n",
            "00:00:00    51 MB(11%)  Iter   7   44.44%  Refine biparts\n",
            "00:00:00    51 MB(11%)  Iter   7   48.15%  Refine biparts\n",
            "00:00:00    51 MB(11%)  Iter   7   51.85%  Refine biparts\n",
            "00:00:00    51 MB(11%)  Iter   7   55.56%  Refine biparts\n",
            "00:00:00    51 MB(11%)  Iter   7   59.26%  Refine biparts\n",
            "00:00:00    51 MB(11%)  Iter   7   62.96%  Refine biparts\n",
            "00:00:00    51 MB(11%)  Iter   7   66.67%  Refine biparts\n",
            "00:00:00    51 MB(11%)  Iter   7   70.37%  Refine biparts\n",
            "00:00:00    51 MB(11%)  Iter   7   74.07%  Refine biparts\n",
            "00:00:00    51 MB(11%)  Iter   7   77.78%  Refine biparts\n",
            "00:00:00    51 MB(11%)  Iter   7   81.48%  Refine biparts\n",
            "00:00:00    51 MB(11%)  Iter   7   85.19%  Refine biparts\n",
            "00:00:00    51 MB(11%)  Iter   7   88.89%  Refine biparts\n",
            "00:00:00    51 MB(11%)  Iter   7   92.59%  Refine biparts\n",
            "00:00:00    51 MB(11%)  Iter   7   96.30%  Refine biparts\n",
            "00:00:00    51 MB(11%)  Iter   7  100.00%  Refine biparts\n",
            "00:00:00    51 MB(11%)  Iter   7  103.70%  Refine biparts\n",
            "00:00:00    51 MB(11%)  Iter   7  100.00%  Refine biparts\n",
            "00:00:00    51 MB(11%)  Iter   8    7.41%  Refine biparts\n",
            "00:00:00    51 MB(11%)  Iter   8   11.11%  Refine biparts\n",
            "00:00:00    51 MB(11%)  Iter   8   14.81%  Refine biparts\n",
            "00:00:00    51 MB(11%)  Iter   8   18.52%  Refine biparts\n",
            "00:00:00    51 MB(11%)  Iter   8   22.22%  Refine biparts\n",
            "00:00:00    51 MB(11%)  Iter   8   25.93%  Refine biparts\n",
            "00:00:00    51 MB(11%)  Iter   8   29.63%  Refine biparts\n",
            "00:00:00    51 MB(11%)  Iter   8   33.33%  Refine biparts\n",
            "00:00:00    51 MB(11%)  Iter   8   37.04%  Refine biparts\n",
            "00:00:00    51 MB(11%)  Iter   8   40.74%  Refine biparts\n",
            "00:00:00    51 MB(11%)  Iter   8   44.44%  Refine biparts\n",
            "00:00:00    51 MB(11%)  Iter   8   48.15%  Refine biparts\n",
            "00:00:00    51 MB(11%)  Iter   8   51.85%  Refine biparts\n",
            "00:00:00    51 MB(11%)  Iter   8   55.56%  Refine biparts\n",
            "00:00:00    51 MB(11%)  Iter   8   59.26%  Refine biparts\n",
            "00:00:00    51 MB(11%)  Iter   8   62.96%  Refine biparts\n",
            "00:00:00    51 MB(11%)  Iter   8   66.67%  Refine biparts\n",
            "00:00:00    51 MB(11%)  Iter   8   70.37%  Refine biparts\n",
            "00:00:00    51 MB(11%)  Iter   8   74.07%  Refine biparts\n",
            "00:00:00    51 MB(11%)  Iter   8   77.78%  Refine biparts\n",
            "00:00:00    51 MB(11%)  Iter   8   81.48%  Refine biparts\n",
            "00:00:00    51 MB(11%)  Iter   8   85.19%  Refine biparts\n",
            "00:00:00    51 MB(11%)  Iter   8   88.89%  Refine biparts\n",
            "00:00:00    51 MB(11%)  Iter   8   92.59%  Refine biparts\n",
            "00:00:00    51 MB(11%)  Iter   8   96.30%  Refine biparts\n",
            "00:00:00    51 MB(11%)  Iter   8  100.00%  Refine biparts\n",
            "00:00:00    51 MB(11%)  Iter   8  103.70%  Refine biparts\n",
            "00:00:00    51 MB(11%)  Iter   8  100.00%  Refine biparts\n",
            "00:00:00    51 MB(11%)  Iter   9    7.41%  Refine biparts\n",
            "00:00:00    51 MB(11%)  Iter   9   11.11%  Refine biparts\n",
            "00:00:00    51 MB(11%)  Iter   9   14.81%  Refine biparts\n",
            "00:00:00    51 MB(11%)  Iter   9   18.52%  Refine biparts\n",
            "00:00:00    51 MB(11%)  Iter   9   22.22%  Refine biparts\n",
            "00:00:00    51 MB(11%)  Iter   9   25.93%  Refine biparts\n",
            "00:00:00    51 MB(11%)  Iter   9   29.63%  Refine biparts\n",
            "00:00:00    51 MB(11%)  Iter   9   33.33%  Refine biparts\n",
            "00:00:00    51 MB(11%)  Iter   9   37.04%  Refine biparts\n",
            "00:00:00    51 MB(11%)  Iter   9   40.74%  Refine biparts\n",
            "00:00:00    51 MB(11%)  Iter   9   44.44%  Refine biparts\n",
            "00:00:00    51 MB(11%)  Iter   9   48.15%  Refine biparts\n",
            "00:00:00    51 MB(11%)  Iter   9   51.85%  Refine biparts\n",
            "00:00:00    51 MB(11%)  Iter   9   55.56%  Refine biparts\n",
            "00:00:00    51 MB(11%)  Iter   9   59.26%  Refine biparts\n",
            "00:00:00    51 MB(11%)  Iter   9   62.96%  Refine biparts\n",
            "00:00:00    51 MB(11%)  Iter   9   66.67%  Refine biparts\n",
            "00:00:00    51 MB(11%)  Iter   9   70.37%  Refine biparts\n",
            "00:00:00    51 MB(11%)  Iter   9   74.07%  Refine biparts\n",
            "00:00:00    51 MB(11%)  Iter   9   77.78%  Refine biparts\n",
            "00:00:00    51 MB(11%)  Iter   9   81.48%  Refine biparts\n",
            "00:00:00    51 MB(11%)  Iter   9   85.19%  Refine biparts\n",
            "00:00:00    51 MB(11%)  Iter   9   88.89%  Refine biparts\n",
            "00:00:00    51 MB(11%)  Iter   9   92.59%  Refine biparts\n",
            "00:00:00    51 MB(11%)  Iter   9   96.30%  Refine biparts\n",
            "00:00:00    51 MB(11%)  Iter   9  100.00%  Refine biparts\n",
            "00:00:00    51 MB(11%)  Iter   9  103.70%  Refine biparts\n",
            "00:00:00    51 MB(11%)  Iter   9  100.00%  Refine biparts\n",
            "00:00:00    51 MB(11%)  Iter  10    7.41%  Refine biparts\n",
            "00:00:00    51 MB(11%)  Iter  10   11.11%  Refine biparts\n",
            "00:00:00    51 MB(11%)  Iter  10   14.81%  Refine biparts\n",
            "00:00:00    51 MB(11%)  Iter  10   18.52%  Refine biparts\n",
            "00:00:00    51 MB(11%)  Iter  10   22.22%  Refine biparts\n",
            "00:00:00    51 MB(11%)  Iter  10   25.93%  Refine biparts\n",
            "00:00:00    51 MB(11%)  Iter  10   29.63%  Refine biparts\n",
            "00:00:00    51 MB(11%)  Iter  10   33.33%  Refine biparts\n",
            "00:00:00    51 MB(11%)  Iter  10   37.04%  Refine biparts\n",
            "00:00:00    51 MB(11%)  Iter  10   40.74%  Refine biparts\n",
            "00:00:00    51 MB(11%)  Iter  10   44.44%  Refine biparts\n",
            "00:00:00    51 MB(11%)  Iter  10   48.15%  Refine biparts\n",
            "00:00:00    51 MB(11%)  Iter  10   51.85%  Refine biparts\n",
            "00:00:00    51 MB(11%)  Iter  10   55.56%  Refine biparts\n",
            "00:00:00    51 MB(11%)  Iter  10   59.26%  Refine biparts\n",
            "00:00:00    51 MB(11%)  Iter  10   62.96%  Refine biparts\n",
            "00:00:00    51 MB(11%)  Iter  10   66.67%  Refine biparts\n",
            "00:00:00    51 MB(11%)  Iter  10   70.37%  Refine biparts\n",
            "00:00:00    51 MB(11%)  Iter  10   74.07%  Refine biparts\n",
            "00:00:00    51 MB(11%)  Iter  10   77.78%  Refine biparts\n",
            "00:00:00    51 MB(11%)  Iter  10   81.48%  Refine biparts\n",
            "00:00:00    51 MB(11%)  Iter  10   85.19%  Refine biparts\n",
            "00:00:00    51 MB(11%)  Iter  10   88.89%  Refine biparts\n",
            "00:00:00    51 MB(11%)  Iter  10   92.59%  Refine biparts\n",
            "00:00:00    51 MB(11%)  Iter  10   96.30%  Refine biparts\n",
            "00:00:00    51 MB(11%)  Iter  10  100.00%  Refine biparts\n",
            "00:00:00    51 MB(11%)  Iter  10  103.70%  Refine biparts\n",
            "00:00:00    51 MB(11%)  Iter  10  100.00%  Refine biparts\n",
            "00:00:00    51 MB(11%)  Iter  11    7.41%  Refine biparts\n",
            "00:00:00    51 MB(11%)  Iter  11   11.11%  Refine biparts\n",
            "00:00:00    51 MB(11%)  Iter  11   14.81%  Refine biparts\n",
            "00:00:00    51 MB(11%)  Iter  11   18.52%  Refine biparts\n",
            "00:00:00    51 MB(11%)  Iter  11   22.22%  Refine biparts\n",
            "00:00:00    51 MB(11%)  Iter  11   25.93%  Refine biparts\n",
            "00:00:00    51 MB(11%)  Iter  11   29.63%  Refine biparts\n",
            "00:00:00    51 MB(11%)  Iter  11   33.33%  Refine biparts\n",
            "00:00:00    51 MB(11%)  Iter  11   37.04%  Refine biparts\n",
            "00:00:00    51 MB(11%)  Iter  11   40.74%  Refine biparts\n",
            "00:00:00    51 MB(11%)  Iter  11   44.44%  Refine biparts\n",
            "00:00:00    51 MB(11%)  Iter  11   48.15%  Refine biparts\n",
            "00:00:00    51 MB(11%)  Iter  11   51.85%  Refine biparts\n",
            "00:00:00    51 MB(11%)  Iter  11   55.56%  Refine biparts\n",
            "00:00:00    51 MB(11%)  Iter  11   59.26%  Refine biparts\n",
            "00:00:00    51 MB(11%)  Iter  11   62.96%  Refine biparts\n",
            "00:00:00    51 MB(11%)  Iter  11   66.67%  Refine biparts\n",
            "00:00:00    51 MB(11%)  Iter  11   70.37%  Refine biparts\n",
            "00:00:00    51 MB(11%)  Iter  11   74.07%  Refine biparts\n",
            "00:00:00    51 MB(11%)  Iter  11   77.78%  Refine biparts\n",
            "00:00:00    51 MB(11%)  Iter  11   81.48%  Refine biparts\n",
            "00:00:00    51 MB(11%)  Iter  11   85.19%  Refine biparts\n",
            "00:00:00    51 MB(11%)  Iter  11   88.89%  Refine biparts\n",
            "00:00:00    51 MB(11%)  Iter  11   92.59%  Refine biparts\n",
            "00:00:00    51 MB(11%)  Iter  11   96.30%  Refine biparts\n",
            "00:00:00    51 MB(11%)  Iter  11  100.00%  Refine biparts\n",
            "00:00:00    51 MB(11%)  Iter  11  103.70%  Refine biparts\n",
            "00:00:00    51 MB(11%)  Iter  11  100.00%  Refine biparts\n",
            "00:00:00    51 MB(11%)  Iter  12    7.41%  Refine biparts\n",
            "00:00:00    51 MB(11%)  Iter  12   11.11%  Refine biparts\n",
            "00:00:00    51 MB(11%)  Iter  12   14.81%  Refine biparts\n",
            "00:00:00    51 MB(11%)  Iter  12   18.52%  Refine biparts\n",
            "00:00:00    51 MB(11%)  Iter  12   22.22%  Refine biparts\n",
            "00:00:00    51 MB(11%)  Iter  12   25.93%  Refine biparts\n",
            "00:00:00    51 MB(11%)  Iter  12   29.63%  Refine biparts\n",
            "00:00:00    51 MB(11%)  Iter  12   33.33%  Refine biparts\n",
            "00:00:00    51 MB(11%)  Iter  12   37.04%  Refine biparts\n",
            "00:00:00    51 MB(11%)  Iter  12   40.74%  Refine biparts\n",
            "00:00:00    51 MB(11%)  Iter  12   44.44%  Refine biparts\n",
            "00:00:00    51 MB(11%)  Iter  12   48.15%  Refine biparts\n",
            "00:00:00    51 MB(11%)  Iter  12   51.85%  Refine biparts\n",
            "00:00:00    51 MB(11%)  Iter  12   55.56%  Refine biparts\n",
            "00:00:00    51 MB(11%)  Iter  12   59.26%  Refine biparts\n",
            "00:00:00    51 MB(11%)  Iter  12   62.96%  Refine biparts\n",
            "00:00:00    51 MB(11%)  Iter  12   66.67%  Refine biparts\n",
            "00:00:00    51 MB(11%)  Iter  12   70.37%  Refine biparts\n",
            "00:00:00    51 MB(11%)  Iter  12   74.07%  Refine biparts\n",
            "00:00:00    51 MB(11%)  Iter  12   77.78%  Refine biparts\n",
            "00:00:00    51 MB(11%)  Iter  12   81.48%  Refine biparts\n",
            "00:00:00    51 MB(11%)  Iter  12   85.19%  Refine biparts\n",
            "00:00:00    51 MB(11%)  Iter  12   88.89%  Refine biparts\n",
            "00:00:00    51 MB(11%)  Iter  12   92.59%  Refine biparts\n",
            "00:00:00    51 MB(11%)  Iter  12   96.30%  Refine biparts\n",
            "00:00:00    51 MB(11%)  Iter  12  100.00%  Refine biparts\n",
            "00:00:00    51 MB(11%)  Iter  12  103.70%  Refine biparts\n",
            "00:00:00    51 MB(11%)  Iter  12  100.00%  Refine biparts\n",
            "00:00:00    51 MB(11%)  Iter  13    7.41%  Refine biparts\n",
            "00:00:00    51 MB(11%)  Iter  13   11.11%  Refine biparts\n",
            "00:00:00    51 MB(11%)  Iter  13   14.81%  Refine biparts\n",
            "00:00:00    51 MB(11%)  Iter  13   18.52%  Refine biparts\n",
            "00:00:00    51 MB(11%)  Iter  13   22.22%  Refine biparts\n",
            "00:00:00    51 MB(11%)  Iter  13   25.93%  Refine biparts\n",
            "00:00:00    51 MB(11%)  Iter  13   29.63%  Refine biparts\n",
            "00:00:00    51 MB(11%)  Iter  13   33.33%  Refine biparts\n",
            "00:00:00    51 MB(11%)  Iter  13   37.04%  Refine biparts\n",
            "00:00:00    51 MB(11%)  Iter  13   40.74%  Refine biparts\n",
            "00:00:00    51 MB(11%)  Iter  13   44.44%  Refine biparts\n",
            "00:00:00    51 MB(11%)  Iter  13   48.15%  Refine biparts\n",
            "00:00:00    51 MB(11%)  Iter  13   51.85%  Refine biparts\n",
            "00:00:00    51 MB(11%)  Iter  13   55.56%  Refine biparts\n",
            "00:00:00    51 MB(11%)  Iter  13   59.26%  Refine biparts\n",
            "00:00:00    51 MB(11%)  Iter  13   62.96%  Refine biparts\n",
            "00:00:00    51 MB(11%)  Iter  13   66.67%  Refine biparts\n",
            "00:00:00    51 MB(11%)  Iter  13   70.37%  Refine biparts\n",
            "00:00:00    51 MB(11%)  Iter  13   74.07%  Refine biparts\n",
            "00:00:00    51 MB(11%)  Iter  13   77.78%  Refine biparts\n",
            "00:00:00    51 MB(11%)  Iter  13   81.48%  Refine biparts\n",
            "00:00:00    51 MB(11%)  Iter  13   85.19%  Refine biparts\n",
            "00:00:00    51 MB(11%)  Iter  13   88.89%  Refine biparts\n",
            "00:00:00    51 MB(11%)  Iter  13   92.59%  Refine biparts\n",
            "00:00:00    51 MB(11%)  Iter  13   96.30%  Refine biparts\n",
            "00:00:00    51 MB(11%)  Iter  13  100.00%  Refine biparts\n",
            "00:00:00    51 MB(11%)  Iter  13  103.70%  Refine biparts\n",
            "00:00:00    51 MB(11%)  Iter  13  100.00%  Refine biparts\n",
            "00:00:00    51 MB(11%)  Iter  14    7.41%  Refine biparts\n",
            "00:00:00    51 MB(11%)  Iter  14   11.11%  Refine biparts\n",
            "00:00:00    51 MB(11%)  Iter  14   14.81%  Refine biparts\n",
            "00:00:00    51 MB(11%)  Iter  14   18.52%  Refine biparts\n",
            "00:00:00    51 MB(11%)  Iter  14   22.22%  Refine biparts\n",
            "00:00:00    51 MB(11%)  Iter  14   25.93%  Refine biparts\n",
            "00:00:00    51 MB(11%)  Iter  14   29.63%  Refine biparts\n",
            "00:00:00    51 MB(11%)  Iter  14   33.33%  Refine biparts\n",
            "00:00:00    51 MB(11%)  Iter  14   37.04%  Refine biparts\n",
            "00:00:00    51 MB(11%)  Iter  14   40.74%  Refine biparts\n",
            "00:00:00    51 MB(11%)  Iter  14   44.44%  Refine biparts\n",
            "00:00:00    51 MB(11%)  Iter  14   48.15%  Refine biparts\n",
            "00:00:00    51 MB(11%)  Iter  14   51.85%  Refine biparts\n",
            "00:00:00    51 MB(11%)  Iter  14   55.56%  Refine biparts\n",
            "00:00:00    51 MB(11%)  Iter  14   59.26%  Refine biparts\n",
            "00:00:00    51 MB(11%)  Iter  14   62.96%  Refine biparts\n",
            "00:00:00    51 MB(11%)  Iter  14   66.67%  Refine biparts\n",
            "00:00:00    51 MB(11%)  Iter  14   70.37%  Refine biparts\n",
            "00:00:00    51 MB(11%)  Iter  14   74.07%  Refine biparts\n",
            "00:00:00    51 MB(11%)  Iter  14   77.78%  Refine biparts\n",
            "00:00:00    51 MB(11%)  Iter  14   81.48%  Refine biparts\n",
            "00:00:00    51 MB(11%)  Iter  14   85.19%  Refine biparts\n",
            "00:00:00    51 MB(11%)  Iter  14   88.89%  Refine biparts\n",
            "00:00:00    51 MB(11%)  Iter  14   92.59%  Refine biparts\n",
            "00:00:00    51 MB(11%)  Iter  14   96.30%  Refine biparts\n",
            "00:00:00    51 MB(11%)  Iter  14  100.00%  Refine biparts\n",
            "00:00:00    51 MB(11%)  Iter  14  103.70%  Refine biparts\n",
            "00:00:00    51 MB(11%)  Iter  14  100.00%  Refine biparts\n",
            "00:00:00    51 MB(11%)  Iter  15    7.41%  Refine biparts\n",
            "00:00:00    51 MB(11%)  Iter  15   11.11%  Refine biparts\n",
            "00:00:00    51 MB(11%)  Iter  15   14.81%  Refine biparts\n",
            "00:00:00    51 MB(11%)  Iter  15   18.52%  Refine biparts\n",
            "00:00:00    51 MB(11%)  Iter  15   22.22%  Refine biparts\n",
            "00:00:00    51 MB(11%)  Iter  15   25.93%  Refine biparts\n",
            "00:00:00    51 MB(11%)  Iter  15   29.63%  Refine biparts\n",
            "00:00:00    51 MB(11%)  Iter  15   33.33%  Refine biparts\n",
            "00:00:00    51 MB(11%)  Iter  15   37.04%  Refine biparts\n",
            "00:00:00    51 MB(11%)  Iter  15   40.74%  Refine biparts\n",
            "00:00:00    51 MB(11%)  Iter  15   44.44%  Refine biparts\n",
            "00:00:00    51 MB(11%)  Iter  15   48.15%  Refine biparts\n",
            "00:00:00    51 MB(11%)  Iter  15   51.85%  Refine biparts\n",
            "00:00:00    51 MB(11%)  Iter  15   55.56%  Refine biparts\n",
            "00:00:00    51 MB(11%)  Iter  15   59.26%  Refine biparts\n",
            "00:00:00    51 MB(11%)  Iter  15   62.96%  Refine biparts\n",
            "00:00:00    51 MB(11%)  Iter  15   66.67%  Refine biparts\n",
            "00:00:00    51 MB(11%)  Iter  15   70.37%  Refine biparts\n",
            "00:00:00    51 MB(11%)  Iter  15   74.07%  Refine biparts\n",
            "00:00:00    51 MB(11%)  Iter  15   77.78%  Refine biparts\n",
            "00:00:00    51 MB(11%)  Iter  15   81.48%  Refine biparts\n",
            "00:00:00    51 MB(11%)  Iter  15   85.19%  Refine biparts\n",
            "00:00:00    51 MB(11%)  Iter  15   88.89%  Refine biparts\n",
            "00:00:00    51 MB(11%)  Iter  15   92.59%  Refine biparts\n",
            "00:00:00    51 MB(11%)  Iter  15   96.30%  Refine biparts\n",
            "00:00:00    51 MB(11%)  Iter  15  100.00%  Refine biparts\n",
            "00:00:00    51 MB(11%)  Iter  15  103.70%  Refine biparts\n",
            "00:00:00    51 MB(11%)  Iter  15  100.00%  Refine biparts\n",
            "00:00:00    51 MB(11%)  Iter  16    7.41%  Refine biparts\n",
            "00:00:00    51 MB(11%)  Iter  16   11.11%  Refine biparts\n",
            "00:00:00    51 MB(11%)  Iter  16   14.81%  Refine biparts\n",
            "00:00:00    51 MB(11%)  Iter  16   18.52%  Refine biparts\n",
            "00:00:00    51 MB(11%)  Iter  16   22.22%  Refine biparts\n",
            "00:00:00    51 MB(11%)  Iter  16   25.93%  Refine biparts\n",
            "00:00:00    51 MB(11%)  Iter  16   29.63%  Refine biparts\n",
            "00:00:00    51 MB(11%)  Iter  16   33.33%  Refine biparts\n",
            "00:00:00    51 MB(11%)  Iter  16   37.04%  Refine biparts\n",
            "00:00:00    51 MB(11%)  Iter  16   40.74%  Refine biparts\n",
            "00:00:00    51 MB(11%)  Iter  16   44.44%  Refine biparts\n",
            "00:00:00    51 MB(11%)  Iter  16   48.15%  Refine biparts\n",
            "00:00:00    51 MB(11%)  Iter  16   51.85%  Refine biparts\n",
            "00:00:00    51 MB(11%)  Iter  16   55.56%  Refine biparts\n",
            "00:00:00    51 MB(11%)  Iter  16   59.26%  Refine biparts\n",
            "00:00:00    51 MB(11%)  Iter  16   62.96%  Refine biparts\n",
            "00:00:00    51 MB(11%)  Iter  16   66.67%  Refine biparts\n",
            "00:00:00    51 MB(11%)  Iter  16   70.37%  Refine biparts\n",
            "00:00:00    51 MB(11%)  Iter  16   74.07%  Refine biparts\n",
            "00:00:00    51 MB(11%)  Iter  16   77.78%  Refine biparts\n",
            "00:00:00    51 MB(11%)  Iter  16   81.48%  Refine biparts\n",
            "00:00:00    51 MB(11%)  Iter  16   85.19%  Refine biparts\n",
            "00:00:00    51 MB(11%)  Iter  16   88.89%  Refine biparts\n",
            "00:00:00    51 MB(11%)  Iter  16   92.59%  Refine biparts\n",
            "00:00:00    51 MB(11%)  Iter  16   96.30%  Refine biparts\n",
            "00:00:00    51 MB(11%)  Iter  16  100.00%  Refine biparts\n",
            "00:00:00    51 MB(11%)  Iter  16  103.70%  Refine biparts\n",
            "00:00:00    51 MB(11%)  Iter  16  100.00%  Refine biparts\n",
            "00:00:00    51 MB(11%)  Iter  17    7.41%  Refine biparts\n",
            "00:00:00    51 MB(11%)  Iter  17   11.11%  Refine biparts\n",
            "00:00:00    51 MB(11%)  Iter  17   14.81%  Refine biparts\n",
            "00:00:00    51 MB(11%)  Iter  17   18.52%  Refine biparts\n",
            "00:00:00    51 MB(11%)  Iter  17   22.22%  Refine biparts\n",
            "00:00:00    51 MB(11%)  Iter  17   25.93%  Refine biparts\n",
            "00:00:00    51 MB(11%)  Iter  17   29.63%  Refine biparts\n",
            "00:00:00    51 MB(11%)  Iter  17   33.33%  Refine biparts\n",
            "00:00:00    51 MB(11%)  Iter  17   37.04%  Refine biparts\n",
            "00:00:00    51 MB(11%)  Iter  17   40.74%  Refine biparts\n",
            "00:00:00    51 MB(11%)  Iter  17   44.44%  Refine biparts\n",
            "00:00:00    51 MB(11%)  Iter  17   48.15%  Refine biparts\n",
            "00:00:00    51 MB(11%)  Iter  17   51.85%  Refine biparts\n",
            "00:00:00    51 MB(11%)  Iter  17   55.56%  Refine biparts\n",
            "00:00:00    51 MB(11%)  Iter  17   59.26%  Refine biparts\n",
            "00:00:00    51 MB(11%)  Iter  17   62.96%  Refine biparts\n",
            "00:00:00    51 MB(11%)  Iter  17   66.67%  Refine biparts\n",
            "00:00:00    51 MB(11%)  Iter  17   70.37%  Refine biparts\n",
            "00:00:00    51 MB(11%)  Iter  17   74.07%  Refine biparts\n",
            "00:00:00    51 MB(11%)  Iter  17   77.78%  Refine biparts\n",
            "00:00:00    51 MB(11%)  Iter  17   81.48%  Refine biparts\n",
            "00:00:00    51 MB(11%)  Iter  17   85.19%  Refine biparts\n",
            "00:00:00    51 MB(11%)  Iter  17   88.89%  Refine biparts\n",
            "00:00:00    51 MB(11%)  Iter  17   92.59%  Refine biparts\n",
            "00:00:00    51 MB(11%)  Iter  17   96.30%  Refine biparts\n",
            "00:00:00    51 MB(11%)  Iter  17  100.00%  Refine biparts\n",
            "00:00:00    51 MB(11%)  Iter  17  103.70%  Refine biparts\n",
            "00:00:00    51 MB(11%)  Iter  17  100.00%  Refine biparts\n",
            "\n"
          ],
          "name": "stdout"
        }
      ]
    },
    {
      "cell_type": "markdown",
      "metadata": {
        "id": "hjdANR_5XtVU"
      },
      "source": [
        "### Árvore filogenética:\n",
        "\n",
        "- Leia o arquivo “mtb-90.aligned.fasta” utilizando o módulo Bio.AlignIO e carregue o primeiro alinhamento para uma variável alignment;\n",
        "- Produza uma matriz de distância a partir do alinhamento usando como base a matriz BLOSUM62;\n",
        "- Produza uma árvore filogenética com o algoritmo Neighbor Join (NJ) a partir da matriz de distância;\n",
        "- Plote a árvore filogenética produzida com NJ.\n",
        "- Salve a árvore com o nome “nj.newick”.\n",
        "- Produza uma árvore filogenética com o algoritmo UPGMA a partir da matriz de distância;\n",
        "- Plote a árvore filogenética produzida com UPGMA.\n",
        "- Salve a árvore com o nome “upgma.newick”.\n"
      ]
    },
    {
      "cell_type": "code",
      "metadata": {
        "id": "vtYh9XKkX8AO"
      },
      "source": [
        "from Bio import AlignIO"
      ],
      "execution_count": 16,
      "outputs": []
    },
    {
      "cell_type": "code",
      "metadata": {
        "id": "TAfC8PpbOFkO"
      },
      "source": [
        "# carregando o alinhamento na variável alignment \n",
        "handle = open('mtb-90.aligned.fasta')\n",
        "parser = AlignIO.parse(handle, 'fasta')\n",
        "\n",
        "alignment = next(parser)"
      ],
      "execution_count": 17,
      "outputs": []
    },
    {
      "cell_type": "code",
      "metadata": {
        "colab": {
          "base_uri": "https://localhost:8080/"
        },
        "id": "kf--F_R9OrgB",
        "outputId": "10e07df8-822d-4540-dc34-bfeff1d54a23"
      },
      "source": [
        "print(alignment.format('clustal'))"
      ],
      "execution_count": 18,
      "outputs": [
        {
          "output_type": "stream",
          "text": [
            "CLUSTAL X (1.81) multiple sequence alignment\n",
            "\n",
            "\n",
            "tr|A0A109SY95|A0A109SY95_MYCTX      MNRTQLLTLIATGLGLFMIFLDALIVNVALPDIQRSFAVGEDGLQWVVAS\n",
            "tr|A0A1R3Y0V9|A0A1R3Y0V9_MYCBO      MNRTQLLTLIATGLGLFMIFLDALIVNVALPDIQRSFAVGEDGLQWVVAS\n",
            "tr|A0A0H3M715|A0A0H3M715_MYCBP      MNRTQLLTLIATGLGLFMIFLDALIVNVALPDIQRSFAVGEDGLQWVVAS\n",
            "tr|A0A0K2HXW9|A0A0K2HXW9_MYCBI      MNRTQLLTLIATGLGLFMIFLDALIVNVALPDIQRSFAVGEDGLQWVVAS\n",
            "tr|G0TNP1|G0TNP1_MYCCP              MNRTQLLTLIATGLGLFMIFLDALIVNVALPDIQRSFAVGEDGLQWVVAS\n",
            "tr|A0A328GGU5|A0A328GGU5_MYCTX      MNRTQLLTLIATGLGLFMIFLDALIVNVALPDIQRSFAVGEDGLQWVVAS\n",
            "tr|A0A501P535|A0A501P535_9MYCO      MNRTQLLTLIATGLGLFMIFLDALIVNVALPDIQRSFAVGEDGLQWVVAS\n",
            "tr|A0A655CEJ5|A0A655CEJ5_MYCTX      MNRTQLLTLIATGLGLFMIFLDALIVNVALPDIQRSFAVGEDGLQWVVAS\n",
            "tr|A0A655G224|A0A655G224_MYCTX      MNRTQLLTLIATGLGLFMIFLDALIVNVALPDIQRSFAVGEDGLQWVVAS\n",
            "tr|A0A655I569|A0A655I569_MYCTX      MNRTQLLTLIATGLGLFMIFLDALIVNVALPDIQRSFAVGEDGLQWVVAS\n",
            "tr|A5U522|A5U522_MYCTA              MNRTQLLTLIATGLGLFMIFLDALIVNVALPDIQRSFAVGEDGLQWVVAS\n",
            "sp|P9WG90|STP_MYCTO                 MNRTQLLTLIATGLGLFMIFLDALIVNVALPDIQRSFAVGEDGLQWVVAS\n",
            "tr|A0A045INE6|A0A045INE6_MYCTX      MNRTQLLTLIATGLGLFMIFLDALIVNVALPDIQRSFAVGEDGLQWVVAS\n",
            "tr|A0A0H3LBD1|A0A0H3LBD1_MYCTE      MNRTQLLTLIATGLGLFMIFLDALIVNVALPDIQRSFAVGEDGLQWVVAS\n",
            "tr|R4MFT3|R4MFT3_MYCTX              MNRTQLLTLIATGLGLFMIFLDALIVNVALPDIQRSFAVGEDGLQWVVAS\n",
            "\n",
            "tr|A0A109SY95|A0A109SY95_MYCTX      YSLGMAVFSMSAATLADLYGRRRWYLIGVSLFTLGSIACGLAPSIAVLTT\n",
            "tr|A0A1R3Y0V9|A0A1R3Y0V9_MYCBO      YSLGMAVFIMSAATLADLYGRRRWYLIGVSLFTLGSIACGLAPSIAVLTT\n",
            "tr|A0A0H3M715|A0A0H3M715_MYCBP      YSLGMAVFIMSAATLADLYGRRRWYLIGVSLFTLGSIACGLAPSIAVLTT\n",
            "tr|A0A0K2HXW9|A0A0K2HXW9_MYCBI      YSLGMAVFIMSAATLADLYGRRRWYLIGVSLFTLGSIACGLAPSIAVLTT\n",
            "tr|G0TNP1|G0TNP1_MYCCP              YSLGMAVFIMSAATLADLYGRRRWYLIGVSLFTLGSIACGLAPSIAVLTT\n",
            "tr|A0A328GGU5|A0A328GGU5_MYCTX      YSLGMAVFIMSAATLADLYGRRRWYLIGVSLFTLGSIACGLAPSIAVLTT\n",
            "tr|A0A501P535|A0A501P535_9MYCO      YSLGMAVFIMSAATLADLYGRRRWYLIGVSLFTLGSIACGLAPSIAVLTT\n",
            "tr|A0A655CEJ5|A0A655CEJ5_MYCTX      YSLGMAVFIMSAATLADLDGRRRWYLIGVSLFTLGSIACGLAPSIAVLTT\n",
            "tr|A0A655G224|A0A655G224_MYCTX      YSLGMAVFIMSAATLADLYGRRRWYLIGVSLFTLGSIACGLAPSIAVLTT\n",
            "tr|A0A655I569|A0A655I569_MYCTX      YSLGMAVFIMSAATLADLDGRRRWYLIGVSLFTLGSIACGLAPSIAVLTT\n",
            "tr|A5U522|A5U522_MYCTA              YSLGMAVFIMSAATLADLDGRRRWYLIGVSLFTLGSIACGLAPSIAVLTT\n",
            "sp|P9WG90|STP_MYCTO                 YSLGMAVFIMSAATLADLYGRRRWYLIGVSLFTLGSIACGLAPSIAVLTT\n",
            "tr|A0A045INE6|A0A045INE6_MYCTX      YSLGMAVFIMSAATLADLYGRRRWYLIGVSLFTLGSIACGLAPSIAVLTT\n",
            "tr|A0A0H3LBD1|A0A0H3LBD1_MYCTE      YSLGMAVFIMSAATLADLYGRRRWYLIGVSLFTLGSIACGLAPSIAVLTT\n",
            "tr|R4MFT3|R4MFT3_MYCTX              YSLGMAVFIMSAATLADLYGRRRWYLIGVSLFTLGSIACGLAPSIAVLTT\n",
            "\n",
            "tr|A0A109SY95|A0A109SY95_MYCTX      ARGAQGLGAAAVSVTSLALVSAAFPEAKEKARAIGIWTAIASIGTTTGPT\n",
            "tr|A0A1R3Y0V9|A0A1R3Y0V9_MYCBO      ARGAQGLGAAAVSVTSLALVSAAFPEAKEKARAIGIWTAIASIGTTTGPT\n",
            "tr|A0A0H3M715|A0A0H3M715_MYCBP      ARGAQGLGAAAVSVTSLALVSAAFPEAKEKARAIGIWTAIASIGTTTGPT\n",
            "tr|A0A0K2HXW9|A0A0K2HXW9_MYCBI      ARGAQGLGAAAVSVTSLALVSAAFPEAKEKARAIGIWTAIASIGTTTGPT\n",
            "tr|G0TNP1|G0TNP1_MYCCP              ARGAQGLGAAAVSVTSLALVSAAFPEAKEKARAIGIWTAIASIGTTTGPT\n",
            "tr|A0A328GGU5|A0A328GGU5_MYCTX      ARGAQGLGAAAVSVTSLALVSAAFPEAKEKARAIGIWTAIASIGTTTGPT\n",
            "tr|A0A501P535|A0A501P535_9MYCO      ARGAQGLGAAAVSVTSLALVSAAFPEAKEKARAIGIWTAIASIGTTTGPT\n",
            "tr|A0A655CEJ5|A0A655CEJ5_MYCTX      ARGAQGLGAAAVSVTSLALVSAAFPEAKEKARAIGIWTAIASIGTTTGPT\n",
            "tr|A0A655G224|A0A655G224_MYCTX      ARGAQGLGAAAVSVTSLALVSAAFPEAKEKARAIGIWTAIASIGTTTGPT\n",
            "tr|A0A655I569|A0A655I569_MYCTX      ARGAQGLGAAAVSVTSLALVSAAFPEAKEKARAIGIWTAIASIGTTTGPT\n",
            "tr|A5U522|A5U522_MYCTA              ARGAQGLGAAAVSVTSLALVSAAFPEAKEKARAIGIWTAIASIGTTTGPT\n",
            "sp|P9WG90|STP_MYCTO                 ARGAQGLGAAAVSVTSLALVSAAFPEAKEKARAIGIWTAIASIGTTTGPT\n",
            "tr|A0A045INE6|A0A045INE6_MYCTX      ARGAQGLGAAAVSVTSLALVSAAFPEAKEKARAIGIWTAIASIGTTTGPT\n",
            "tr|A0A0H3LBD1|A0A0H3LBD1_MYCTE      ARGAQGLGAAAVSVTSLALVSAAFPEAKEKARAIGIWTAIASIGTTTGPT\n",
            "tr|R4MFT3|R4MFT3_MYCTX              ARGAQGLGAAAVSVTSLALVSAAFPEAKEKARAIGIWTAIASIGTTTGPT\n",
            "\n",
            "tr|A0A109SY95|A0A109SY95_MYCTX      LGGLLVDQWGWRSIFYVNLPMGALVLFLTLCYVEESCNERARRFDLSGQL\n",
            "tr|A0A1R3Y0V9|A0A1R3Y0V9_MYCBO      LGGLLVDQWGWRSIFYVNLPMGALVLFLTLCYVEESCNERARRFDLSGQL\n",
            "tr|A0A0H3M715|A0A0H3M715_MYCBP      LGGLLVDQWGWRSIFYVNLPMGALVLFLTLCYVEESCNERARRFDLSGQL\n",
            "tr|A0A0K2HXW9|A0A0K2HXW9_MYCBI      LGGLLVDQWGWRSIFYVNLPMGALVLFLTLCYVEESCNERARRFDLSGQL\n",
            "tr|G0TNP1|G0TNP1_MYCCP              LGGLLVDQWGWRSIFYVNLPMGALVLFLTLCYVEESCNERARRFDLSGQL\n",
            "tr|A0A328GGU5|A0A328GGU5_MYCTX      LGGLLVDQWGWRSIFYVNLPMGALVLFLTLCYVEESCNERARRFDLSGQL\n",
            "tr|A0A501P535|A0A501P535_9MYCO      LGGLLVDQWGWRSIFYVNLPMGALVLFLTLCYVEESCNERARRFDLSGQL\n",
            "tr|A0A655CEJ5|A0A655CEJ5_MYCTX      LGGLLVDQWGWRSIFYVNLPMGALVLFLTLCYVEESCNERARRFDLSGQL\n",
            "tr|A0A655G224|A0A655G224_MYCTX      LGGLLVDQWGWRSIFYVNLPMGALVLFLTLCYVEESCNERARRFDLSGQL\n",
            "tr|A0A655I569|A0A655I569_MYCTX      LGGLLVDQWGWRSIFYVNLPMGALVLFLTLCYVEESCNERARRFDLSGQL\n",
            "tr|A5U522|A5U522_MYCTA              LGGLLVDQWGWRSIFYVNLPMGALVLFLTLCYVEESCNERARRFDLSGQL\n",
            "sp|P9WG90|STP_MYCTO                 LGGLLVDQWGWRSIFYVNLPMGALVLFLTLCYVEESCNERARRFDLSGQL\n",
            "tr|A0A045INE6|A0A045INE6_MYCTX      LGGLLVDQWGWRSIFYVNLPMGALVLFLTLCYVEESCNERARRFDLSGQL\n",
            "tr|A0A0H3LBD1|A0A0H3LBD1_MYCTE      LGGLLVDQWGWRSIFYVNLPMGALVLFLTLCYVEESCNERARRFDLSGQL\n",
            "tr|R4MFT3|R4MFT3_MYCTX              LGGLLVDQWGWRSIFYVNLPMGALVLFLTLCYVEESCNERARRFDLSGQL\n",
            "\n",
            "tr|A0A109SY95|A0A109SY95_MYCTX      LFIVAVGALVYAVIEGPQIGWTSVQTIVMLWTAAVGCALFVWLERRSSNP\n",
            "tr|A0A1R3Y0V9|A0A1R3Y0V9_MYCBO      LFIVAVGALVYAVIEGPQIGWTSVQTIVMLWTAAVGCALFVWLERRSSNP\n",
            "tr|A0A0H3M715|A0A0H3M715_MYCBP      LFIVAVGALVYAVIEGPQIGWTSVQTIVMLWTAAVGCALFVWLERRSSNP\n",
            "tr|A0A0K2HXW9|A0A0K2HXW9_MYCBI      LFIVAVGALVYAVIEGPQIGWTSVQTIVMLWTAAVGCALFVWLERRSSNP\n",
            "tr|G0TNP1|G0TNP1_MYCCP              LFIVAVGALVYAVIEGPQIGWTSVQTIVMLWTAAVGCALFVWLERRSSNP\n",
            "tr|A0A328GGU5|A0A328GGU5_MYCTX      LFIVAVGALVYAVIEGPQIGWTSVQTIVMLWTAAVGCALFVWLERRSSNP\n",
            "tr|A0A501P535|A0A501P535_9MYCO      LFIVAVGALVYAVIEGPQIGWTSVQTIVMLWTAAVGCALFVWLERRSSNP\n",
            "tr|A0A655CEJ5|A0A655CEJ5_MYCTX      LFIVAVGALVYAVIEGPQIGWGAVQTIVMLWTAAVGCALFVWLERRSSNP\n",
            "tr|A0A655G224|A0A655G224_MYCTX      LFVVAVGALVYAVIEGPQIGWTSVQTIVMLWTAAVGCALFVWLERRSSNP\n",
            "tr|A0A655I569|A0A655I569_MYCTX      LFIVAVGALVYAVIEGPQIGWTSVQTIVMLWTAAVGCALFVWLERRSSNP\n",
            "tr|A5U522|A5U522_MYCTA              LFIVAVGALVYAVIEGPQIGWTSVQTIVMLWTAAVGCALFVWLERRSSNP\n",
            "sp|P9WG90|STP_MYCTO                 LFIVAVGALVYAVIEGPQIGWTSVQTIVMLWTAAVGCALFVWLERRSSNP\n",
            "tr|A0A045INE6|A0A045INE6_MYCTX      LFIVAVGALVYAVIEGPQIGWTSVQTIVMLWTAAVGCALFVWLERRSSNP\n",
            "tr|A0A0H3LBD1|A0A0H3LBD1_MYCTE      LFIVAVGALVYAVIEGPQIGWTSVQTIVMLWTAAVGCALFVWLERRSSNP\n",
            "tr|R4MFT3|R4MFT3_MYCTX              LFIVAVGALVYAVIEGPQIGWTSVQTIVMLWTAAVGCALFVWLERRSSNP\n",
            "\n",
            "tr|A0A109SY95|A0A109SY95_MYCTX      MMDLTLFRDTSYALAIATICTVFFAVYGMLLLTTQFLQNVRGYTPSVTGL\n",
            "tr|A0A1R3Y0V9|A0A1R3Y0V9_MYCBO      MMDLTLFRDTSYALAIATICTVFFAVYGMLLLTTQFLQNVRGYTPSVTGL\n",
            "tr|A0A0H3M715|A0A0H3M715_MYCBP      MMDLTLFRDTSYALAIATICTVFFAVYGMLLLTTQFLQNVRGYTPSVTGL\n",
            "tr|A0A0K2HXW9|A0A0K2HXW9_MYCBI      MMDLTLFRDTSYALAIATICTVFFAVYGMLLLTTQFLQNVRGYTPSVTGL\n",
            "tr|G0TNP1|G0TNP1_MYCCP              MMDLTLFRDTSYALAIATICTVFFAVYGMLLLTTQFLQNVRGYTPSVTGL\n",
            "tr|A0A328GGU5|A0A328GGU5_MYCTX      MMDLTLFRDTSYALAIATICTVFFAVYGMLLLTTQFLQNVRGYTPSVTGL\n",
            "tr|A0A501P535|A0A501P535_9MYCO      MMDLTLFRDTSYALAIATICTVFFAVYGMLLLTTQFLQNVRGYTPSVTGL\n",
            "tr|A0A655CEJ5|A0A655CEJ5_MYCTX      MMDLTLFRDTSYALAIATICTVFFAVYGMLLLTTQFLQNVRGYTPSVTGL\n",
            "tr|A0A655G224|A0A655G224_MYCTX      MMDLTLFRDTSYALAIATICTVFFAVYGMLLLTTQFLQNVRGYTPSVTGL\n",
            "tr|A0A655I569|A0A655I569_MYCTX      MMDLTLFRDTSYALAIATICTVFFAVYGMLLLTTQFLQNVRGYTPSVTGL\n",
            "tr|A5U522|A5U522_MYCTA              MMDLTLFRDTSYALAIATICTVFFAVYGMLLLTTQFLQNVRGYTPSVTGL\n",
            "sp|P9WG90|STP_MYCTO                 MMDLTLFRDTSYALAIATICTVFFAVYGMLLLTTQFLQNVRGYTPSVTGL\n",
            "tr|A0A045INE6|A0A045INE6_MYCTX      MMDLTLFRDTSYALAIATICTVFFAVYGMLLLTTQFLQNVRGYTPSVTGL\n",
            "tr|A0A0H3LBD1|A0A0H3LBD1_MYCTE      MMDLTLFRDTSYALAIATICTVFFAVYGMLLLTTQFLQNVRGYTPSVTGL\n",
            "tr|R4MFT3|R4MFT3_MYCTX              MMDLTLFRDTSYALAIATICTVFFAVYGMLLLTTQFLQNVRGYTPSVTGL\n",
            "\n",
            "tr|A0A109SY95|A0A109SY95_MYCTX      MILPFSAAVAIVSPLVGHLVGRIGARVPILAGLCMLMLGLLMLIFSEHRS\n",
            "tr|A0A1R3Y0V9|A0A1R3Y0V9_MYCBO      MILPFSAAVAIVSPLVGHLVGRIGARVPILAGLCMLMLGLLMLIFSEHRS\n",
            "tr|A0A0H3M715|A0A0H3M715_MYCBP      MILPFSAAVAIVSPLVGHLVGRIGARVPILAGLCMLMLGLLMLIFSEHRS\n",
            "tr|A0A0K2HXW9|A0A0K2HXW9_MYCBI      MILPFSAAVAIVSPLVGHLVGRIGARVPILAGLCMLMLGLLMLIFSEHRS\n",
            "tr|G0TNP1|G0TNP1_MYCCP              MILPFSAAVAIVSPLVGHLVGRIGARVPILAGLCMLMLGLLMLIFSEHRS\n",
            "tr|A0A328GGU5|A0A328GGU5_MYCTX      MILPFSAAVAIVSPLVGHLVGRIGARVPILAGLCMLMLGLLMLIFSEHRS\n",
            "tr|A0A501P535|A0A501P535_9MYCO      MILPFSAAVAIVSPLVGHLVGRIGARVPILAGLCMLMLGLLMLIFSEHRS\n",
            "tr|A0A655CEJ5|A0A655CEJ5_MYCTX      MILPFSAAVAIVSPLVGHLVGRIGARVPILAGLCMLMLGLLMLIFSEHRS\n",
            "tr|A0A655G224|A0A655G224_MYCTX      MILPFSAAVAIVSPLVGHLVGRIGARVPILAGLCMLMLGLLMLIFSEHRS\n",
            "tr|A0A655I569|A0A655I569_MYCTX      MILPFSAAVAIVSPLVGHLVGRIGARVPILAGLCMLMLGLLMLIFSEHRS\n",
            "tr|A5U522|A5U522_MYCTA              MILPFSAAVAIVSPLVGHLVGRIGARVPILAGLCMLMLGLLMLIFSEHRS\n",
            "sp|P9WG90|STP_MYCTO                 MILPFSAAVAIVSPLVGHLVGRIGARVPILAGLCMLMLGLLMLIFSEHRS\n",
            "tr|A0A045INE6|A0A045INE6_MYCTX      MILPFSAAVAIVSPLVGHLVGRIGARVPILAGLCMLMLGLLMLIFSEHRS\n",
            "tr|A0A0H3LBD1|A0A0H3LBD1_MYCTE      MILPFSAAVAIVSPLVGHLVGRIGARVPILAGLCMLMLGLLMLIFSEHRS\n",
            "tr|R4MFT3|R4MFT3_MYCTX              MILPFSAAVAIVSPLVGHLVGRIGARVPILAGLCMLMLGLLMLIFSEHRS\n",
            "\n",
            "tr|A0A109SY95|A0A109SY95_MYCTX      SALVLVGLGLCGSGVALCLTPITTVAMTAVPAERAGMASGIMSAQRAIGS\n",
            "tr|A0A1R3Y0V9|A0A1R3Y0V9_MYCBO      SALVLVGLGLCGSGVALCLTPITTVAMTAVPAERAGMASGIMSAQRAIGS\n",
            "tr|A0A0H3M715|A0A0H3M715_MYCBP      SALVLVGLGLCGSGVALCLTPITTVAMTAVPAERAGMASGIMSAQRAIGS\n",
            "tr|A0A0K2HXW9|A0A0K2HXW9_MYCBI      SALVLVGLGLCGSGVALCLTPITTVAMTAVPAERAGMASGIMSAQRAIGS\n",
            "tr|G0TNP1|G0TNP1_MYCCP              SALVLVGLGLCGSGVALCLTPITTVAMTAVPAERAGMASGIMSAQRAIGS\n",
            "tr|A0A328GGU5|A0A328GGU5_MYCTX      SALVLVGLGLCGSGVALCLTPITTVAMTAVPAERAGMASGIMSAQRAIGS\n",
            "tr|A0A501P535|A0A501P535_9MYCO      SALVLVGLGLCGSGVALCLTPITTVAMTAVPAERAGMASGIMSAQRAIGS\n",
            "tr|A0A655CEJ5|A0A655CEJ5_MYCTX      SALVLVGLGLCGSGVALCLTPITTVAMTAVPAERAGMASGIMSAQRAIGS\n",
            "tr|A0A655G224|A0A655G224_MYCTX      SALVLVGLGLCGSGVALCLTPITTVAMTAVPAERAGMASGIMSAQRAIGS\n",
            "tr|A0A655I569|A0A655I569_MYCTX      SALVLVGLGLCGSGVALCLTPITTVAMTAVPAERAGMASGIMSAQRAIGS\n",
            "tr|A5U522|A5U522_MYCTA              SALVLVGLGLCGSGVALCLTPITTVAMTAVPAERAGMASGIMSAQRAIGS\n",
            "sp|P9WG90|STP_MYCTO                 SALVLVGLGLCGSGVALCLTPITTVAMTAVPAERAGMASGIMSAQRAIGS\n",
            "tr|A0A045INE6|A0A045INE6_MYCTX      SALVLVGLGLCGSGVALCLTPITTVAMTAVPAERAGMASGIMSAQRAIGS\n",
            "tr|A0A0H3LBD1|A0A0H3LBD1_MYCTE      SALVLVGLGLCGSGVALCLTPITTVAMTAVPAERAGMASGIMSAQRAIGS\n",
            "tr|R4MFT3|R4MFT3_MYCTX              SALVLVGLGLCGSGVALCLTPITTVAMTAVPAERAGMASGIMSAQRAIGS\n",
            "\n",
            "tr|A0A109SY95|A0A109SY95_MYCTX      TIGFAVLGSVLAAWLSATLEPHLERAVPDPVQRHVLAEIIIDSANPRAHV\n",
            "tr|A0A1R3Y0V9|A0A1R3Y0V9_MYCBO      TIGFAVLGSVLAAWLSATLEPHLERAVPDPVQRHVLAEIIIDSANPRAHV\n",
            "tr|A0A0H3M715|A0A0H3M715_MYCBP      TIGFAVLGSVLAAWLSATLEPHLERAVPDPVQRHVLAEIIIDSANPRAHV\n",
            "tr|A0A0K2HXW9|A0A0K2HXW9_MYCBI      TIGFAVLGSVLAAWLSATLEPHLERAVPDPVQRHVLAEIIIDSANPRAHV\n",
            "tr|G0TNP1|G0TNP1_MYCCP              TIGFAVLGSVLAAWLSATLEPHLERAVPDPVQRHVLAEIIIDSANPRAHV\n",
            "tr|A0A328GGU5|A0A328GGU5_MYCTX      TIGFAVLGSVLAAWLSATLEPHLERAVPDPVQRHVLAEIIIDSANPRAHV\n",
            "tr|A0A501P535|A0A501P535_9MYCO      TIGFAVLGSVLAAWLSATLEPHLERAVPDPVQRHVLAEIIIDSANPRAHV\n",
            "tr|A0A655CEJ5|A0A655CEJ5_MYCTX      TIGFAVLGSVLAAWLSATLEPHLERAVPDPVQRHVLAEIIIDSANPRAHV\n",
            "tr|A0A655G224|A0A655G224_MYCTX      TIGFAVLGSVLAAWLSATLEPHLERAVPDPVQRHVLAEIIIDSANPRAHV\n",
            "tr|A0A655I569|A0A655I569_MYCTX      TIGFAVLGSVLAAWLSATLEPHLERAVPDPVQRHVLAEIIIDSANPRAHV\n",
            "tr|A5U522|A5U522_MYCTA              TIGFAVLGSVLAAWLSATLEPHLERAVPDPVQRHVLAEIIIDSANPRAHV\n",
            "sp|P9WG90|STP_MYCTO                 TIGFAVLGSVLAAWLSATLEPHLERAVPDPVQRHVLAEIIIDSANPRAHV\n",
            "tr|A0A045INE6|A0A045INE6_MYCTX      TIGFAVLGSVLAAWLSATLEPHLERAVPDPVQRHVLAEIIIDSANPRAHV\n",
            "tr|A0A0H3LBD1|A0A0H3LBD1_MYCTE      TIGFAVLGSVLAAWLSATLEPHLERAVPDPVQRHVLAEIIIDSANPRAHV\n",
            "tr|R4MFT3|R4MFT3_MYCTX              TIGFAVLGSVLAAWLSATLEPHLERAVPDPVQRHVLAEIIIDSANPRAHV\n",
            "\n",
            "tr|A0A109SY95|A0A109SY95_MYCTX      GGIVPRRHIEHRDPVAIAEEDFIEGIRVALLVATATLAVVFLAGWRWFPR\n",
            "tr|A0A1R3Y0V9|A0A1R3Y0V9_MYCBO      GGIVPRRHIEHRDPVAIAEEDFIEGIRVALLVATATLAVVFLAGWRWFPR\n",
            "tr|A0A0H3M715|A0A0H3M715_MYCBP      GGIVPRRHIEHRDPVAIAEEDFIEGIRVALLVATATLAVVFLAGWRWFPR\n",
            "tr|A0A0K2HXW9|A0A0K2HXW9_MYCBI      GGIVPRRHIEHRDPVAIAEEDFIEGIRVALLVATATLAVVFLAGWRWFPR\n",
            "tr|G0TNP1|G0TNP1_MYCCP              GGIVPRRHIEHRDPVAIAEEDFIEGIRVALLVATATLAVVFLAGWRWFPR\n",
            "tr|A0A328GGU5|A0A328GGU5_MYCTX      GGIVPRRHIEHRDPVAIAEEDFIEGIRVALLVATATLAVVFLAGWRWFPR\n",
            "tr|A0A501P535|A0A501P535_9MYCO      GGIVPRRHIEHRDPVAIAEEDFIEGIRVALLVATATLAVVFLAGWRWFPR\n",
            "tr|A0A655CEJ5|A0A655CEJ5_MYCTX      GGIVPRRHIEHRDPVAIAEEDFIEGIRVALLVATATLAVVFLAGWRWFPR\n",
            "tr|A0A655G224|A0A655G224_MYCTX      GGIVPRRHIEHRDPVAIAEEDFIEGIRVALLVATATLAVVFLAGWRWFPR\n",
            "tr|A0A655I569|A0A655I569_MYCTX      GGIVPRRHIEHRDPVAIAEEDFIEGIRVALLVATATLAVVFLAGWRWFPR\n",
            "tr|A5U522|A5U522_MYCTA              GGIVPRRHIEHRDPVAIAEEDFIEGIRVALLVATATLAVVFLAGWRWFPR\n",
            "sp|P9WG90|STP_MYCTO                 GGIVPRRHIEHRDPVAIAEEDFIEGIRVALLVATATLAVVFLAGWRWFPR\n",
            "tr|A0A045INE6|A0A045INE6_MYCTX      GGIVPRRHIEHRDPVAIAEEDFIEGIRVALLVATATLAVVFLAGWRWFPR\n",
            "tr|A0A0H3LBD1|A0A0H3LBD1_MYCTE      GGIVPRRHIEHRDPVAIAEEDFIEGIRVALLVATATLAVVFLAGWRWFPR\n",
            "tr|R4MFT3|R4MFT3_MYCTX              GGIVPRRHIEHRDPVAIAEEDFIEGIRVALLVATATLAVVFLAGWRWFPR\n",
            "\n",
            "tr|A0A109SY95|A0A109SY95_MYCTX      DVHTAGSD--AKREAAYSDDRRVRG------------\n",
            "tr|A0A1R3Y0V9|A0A1R3Y0V9_MYCBO      DVQTAGSD--AKREAAYSDDRRVRG------------\n",
            "tr|A0A0H3M715|A0A0H3M715_MYCBP      DVQTAGSD--AKREAAYSDDRRVRG------------\n",
            "tr|A0A0K2HXW9|A0A0K2HXW9_MYCBI      DVQTAGSD--AKREAAYSDDRRVRG------------\n",
            "tr|G0TNP1|G0TNP1_MYCCP              DVHTAGSD--AKREAAYSDDRRVRG------------\n",
            "tr|A0A328GGU5|A0A328GGU5_MYCTX      DVHTAGSD--AKREAAYSDDRRVRG------------\n",
            "tr|A0A501P535|A0A501P535_9MYCO      DVHTAGSD--AKREAAYSDDRRVRG------------\n",
            "tr|A0A655CEJ5|A0A655CEJ5_MYCTX      DVHTAGSDLSERLPTAMTVECAVSHMPGATWCRLWPA\n",
            "tr|A0A655G224|A0A655G224_MYCTX      DVHTAGSDLSERLPTAMTVECAVSHMPGATWCRLWPA\n",
            "tr|A0A655I569|A0A655I569_MYCTX      DVHTAGSDLSERLPTAMTVECAVSHMPGATWCRLWPA\n",
            "tr|A5U522|A5U522_MYCTA              DVHTAGSDLSERLPTAMTVECAVSHMPGATWCRLWPA\n",
            "sp|P9WG90|STP_MYCTO                 DVHTAGSDLSERLPTAMTVECAVSHMPGATWCRLWPA\n",
            "tr|A0A045INE6|A0A045INE6_MYCTX      DVHTAGSDLSERLPTAMTVECAVSHMPGATWCRLWPA\n",
            "tr|A0A0H3LBD1|A0A0H3LBD1_MYCTE      DVHTAGSDLSERLPTAMTVECAVSHMPGATWCRLWPA\n",
            "tr|R4MFT3|R4MFT3_MYCTX              DVHTAGSDLSERLPTAMTVECAVSHMPGATWCRLWPA\n",
            "\n",
            "\n",
            "\n"
          ],
          "name": "stdout"
        },
        {
          "output_type": "stream",
          "text": [
            "/usr/local/lib/python3.7/dist-packages/Bio/Align/__init__.py:308: BiopythonDeprecationWarning: alignment.format has been deprecated, and we intend to remove it in a future release of Biopython. Instead of alignment.format(format_spec), please use format(alignment, format_spec) or an f-string.\n",
            "  BiopythonDeprecationWarning,\n"
          ],
          "name": "stderr"
        }
      ]
    },
    {
      "cell_type": "code",
      "metadata": {
        "id": "6I6g6pWORp42"
      },
      "source": [
        "from Bio import Phylo\n",
        "from Bio.Phylo.TreeConstruction import DistanceCalculator\n",
        "from Bio.Phylo.TreeConstruction import DistanceTreeConstructor\n",
        "\n",
        "import matplotlib.pyplot as plt"
      ],
      "execution_count": 19,
      "outputs": []
    },
    {
      "cell_type": "code",
      "metadata": {
        "id": "5n5POaBhR7Xs"
      },
      "source": [
        "calculator = DistanceCalculator(model=\"blosum62\")\n",
        "\n",
        "distance_matrix = calculator.get_distance(alignment)"
      ],
      "execution_count": 20,
      "outputs": []
    },
    {
      "cell_type": "code",
      "metadata": {
        "colab": {
          "base_uri": "https://localhost:8080/"
        },
        "id": "SKxS6fKKSQO9",
        "outputId": "27b834b3-b9c0-451e-f35e-c9da697d5143"
      },
      "source": [
        "distance_matrix"
      ],
      "execution_count": 21,
      "outputs": [
        {
          "output_type": "execute_result",
          "data": {
            "text/plain": [
              "DistanceMatrix(names=['tr|A0A109SY95|A0A109SY95_MYCTX', 'tr|A0A1R3Y0V9|A0A1R3Y0V9_MYCBO', 'tr|A0A0H3M715|A0A0H3M715_MYCBP', 'tr|A0A0K2HXW9|A0A0K2HXW9_MYCBI', 'tr|G0TNP1|G0TNP1_MYCCP', 'tr|A0A328GGU5|A0A328GGU5_MYCTX', 'tr|A0A501P535|A0A501P535_9MYCO', 'tr|A0A655CEJ5|A0A655CEJ5_MYCTX', 'tr|A0A655G224|A0A655G224_MYCTX', 'tr|A0A655I569|A0A655I569_MYCTX', 'tr|A5U522|A5U522_MYCTA', 'sp|P9WG90|STP_MYCTO', 'tr|A0A045INE6|A0A045INE6_MYCTX', 'tr|A0A0H3LBD1|A0A0H3LBD1_MYCTE', 'tr|R4MFT3|R4MFT3_MYCTX'], matrix=[[0], [0.0053252187143401075, 0], [0.0053252187143401075, 0.0, 0], [0.0053252187143401075, 0.0, 0.0, 0], [0.0022822365918599985, 0.003042982122479998, 0.003042982122479998, 0.003042982122479998, 0], [0.0022822365918599985, 0.003042982122479998, 0.003042982122479998, 0.003042982122479998, 0.0, 0], [0.0022822365918599985, 0.003042982122479998, 0.003042982122479998, 0.003042982122479998, 0.0, 0.0, 0], [0.04027355623100304, 0.04103343465045595, 0.04103343465045595, 0.04103343465045595, 0.037993920972644424, 0.037993920972644424, 0.037993920972644424, 0], [0.03305471124620063, 0.03381458966565354, 0.03381458966565354, 0.03381458966565354, 0.030775075987841904, 0.030775075987841904, 0.030775075987841904, 0.007726269315673329, 0], [0.036107943747624494, 0.03686811098441656, 0.03686811098441656, 0.03686811098441656, 0.03382744203724819, 0.03382744203724819, 0.03382744203724819, 0.004047093451066908, 0.004047093451066908, 0], [0.036107943747624494, 0.03686811098441656, 0.03686811098441656, 0.03686811098441656, 0.03382744203724819, 0.03382744203724819, 0.03382744203724819, 0.004047093451066908, 0.004047093451066908, 0.0, 0], [0.032674772036474176, 0.033434650455927084, 0.033434650455927084, 0.033434650455927084, 0.03039513677811545, 0.03039513677811545, 0.03039513677811545, 0.00735835172921262, 0.0003679175864605977, 0.00367917586460631, 0.00367917586460631, 0], [0.032674772036474176, 0.033434650455927084, 0.033434650455927084, 0.033434650455927084, 0.03039513677811545, 0.03039513677811545, 0.03039513677811545, 0.00735835172921262, 0.0003679175864605977, 0.00367917586460631, 0.00367917586460631, 0.0, 0], [0.032674772036474176, 0.033434650455927084, 0.033434650455927084, 0.033434650455927084, 0.03039513677811545, 0.03039513677811545, 0.03039513677811545, 0.00735835172921262, 0.0003679175864605977, 0.00367917586460631, 0.00367917586460631, 0.0, 0.0, 0], [0.032674772036474176, 0.033434650455927084, 0.033434650455927084, 0.033434650455927084, 0.03039513677811545, 0.03039513677811545, 0.03039513677811545, 0.00735835172921262, 0.0003679175864605977, 0.00367917586460631, 0.00367917586460631, 0.0, 0.0, 0.0, 0]])"
            ]
          },
          "metadata": {
            "tags": []
          },
          "execution_count": 21
        }
      ]
    },
    {
      "cell_type": "code",
      "metadata": {
        "id": "hTkfITFESj81"
      },
      "source": [
        "# Produzindo uma árvore filogenética com o algoritmo Neighbor Join (NJ) \n",
        "constructor = DistanceTreeConstructor()\n",
        "\n",
        "tree = constructor.nj(distance_matrix)"
      ],
      "execution_count": 22,
      "outputs": []
    },
    {
      "cell_type": "code",
      "metadata": {
        "colab": {
          "base_uri": "https://localhost:8080/"
        },
        "id": "GwvVwP7DSzMN",
        "outputId": "1ed0ad9d-bcda-4987-bd67-840ef95fe55d"
      },
      "source": [
        "Phylo.draw_ascii(tree)"
      ],
      "execution_count": 23,
      "outputs": [
        {
          "output_type": "stream",
          "text": [
            " , tr|A0A0H3LBD1|A0A0H3LBD1_MYCTE\n",
            " |\n",
            " , tr|A0A045INE6|A0A045INE6_MYCTX\n",
            " |\n",
            " , sp|P9WG90|STP_MYCTO\n",
            " |\n",
            " |                                       , tr|A0A501P535|A0A501P535_9MYCO\n",
            " |                                       |\n",
            " |                                       , tr|A0A328GGU5|A0A328GGU5_MYCTX\n",
            " |                                       |\n",
            " |                                       | tr|G0TNP1|G0TNP1_MYCCP\n",
            " |                                       |\n",
            " |_______________________________________|__ tr|A0A109SY95|A0A109SY95_MYCTX\n",
            " |                                       |\n",
            " |                                       |    , tr|A0A0K2HXW9|A0A0K2HXW9_MYCBI\n",
            "_|                                       |____|\n",
            " |                                            , tr|A0A0H3M715|A0A0H3M715_MYCBP\n",
            " |                                            |\n",
            " |                                            | tr|A0A1R3Y0V9|A0A1R3Y0V9_MYCBO\n",
            " |\n",
            " |   , tr|A5U522|A5U522_MYCTA\n",
            " |   |\n",
            " |___| tr|A0A655I569|A0A655I569_MYCTX\n",
            " |   |\n",
            " |   |____ tr|A0A655CEJ5|A0A655CEJ5_MYCTX\n",
            " |\n",
            " | tr|A0A655G224|A0A655G224_MYCTX\n",
            " |\n",
            " | tr|R4MFT3|R4MFT3_MYCTX\n",
            "\n"
          ],
          "name": "stdout"
        }
      ]
    },
    {
      "cell_type": "code",
      "metadata": {
        "colab": {
          "base_uri": "https://localhost:8080/",
          "height": 638
        },
        "id": "RRiwxwOnS-u-",
        "outputId": "ded5f8f6-3ab5-4942-c130-f09c637eaa3a"
      },
      "source": [
        "fig = plt.figure(figsize=(30,15))\n",
        "axes = fig.add_subplot(1, 1, 1)\n",
        "Phylo.draw(tree, axes=axes)"
      ],
      "execution_count": 24,
      "outputs": [
        {
          "output_type": "display_data",
          "data": {
            "image/png": "[encoded data removed]",
            "text/plain": [
              "<Figure size 2160x1080 with 1 Axes>"
            ]
          },
          "metadata": {
            "tags": [],
            "needs_background": "light"
          }
        }
      ]
    },
    {
      "cell_type": "code",
      "metadata": {
        "colab": {
          "base_uri": "https://localhost:8080/"
        },
        "id": "nRS6e5NLU1be",
        "outputId": "c1e2e684-20e3-4989-ce9c-e104ad952aef"
      },
      "source": [
        "# Salvando a árvore construída com NJ com o nome “nj.newick”.\n",
        "Phylo.write([tree], open('nj.newick', 'w'), 'newick')"
      ],
      "execution_count": 25,
      "outputs": [
        {
          "output_type": "execute_result",
          "data": {
            "text/plain": [
              "1"
            ]
          },
          "metadata": {
            "tags": []
          },
          "execution_count": 25
        }
      ]
    },
    {
      "cell_type": "code",
      "metadata": {
        "id": "9nlenkw-VTFY"
      },
      "source": [
        "# Produzindo uma árvore filogenética com o algoritmo UPGMA \n",
        "constructor = DistanceTreeConstructor()\n",
        "\n",
        "upgmatree = constructor.upgma(distance_matrix)"
      ],
      "execution_count": 26,
      "outputs": []
    },
    {
      "cell_type": "code",
      "metadata": {
        "colab": {
          "base_uri": "https://localhost:8080/"
        },
        "id": "2rLhi83oWFUz",
        "outputId": "d23f09f8-f02e-432b-deb2-4196af807abb"
      },
      "source": [
        "Phylo.draw_ascii(upgmatree)"
      ],
      "execution_count": 27,
      "outputs": [
        {
          "output_type": "stream",
          "text": [
            "                                              , tr|A5U522|A5U522_MYCTA\n",
            "                                          ____|\n",
            "                                         |    | tr|A0A655I569|A0A655I569_MYCTX\n",
            "                                         |\n",
            "                                         |    , tr|R4MFT3|R4MFT3_MYCTX\n",
            "                                    _____|    |\n",
            "                                   |     |    | tr|A0A0H3LBD1|A0A0H3LBD1_MYCTE\n",
            "                                   |     |    |\n",
            "                                   |     |   ,| tr|A0A045INE6|A0A045INE6_MYCTX\n",
            "  _________________________________|     |   ||\n",
            " |                                 |     |___|| sp|P9WG90|STP_MYCTO\n",
            " |                                 |         |\n",
            " |                                 |         | tr|A0A655G224|A0A655G224_MYCTX\n",
            " |                                 |\n",
            " |                                 |______ tr|A0A655CEJ5|A0A655CEJ5_MYCTX\n",
            "_|\n",
            " |                                          , tr|A0A0K2HXW9|A0A0K2HXW9_MYCBI\n",
            " |                                          |\n",
            " |                                      ____| tr|A0A0H3M715|A0A0H3M715_MYCBP\n",
            " |                                     |    |\n",
            " |                                     |    | tr|A0A1R3Y0V9|A0A1R3Y0V9_MYCBO\n",
            " |                                     |\n",
            " |_____________________________________|    , tr|A0A501P535|A0A501P535_9MYCO\n",
            "                                       |    |\n",
            "                                       |  __| tr|A0A328GGU5|A0A328GGU5_MYCTX\n",
            "                                       | |  |\n",
            "                                       |_|  | tr|G0TNP1|G0TNP1_MYCCP\n",
            "                                         |\n",
            "                                         |__ tr|A0A109SY95|A0A109SY95_MYCTX\n",
            "\n"
          ],
          "name": "stdout"
        }
      ]
    },
    {
      "cell_type": "code",
      "metadata": {
        "colab": {
          "base_uri": "https://localhost:8080/",
          "height": 638
        },
        "id": "IC-0VnilWMXt",
        "outputId": "c1118a33-e832-4877-80a9-3388de7a1637"
      },
      "source": [
        "fig = plt.figure(figsize=(30,15))\n",
        "axes = fig.add_subplot(1, 1, 1)\n",
        "Phylo.draw(upgmatree, axes=axes)"
      ],
      "execution_count": 28,
      "outputs": [
        {
          "output_type": "display_data",
          "data": {
            "image/png": "[encoded data removed]",
            "text/plain": [
              "<Figure size 2160x1080 with 1 Axes>"
            ]
          },
          "metadata": {
            "tags": [],
            "needs_background": "light"
          }
        }
      ]
    },
    {
      "cell_type": "code",
      "metadata": {
        "colab": {
          "base_uri": "https://localhost:8080/"
        },
        "id": "wjRW1F7OWX6t",
        "outputId": "7c55f291-3169-4732-9f7a-16c81e717f9a"
      },
      "source": [
        "# Salvando a árvore construída com UPGMA com o nome “upgma.newick”\n",
        "Phylo.write([upgmatree], open('upgma.newick', 'w'), 'newick')"
      ],
      "execution_count": 29,
      "outputs": [
        {
          "output_type": "execute_result",
          "data": {
            "text/plain": [
              "1"
            ]
          },
          "metadata": {
            "tags": []
          },
          "execution_count": 29
        }
      ]
    }
  ]
}