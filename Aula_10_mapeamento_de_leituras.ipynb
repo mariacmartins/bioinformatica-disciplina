{
  "nbformat": 4,
  "nbformat_minor": 0,
  "metadata": {
    "colab": {
      "name": "Aula 10: mapeamento de leituras.ipynb",
      "provenance": [],
      "authorship_tag": "ABX9TyPbIJGu6Py+9MalhbxFf9vM",
      "include_colab_link": true
    },
    "kernelspec": {
      "name": "python3",
      "display_name": "Python 3"
    },
    "language_info": {
      "name": "python"
    }
  },
  "cells": [
    {
      "cell_type": "markdown",
      "metadata": {
        "id": "view-in-github",
        "colab_type": "text"
      },
      "source": [
        "<a href=\"https://colab.research.google.com/github/mariacmartins/bioinformatica-disciplina/blob/main/Aula_10_mapeamento_de_leituras.ipynb\" target=\"_parent\"><img src=\"https://colab.research.google.com/assets/colab-badge.svg\" alt=\"Open In Colab\"/></a>"
      ]
    },
    {
      "cell_type": "markdown",
      "metadata": {
        "id": "F9aHmrHlFFZa"
      },
      "source": [
        "# Mapeamento de leituras\n",
        "No mapeamento de leituras, cada leitura presente no dataset é alinhada (mapeada) na sequência de referência para se identificar a região do genoma que a originou. \n",
        "Este alinhamento é muito similar ao realizado por ferramentas como o BLAST, mas tem suas particularidades.\n",
        "\n",
        "No processo de identificação de variantes com NGS, por exemplo, o resultado deste alinhamento é processado de modo a se identificar posições do genoma onde há divergência entre o genoma de interesse e o genoma de referência. Além disso, para análise de variantes é importante reduzir ao máximo o número de artefatos de alinhamento, visto que estes podem levar à resultados falsos negativos e falsos positivos. \n",
        "\n",
        "\n",
        "**Formatos de arquivos de alinhamento (NGS):**\n",
        "- FASTQ: formato baseado em texto para armazenar uma sequência biológica e seus índices correspondentes de qualidade. \n",
        "- SAM: formato padrão para alinhamento de sequências (headers + tabular)\n",
        "- BAM: versão binária e compactada do formato SAM.\n",
        "- BAI: indexação do formato BAM."
      ]
    },
    {
      "cell_type": "code",
      "metadata": {
        "colab": {
          "base_uri": "https://localhost:8080/"
        },
        "id": "a-H8GcM6E-6m",
        "outputId": "1b6713d4-5b8a-41b9-a095-a65374ac7fdd"
      },
      "source": [
        "!apt install sra-toolkit bwa samtools ncbi-entrez-direct "
      ],
      "execution_count": 1,
      "outputs": [
        {
          "output_type": "stream",
          "text": [
            "Reading package lists... Done\n",
            "Building dependency tree       \n",
            "Reading state information... Done\n",
            "The following package was automatically installed and is no longer required:\n",
            "  libnvidia-common-460\n",
            "Use 'apt autoremove' to remove it.\n",
            "The following additional packages will be installed:\n",
            "  blends-common cwltool libauthen-sasl-perl libc-ares2 libdata-dump-perl\n",
            "  libencode-locale-perl libfile-listing-perl libfont-afm-perl\n",
            "  libhtml-form-perl libhtml-format-perl libhtml-parser-perl\n",
            "  libhtml-tagset-perl libhtml-tree-perl libhts2 libhttp-cookies-perl\n",
            "  libhttp-daemon-perl libhttp-date-perl libhttp-message-perl\n",
            "  libhttp-negotiate-perl libio-html-perl libio-socket-ssl-perl libjs-bootstrap\n",
            "  libkdf5-2 liblwp-mediatypes-perl liblwp-protocol-https-perl libmagic-mgc\n",
            "  libmagic1 libmailtools-perl libmbedcrypto1 libmbedtls10 libncbi-vdb2\n",
            "  libncbi-wvdb2 libnet-http-perl libnet-smtp-ssl-perl libnet-ssleay-perl\n",
            "  libtimedate-perl libtry-tiny-perl liburi-perl libwww-perl\n",
            "  libwww-robotrules-perl med-config menu netbase nodejs nodejs-doc\n",
            "  perl-openssl-defaults python-asn1crypto python-avro python-cachecontrol\n",
            "  python-certifi python-cffi-backend python-chardet python-cryptography\n",
            "  python-enum34 python-html5lib python-idna python-ipaddress python-isodate\n",
            "  python-lockfile python-mistune python-openssl python-pkg-resources\n",
            "  python-pyparsing python-rdflib python-rdflib-jsonld python-requests\n",
            "  python-ruamel.yaml python-schema-salad python-shellescape python-six\n",
            "  python-sparqlwrapper python-typing python-urllib3 python-webencodings\n",
            "Suggested packages:\n",
            "  blends-doc libdigest-hmac-perl libgssapi-perl libcrypt-ssleay-perl file\n",
            "  libauthen-ntlm-perl menu-l10n gksu | kde-runtime | ktsuss\n",
            "  python-cryptography-doc python-cryptography-vectors python-enum34-doc\n",
            "  python-genshi python-lxml python-lockfile-doc python-openssl-doc\n",
            "  python-openssl-dbg python-setuptools python-pyparsing-doc python-rdflib-doc\n",
            "  python-rdflib-tools python-socks python-ntlm\n",
            "The following NEW packages will be installed:\n",
            "  blends-common bwa cwltool libauthen-sasl-perl libc-ares2 libdata-dump-perl\n",
            "  libencode-locale-perl libfile-listing-perl libfont-afm-perl\n",
            "  libhtml-form-perl libhtml-format-perl libhtml-parser-perl\n",
            "  libhtml-tagset-perl libhtml-tree-perl libhts2 libhttp-cookies-perl\n",
            "  libhttp-daemon-perl libhttp-date-perl libhttp-message-perl\n",
            "  libhttp-negotiate-perl libio-html-perl libio-socket-ssl-perl libjs-bootstrap\n",
            "  libkdf5-2 liblwp-mediatypes-perl liblwp-protocol-https-perl libmagic-mgc\n",
            "  libmagic1 libmailtools-perl libmbedcrypto1 libmbedtls10 libncbi-vdb2\n",
            "  libncbi-wvdb2 libnet-http-perl libnet-smtp-ssl-perl libnet-ssleay-perl\n",
            "  libtimedate-perl libtry-tiny-perl liburi-perl libwww-perl\n",
            "  libwww-robotrules-perl med-config menu ncbi-entrez-direct netbase nodejs\n",
            "  nodejs-doc perl-openssl-defaults python-asn1crypto python-avro\n",
            "  python-cachecontrol python-certifi python-cffi-backend python-chardet\n",
            "  python-cryptography python-enum34 python-html5lib python-idna\n",
            "  python-ipaddress python-isodate python-lockfile python-mistune\n",
            "  python-openssl python-pkg-resources python-pyparsing python-rdflib\n",
            "  python-rdflib-jsonld python-requests python-ruamel.yaml python-schema-salad\n",
            "  python-shellescape python-six python-sparqlwrapper python-typing\n",
            "  python-urllib3 python-webencodings samtools sra-toolkit\n",
            "0 upgraded, 78 newly installed, 0 to remove and 34 not upgraded.\n",
            "Need to get 15.1 MB of archives.\n",
            "After this operation, 71.7 MB of additional disk space will be used.\n",
            "Get:1 http://archive.ubuntu.com/ubuntu bionic-updates/main amd64 libmagic-mgc amd64 1:5.32-2ubuntu0.4 [184 kB]\n",
            "Get:2 http://archive.ubuntu.com/ubuntu bionic-updates/main amd64 libmagic1 amd64 1:5.32-2ubuntu0.4 [68.6 kB]\n",
            "Get:3 http://archive.ubuntu.com/ubuntu bionic/main amd64 netbase all 5.4 [12.7 kB]\n",
            "Get:4 http://archive.ubuntu.com/ubuntu bionic-updates/universe amd64 menu amd64 2.1.47ubuntu2.1 [349 kB]\n",
            "Get:5 http://archive.ubuntu.com/ubuntu bionic/universe amd64 blends-common all 0.6.100ubuntu2 [15.0 kB]\n",
            "Get:6 http://archive.ubuntu.com/ubuntu bionic-updates/universe amd64 bwa amd64 0.7.17-1ubuntu0.1 [176 kB]\n",
            "Get:7 http://archive.ubuntu.com/ubuntu bionic/main amd64 python-pkg-resources all 39.0.1-2 [128 kB]\n",
            "Get:8 http://archive.ubuntu.com/ubuntu bionic/main amd64 python-six all 1.11.0-2 [11.3 kB]\n",
            "Get:9 http://archive.ubuntu.com/ubuntu bionic/universe amd64 python-isodate all 0.6.0-1 [23.8 kB]\n",
            "Get:10 http://archive.ubuntu.com/ubuntu bionic/main amd64 python-pyparsing all 2.2.0+dfsg1-2 [52.1 kB]\n",
            "Get:11 http://archive.ubuntu.com/ubuntu bionic/universe amd64 python-rdflib all 4.2.1-2 [237 kB]\n",
            "Get:12 http://archive.ubuntu.com/ubuntu bionic/main amd64 python-certifi all 2018.1.18-2 [144 kB]\n",
            "Get:13 http://archive.ubuntu.com/ubuntu bionic/main amd64 python-chardet all 3.0.4-1 [80.3 kB]\n",
            "Get:14 http://archive.ubuntu.com/ubuntu bionic/main amd64 python-idna all 2.6-1 [32.4 kB]\n",
            "Get:15 http://archive.ubuntu.com/ubuntu bionic-updates/main amd64 python-urllib3 all 1.22-1ubuntu0.18.04.2 [86.0 kB]\n",
            "Get:16 http://archive.ubuntu.com/ubuntu bionic-updates/main amd64 python-requests all 2.18.4-2ubuntu0.1 [58.5 kB]\n",
            "Get:17 http://archive.ubuntu.com/ubuntu bionic/universe amd64 python-ruamel.yaml amd64 0.15.34-1 [183 kB]\n",
            "Get:18 http://archive.ubuntu.com/ubuntu bionic/universe amd64 python-cachecontrol all 0.11.7-1 [15.2 kB]\n",
            "Get:19 http://archive.ubuntu.com/ubuntu bionic/main amd64 python-lockfile all 1:0.12.2-2 [14.6 kB]\n",
            "Get:20 http://archive.ubuntu.com/ubuntu bionic/universe amd64 python-mistune all 0.8.3-2 [13.8 kB]\n",
            "Get:21 http://archive.ubuntu.com/ubuntu bionic/universe amd64 python-rdflib-jsonld all 0.4.0-3 [12.2 kB]\n",
            "Get:22 http://archive.ubuntu.com/ubuntu bionic/universe amd64 python-typing all 3.6.2-1 [22.2 kB]\n",
            "Get:23 http://archive.ubuntu.com/ubuntu bionic/universe amd64 python-avro all 1.8.2+dfsg-1 [23.2 kB]\n",
            "Get:24 http://archive.ubuntu.com/ubuntu bionic/universe amd64 libjs-bootstrap all 3.3.7+dfsg-2 [228 kB]\n",
            "Get:25 http://archive.ubuntu.com/ubuntu bionic/universe amd64 python-schema-salad all 2.6.20171201034858-3 [260 kB]\n",
            "Get:26 http://archive.ubuntu.com/ubuntu bionic/universe amd64 python-shellescape all 3.4.1-2 [4,432 B]\n",
            "Get:27 http://archive.ubuntu.com/ubuntu bionic/universe amd64 cwltool all 1.0.20180302231433-1 [143 kB]\n",
            "Get:28 http://archive.ubuntu.com/ubuntu bionic/main amd64 libdata-dump-perl all 1.23-1 [27.0 kB]\n",
            "Get:29 http://archive.ubuntu.com/ubuntu bionic/main amd64 libencode-locale-perl all 1.05-1 [12.3 kB]\n",
            "Get:30 http://archive.ubuntu.com/ubuntu bionic/main amd64 libtimedate-perl all 2.3000-2 [37.5 kB]\n",
            "Get:31 http://archive.ubuntu.com/ubuntu bionic/main amd64 libhttp-date-perl all 6.02-1 [10.4 kB]\n",
            "Get:32 http://archive.ubuntu.com/ubuntu bionic/main amd64 libfile-listing-perl all 6.04-1 [9,774 B]\n",
            "Get:33 http://archive.ubuntu.com/ubuntu bionic/main amd64 libfont-afm-perl all 1.20-2 [13.2 kB]\n",
            "Get:34 http://archive.ubuntu.com/ubuntu bionic/main amd64 libhtml-tagset-perl all 3.20-3 [12.1 kB]\n",
            "Get:35 http://archive.ubuntu.com/ubuntu bionic/main amd64 liburi-perl all 1.73-1 [77.2 kB]\n",
            "Get:36 http://archive.ubuntu.com/ubuntu bionic/main amd64 libhtml-parser-perl amd64 3.72-3build1 [85.9 kB]\n",
            "Get:37 http://archive.ubuntu.com/ubuntu bionic/main amd64 libio-html-perl all 1.001-1 [14.9 kB]\n",
            "Get:38 http://archive.ubuntu.com/ubuntu bionic/main amd64 liblwp-mediatypes-perl all 6.02-1 [21.7 kB]\n",
            "Get:39 http://archive.ubuntu.com/ubuntu bionic/main amd64 libhttp-message-perl all 6.14-1 [72.1 kB]\n",
            "Get:40 http://archive.ubuntu.com/ubuntu bionic/main amd64 libhtml-form-perl all 6.03-1 [23.5 kB]\n",
            "Get:41 http://archive.ubuntu.com/ubuntu bionic/main amd64 libhtml-tree-perl all 5.07-1 [200 kB]\n",
            "Get:42 http://archive.ubuntu.com/ubuntu bionic/main amd64 libhtml-format-perl all 2.12-1 [41.3 kB]\n",
            "Get:43 http://archive.ubuntu.com/ubuntu bionic/universe amd64 libhts2 amd64 1.7-2 [300 kB]\n",
            "Get:44 http://archive.ubuntu.com/ubuntu bionic/main amd64 libhttp-cookies-perl all 6.04-1 [17.2 kB]\n",
            "Get:45 http://archive.ubuntu.com/ubuntu bionic/main amd64 libhttp-daemon-perl all 6.01-1 [17.0 kB]\n",
            "Get:46 http://archive.ubuntu.com/ubuntu bionic/main amd64 libhttp-negotiate-perl all 6.00-2 [13.4 kB]\n",
            "Get:47 http://archive.ubuntu.com/ubuntu bionic/main amd64 perl-openssl-defaults amd64 3build1 [7,012 B]\n",
            "Get:48 http://archive.ubuntu.com/ubuntu bionic-updates/main amd64 libnet-ssleay-perl amd64 1.84-1ubuntu0.2 [283 kB]\n",
            "Get:49 http://archive.ubuntu.com/ubuntu bionic-updates/main amd64 libio-socket-ssl-perl all 2.060-3~ubuntu18.04.1 [173 kB]\n",
            "Get:50 http://archive.ubuntu.com/ubuntu bionic/universe amd64 libkdf5-2 amd64 2.8.2-2+dfsg-1build1 [13.1 kB]\n",
            "Get:51 http://archive.ubuntu.com/ubuntu bionic/main amd64 libnet-http-perl all 6.17-1 [22.7 kB]\n",
            "Get:52 http://archive.ubuntu.com/ubuntu bionic/main amd64 libtry-tiny-perl all 0.30-1 [20.5 kB]\n",
            "Get:53 http://archive.ubuntu.com/ubuntu bionic/main amd64 libwww-robotrules-perl all 6.01-1 [14.1 kB]\n",
            "Get:54 http://archive.ubuntu.com/ubuntu bionic-updates/main amd64 libwww-perl all 6.31-1ubuntu0.1 [137 kB]\n",
            "Get:55 http://archive.ubuntu.com/ubuntu bionic/main amd64 liblwp-protocol-https-perl all 6.07-2 [8,284 B]\n",
            "Get:56 http://archive.ubuntu.com/ubuntu bionic/main amd64 libnet-smtp-ssl-perl all 1.04-1 [5,948 B]\n",
            "Get:57 http://archive.ubuntu.com/ubuntu bionic/main amd64 libmailtools-perl all 2.18-1 [74.0 kB]\n",
            "Get:58 http://archive.ubuntu.com/ubuntu bionic/universe amd64 libmbedcrypto1 amd64 2.8.0-1 [140 kB]\n",
            "Get:59 http://archive.ubuntu.com/ubuntu bionic/universe amd64 libmbedtls10 amd64 2.8.0-1 [66.8 kB]\n",
            "Get:60 http://archive.ubuntu.com/ubuntu bionic/universe amd64 libncbi-vdb2 amd64 2.8.2-2+dfsg-1build1 [1,098 kB]\n",
            "Get:61 http://archive.ubuntu.com/ubuntu bionic/universe amd64 libncbi-wvdb2 amd64 2.8.2-2+dfsg-1build1 [997 kB]\n",
            "Get:62 http://archive.ubuntu.com/ubuntu bionic/universe amd64 ncbi-entrez-direct amd64 7.40.20170928+ds-1 [810 kB]\n",
            "Get:63 http://archive.ubuntu.com/ubuntu bionic-updates/universe amd64 nodejs-doc all 8.10.0~dfsg-2ubuntu0.4 [752 kB]\n",
            "Get:64 http://archive.ubuntu.com/ubuntu bionic/main amd64 python-asn1crypto all 0.24.0-1 [72.7 kB]\n",
            "Get:65 http://archive.ubuntu.com/ubuntu bionic/main amd64 python-cffi-backend amd64 1.11.5-1 [63.4 kB]\n",
            "Get:66 http://archive.ubuntu.com/ubuntu bionic/main amd64 python-enum34 all 1.1.6-2 [34.8 kB]\n",
            "Get:67 http://archive.ubuntu.com/ubuntu bionic/main amd64 python-ipaddress all 1.0.17-1 [18.2 kB]\n",
            "Get:68 http://archive.ubuntu.com/ubuntu bionic-updates/main amd64 python-cryptography amd64 2.1.4-1ubuntu1.4 [276 kB]\n",
            "Get:69 http://archive.ubuntu.com/ubuntu bionic/main amd64 python-webencodings all 0.5-2 [10.3 kB]\n",
            "Get:70 http://archive.ubuntu.com/ubuntu bionic/main amd64 python-html5lib all 0.999999999-1 [83.6 kB]\n",
            "Get:71 http://archive.ubuntu.com/ubuntu bionic/main amd64 python-openssl all 17.5.0-1ubuntu1 [41.3 kB]\n",
            "Get:72 http://archive.ubuntu.com/ubuntu bionic/universe amd64 python-sparqlwrapper all 1.7.6-2 [21.8 kB]\n",
            "Get:73 http://archive.ubuntu.com/ubuntu bionic/universe amd64 samtools amd64 1.7-1 [288 kB]\n",
            "Get:74 http://archive.ubuntu.com/ubuntu bionic/universe amd64 sra-toolkit amd64 2.8.2-5+dfsg-1 [1,102 kB]\n",
            "Get:75 http://archive.ubuntu.com/ubuntu bionic/main amd64 libauthen-sasl-perl all 2.1600-1 [48.7 kB]\n",
            "Get:76 http://archive.ubuntu.com/ubuntu bionic/main amd64 libc-ares2 amd64 1.14.0-1 [37.1 kB]\n",
            "Get:77 http://archive.ubuntu.com/ubuntu bionic/universe amd64 med-config all 3.0.1ubuntu1 [9,404 B]\n",
            "Get:78 http://archive.ubuntu.com/ubuntu bionic-updates/universe amd64 nodejs amd64 8.10.0~dfsg-2ubuntu0.4 [4,796 kB]\n",
            "Fetched 15.1 MB in 2s (6,564 kB/s)\n",
            "Extracting templates from packages: 100%\n",
            "Preconfiguring packages ...\n",
            "Selecting previously unselected package libmagic-mgc.\n",
            "(Reading database ... 160706 files and directories currently installed.)\n",
            "Preparing to unpack .../00-libmagic-mgc_1%3a5.32-2ubuntu0.4_amd64.deb ...\n",
            "Unpacking libmagic-mgc (1:5.32-2ubuntu0.4) ...\n",
            "Selecting previously unselected package libmagic1:amd64.\n",
            "Preparing to unpack .../01-libmagic1_1%3a5.32-2ubuntu0.4_amd64.deb ...\n",
            "Unpacking libmagic1:amd64 (1:5.32-2ubuntu0.4) ...\n",
            "Selecting previously unselected package netbase.\n",
            "Preparing to unpack .../02-netbase_5.4_all.deb ...\n",
            "Unpacking netbase (5.4) ...\n",
            "Selecting previously unselected package menu.\n",
            "Preparing to unpack .../03-menu_2.1.47ubuntu2.1_amd64.deb ...\n",
            "Unpacking menu (2.1.47ubuntu2.1) ...\n",
            "Selecting previously unselected package blends-common.\n",
            "Preparing to unpack .../04-blends-common_0.6.100ubuntu2_all.deb ...\n",
            "Unpacking blends-common (0.6.100ubuntu2) ...\n",
            "Selecting previously unselected package bwa.\n",
            "Preparing to unpack .../05-bwa_0.7.17-1ubuntu0.1_amd64.deb ...\n",
            "Unpacking bwa (0.7.17-1ubuntu0.1) ...\n",
            "Selecting previously unselected package python-pkg-resources.\n",
            "Preparing to unpack .../06-python-pkg-resources_39.0.1-2_all.deb ...\n",
            "Unpacking python-pkg-resources (39.0.1-2) ...\n",
            "Selecting previously unselected package python-six.\n",
            "Preparing to unpack .../07-python-six_1.11.0-2_all.deb ...\n",
            "Unpacking python-six (1.11.0-2) ...\n",
            "Selecting previously unselected package python-isodate.\n",
            "Preparing to unpack .../08-python-isodate_0.6.0-1_all.deb ...\n",
            "Unpacking python-isodate (0.6.0-1) ...\n",
            "Selecting previously unselected package python-pyparsing.\n",
            "Preparing to unpack .../09-python-pyparsing_2.2.0+dfsg1-2_all.deb ...\n",
            "Unpacking python-pyparsing (2.2.0+dfsg1-2) ...\n",
            "Selecting previously unselected package python-rdflib.\n",
            "Preparing to unpack .../10-python-rdflib_4.2.1-2_all.deb ...\n",
            "Unpacking python-rdflib (4.2.1-2) ...\n",
            "Selecting previously unselected package python-certifi.\n",
            "Preparing to unpack .../11-python-certifi_2018.1.18-2_all.deb ...\n",
            "Unpacking python-certifi (2018.1.18-2) ...\n",
            "Selecting previously unselected package python-chardet.\n",
            "Preparing to unpack .../12-python-chardet_3.0.4-1_all.deb ...\n",
            "Unpacking python-chardet (3.0.4-1) ...\n",
            "Selecting previously unselected package python-idna.\n",
            "Preparing to unpack .../13-python-idna_2.6-1_all.deb ...\n",
            "Unpacking python-idna (2.6-1) ...\n",
            "Selecting previously unselected package python-urllib3.\n",
            "Preparing to unpack .../14-python-urllib3_1.22-1ubuntu0.18.04.2_all.deb ...\n",
            "Unpacking python-urllib3 (1.22-1ubuntu0.18.04.2) ...\n",
            "Selecting previously unselected package python-requests.\n",
            "Preparing to unpack .../15-python-requests_2.18.4-2ubuntu0.1_all.deb ...\n",
            "Unpacking python-requests (2.18.4-2ubuntu0.1) ...\n",
            "Selecting previously unselected package python-ruamel.yaml.\n",
            "Preparing to unpack .../16-python-ruamel.yaml_0.15.34-1_amd64.deb ...\n",
            "Unpacking python-ruamel.yaml (0.15.34-1) ...\n",
            "Selecting previously unselected package python-cachecontrol.\n",
            "Preparing to unpack .../17-python-cachecontrol_0.11.7-1_all.deb ...\n",
            "Unpacking python-cachecontrol (0.11.7-1) ...\n",
            "Selecting previously unselected package python-lockfile.\n",
            "Preparing to unpack .../18-python-lockfile_1%3a0.12.2-2_all.deb ...\n",
            "Unpacking python-lockfile (1:0.12.2-2) ...\n",
            "Selecting previously unselected package python-mistune.\n",
            "Preparing to unpack .../19-python-mistune_0.8.3-2_all.deb ...\n",
            "Unpacking python-mistune (0.8.3-2) ...\n",
            "Selecting previously unselected package python-rdflib-jsonld.\n",
            "Preparing to unpack .../20-python-rdflib-jsonld_0.4.0-3_all.deb ...\n",
            "Unpacking python-rdflib-jsonld (0.4.0-3) ...\n",
            "Selecting previously unselected package python-typing.\n",
            "Preparing to unpack .../21-python-typing_3.6.2-1_all.deb ...\n",
            "Unpacking python-typing (3.6.2-1) ...\n",
            "Selecting previously unselected package python-avro.\n",
            "Preparing to unpack .../22-python-avro_1.8.2+dfsg-1_all.deb ...\n",
            "Unpacking python-avro (1.8.2+dfsg-1) ...\n",
            "Selecting previously unselected package libjs-bootstrap.\n",
            "Preparing to unpack .../23-libjs-bootstrap_3.3.7+dfsg-2_all.deb ...\n",
            "Unpacking libjs-bootstrap (3.3.7+dfsg-2) ...\n",
            "Selecting previously unselected package python-schema-salad.\n",
            "Preparing to unpack .../24-python-schema-salad_2.6.20171201034858-3_all.deb ...\n",
            "Unpacking python-schema-salad (2.6.20171201034858-3) ...\n",
            "Selecting previously unselected package python-shellescape.\n",
            "Preparing to unpack .../25-python-shellescape_3.4.1-2_all.deb ...\n",
            "Unpacking python-shellescape (3.4.1-2) ...\n",
            "Selecting previously unselected package cwltool.\n",
            "Preparing to unpack .../26-cwltool_1.0.20180302231433-1_all.deb ...\n",
            "Unpacking cwltool (1.0.20180302231433-1) ...\n",
            "Selecting previously unselected package libdata-dump-perl.\n",
            "Preparing to unpack .../27-libdata-dump-perl_1.23-1_all.deb ...\n",
            "Unpacking libdata-dump-perl (1.23-1) ...\n",
            "Selecting previously unselected package libencode-locale-perl.\n",
            "Preparing to unpack .../28-libencode-locale-perl_1.05-1_all.deb ...\n",
            "Unpacking libencode-locale-perl (1.05-1) ...\n",
            "Selecting previously unselected package libtimedate-perl.\n",
            "Preparing to unpack .../29-libtimedate-perl_2.3000-2_all.deb ...\n",
            "Unpacking libtimedate-perl (2.3000-2) ...\n",
            "Selecting previously unselected package libhttp-date-perl.\n",
            "Preparing to unpack .../30-libhttp-date-perl_6.02-1_all.deb ...\n",
            "Unpacking libhttp-date-perl (6.02-1) ...\n",
            "Selecting previously unselected package libfile-listing-perl.\n",
            "Preparing to unpack .../31-libfile-listing-perl_6.04-1_all.deb ...\n",
            "Unpacking libfile-listing-perl (6.04-1) ...\n",
            "Selecting previously unselected package libfont-afm-perl.\n",
            "Preparing to unpack .../32-libfont-afm-perl_1.20-2_all.deb ...\n",
            "Unpacking libfont-afm-perl (1.20-2) ...\n",
            "Selecting previously unselected package libhtml-tagset-perl.\n",
            "Preparing to unpack .../33-libhtml-tagset-perl_3.20-3_all.deb ...\n",
            "Unpacking libhtml-tagset-perl (3.20-3) ...\n",
            "Selecting previously unselected package liburi-perl.\n",
            "Preparing to unpack .../34-liburi-perl_1.73-1_all.deb ...\n",
            "Unpacking liburi-perl (1.73-1) ...\n",
            "Selecting previously unselected package libhtml-parser-perl.\n",
            "Preparing to unpack .../35-libhtml-parser-perl_3.72-3build1_amd64.deb ...\n",
            "Unpacking libhtml-parser-perl (3.72-3build1) ...\n",
            "Selecting previously unselected package libio-html-perl.\n",
            "Preparing to unpack .../36-libio-html-perl_1.001-1_all.deb ...\n",
            "Unpacking libio-html-perl (1.001-1) ...\n",
            "Selecting previously unselected package liblwp-mediatypes-perl.\n",
            "Preparing to unpack .../37-liblwp-mediatypes-perl_6.02-1_all.deb ...\n",
            "Unpacking liblwp-mediatypes-perl (6.02-1) ...\n",
            "Selecting previously unselected package libhttp-message-perl.\n",
            "Preparing to unpack .../38-libhttp-message-perl_6.14-1_all.deb ...\n",
            "Unpacking libhttp-message-perl (6.14-1) ...\n",
            "Selecting previously unselected package libhtml-form-perl.\n",
            "Preparing to unpack .../39-libhtml-form-perl_6.03-1_all.deb ...\n",
            "Unpacking libhtml-form-perl (6.03-1) ...\n",
            "Selecting previously unselected package libhtml-tree-perl.\n",
            "Preparing to unpack .../40-libhtml-tree-perl_5.07-1_all.deb ...\n",
            "Unpacking libhtml-tree-perl (5.07-1) ...\n",
            "Selecting previously unselected package libhtml-format-perl.\n",
            "Preparing to unpack .../41-libhtml-format-perl_2.12-1_all.deb ...\n",
            "Unpacking libhtml-format-perl (2.12-1) ...\n",
            "Selecting previously unselected package libhts2:amd64.\n",
            "Preparing to unpack .../42-libhts2_1.7-2_amd64.deb ...\n",
            "Unpacking libhts2:amd64 (1.7-2) ...\n",
            "Selecting previously unselected package libhttp-cookies-perl.\n",
            "Preparing to unpack .../43-libhttp-cookies-perl_6.04-1_all.deb ...\n",
            "Unpacking libhttp-cookies-perl (6.04-1) ...\n",
            "Selecting previously unselected package libhttp-daemon-perl.\n",
            "Preparing to unpack .../44-libhttp-daemon-perl_6.01-1_all.deb ...\n",
            "Unpacking libhttp-daemon-perl (6.01-1) ...\n",
            "Selecting previously unselected package libhttp-negotiate-perl.\n",
            "Preparing to unpack .../45-libhttp-negotiate-perl_6.00-2_all.deb ...\n",
            "Unpacking libhttp-negotiate-perl (6.00-2) ...\n",
            "Selecting previously unselected package perl-openssl-defaults:amd64.\n",
            "Preparing to unpack .../46-perl-openssl-defaults_3build1_amd64.deb ...\n",
            "Unpacking perl-openssl-defaults:amd64 (3build1) ...\n",
            "Selecting previously unselected package libnet-ssleay-perl.\n",
            "Preparing to unpack .../47-libnet-ssleay-perl_1.84-1ubuntu0.2_amd64.deb ...\n",
            "Unpacking libnet-ssleay-perl (1.84-1ubuntu0.2) ...\n",
            "Selecting previously unselected package libio-socket-ssl-perl.\n",
            "Preparing to unpack .../48-libio-socket-ssl-perl_2.060-3~ubuntu18.04.1_all.deb ...\n",
            "Unpacking libio-socket-ssl-perl (2.060-3~ubuntu18.04.1) ...\n",
            "Selecting previously unselected package libkdf5-2.\n",
            "Preparing to unpack .../49-libkdf5-2_2.8.2-2+dfsg-1build1_amd64.deb ...\n",
            "Unpacking libkdf5-2 (2.8.2-2+dfsg-1build1) ...\n",
            "Selecting previously unselected package libnet-http-perl.\n",
            "Preparing to unpack .../50-libnet-http-perl_6.17-1_all.deb ...\n",
            "Unpacking libnet-http-perl (6.17-1) ...\n",
            "Selecting previously unselected package libtry-tiny-perl.\n",
            "Preparing to unpack .../51-libtry-tiny-perl_0.30-1_all.deb ...\n",
            "Unpacking libtry-tiny-perl (0.30-1) ...\n",
            "Selecting previously unselected package libwww-robotrules-perl.\n",
            "Preparing to unpack .../52-libwww-robotrules-perl_6.01-1_all.deb ...\n",
            "Unpacking libwww-robotrules-perl (6.01-1) ...\n",
            "Selecting previously unselected package libwww-perl.\n",
            "Preparing to unpack .../53-libwww-perl_6.31-1ubuntu0.1_all.deb ...\n",
            "Unpacking libwww-perl (6.31-1ubuntu0.1) ...\n",
            "Selecting previously unselected package liblwp-protocol-https-perl.\n",
            "Preparing to unpack .../54-liblwp-protocol-https-perl_6.07-2_all.deb ...\n",
            "Unpacking liblwp-protocol-https-perl (6.07-2) ...\n",
            "Selecting previously unselected package libnet-smtp-ssl-perl.\n",
            "Preparing to unpack .../55-libnet-smtp-ssl-perl_1.04-1_all.deb ...\n",
            "Unpacking libnet-smtp-ssl-perl (1.04-1) ...\n",
            "Selecting previously unselected package libmailtools-perl.\n",
            "Preparing to unpack .../56-libmailtools-perl_2.18-1_all.deb ...\n",
            "Unpacking libmailtools-perl (2.18-1) ...\n",
            "Selecting previously unselected package libmbedcrypto1:amd64.\n",
            "Preparing to unpack .../57-libmbedcrypto1_2.8.0-1_amd64.deb ...\n",
            "Unpacking libmbedcrypto1:amd64 (2.8.0-1) ...\n",
            "Selecting previously unselected package libmbedtls10:amd64.\n",
            "Preparing to unpack .../58-libmbedtls10_2.8.0-1_amd64.deb ...\n",
            "Unpacking libmbedtls10:amd64 (2.8.0-1) ...\n",
            "Selecting previously unselected package libncbi-vdb2.\n",
            "Preparing to unpack .../59-libncbi-vdb2_2.8.2-2+dfsg-1build1_amd64.deb ...\n",
            "Unpacking libncbi-vdb2 (2.8.2-2+dfsg-1build1) ...\n",
            "Selecting previously unselected package libncbi-wvdb2.\n",
            "Preparing to unpack .../60-libncbi-wvdb2_2.8.2-2+dfsg-1build1_amd64.deb ...\n",
            "Unpacking libncbi-wvdb2 (2.8.2-2+dfsg-1build1) ...\n",
            "Selecting previously unselected package ncbi-entrez-direct.\n",
            "Preparing to unpack .../61-ncbi-entrez-direct_7.40.20170928+ds-1_amd64.deb ...\n",
            "Adding 'diversion of /usr/bin/efetch to /usr/bin/efetch.acedb by ncbi-entrez-direct'\n",
            "Adding 'diversion of /usr/share/man/man1/efetch.1.gz to /usr/share/man/man1/efetch.acedb.1.gz by ncbi-entrez-direct'\n",
            "Adding 'diversion of /usr/bin/einfo to /usr/bin/einfo.epub by ncbi-entrez-direct'\n",
            "Adding 'diversion of /usr/share/man/man1/einfo.1.gz to /usr/share/man/man1/einfo.epub.1.gz by ncbi-entrez-direct'\n",
            "Unpacking ncbi-entrez-direct (7.40.20170928+ds-1) ...\n",
            "Selecting previously unselected package nodejs-doc.\n",
            "Preparing to unpack .../62-nodejs-doc_8.10.0~dfsg-2ubuntu0.4_all.deb ...\n",
            "Unpacking nodejs-doc (8.10.0~dfsg-2ubuntu0.4) ...\n",
            "Selecting previously unselected package python-asn1crypto.\n",
            "Preparing to unpack .../63-python-asn1crypto_0.24.0-1_all.deb ...\n",
            "Unpacking python-asn1crypto (0.24.0-1) ...\n",
            "Selecting previously unselected package python-cffi-backend.\n",
            "Preparing to unpack .../64-python-cffi-backend_1.11.5-1_amd64.deb ...\n",
            "Unpacking python-cffi-backend (1.11.5-1) ...\n",
            "Selecting previously unselected package python-enum34.\n",
            "Preparing to unpack .../65-python-enum34_1.1.6-2_all.deb ...\n",
            "Unpacking python-enum34 (1.1.6-2) ...\n",
            "Selecting previously unselected package python-ipaddress.\n",
            "Preparing to unpack .../66-python-ipaddress_1.0.17-1_all.deb ...\n",
            "Unpacking python-ipaddress (1.0.17-1) ...\n",
            "Selecting previously unselected package python-cryptography.\n",
            "Preparing to unpack .../67-python-cryptography_2.1.4-1ubuntu1.4_amd64.deb ...\n",
            "Unpacking python-cryptography (2.1.4-1ubuntu1.4) ...\n",
            "Selecting previously unselected package python-webencodings.\n",
            "Preparing to unpack .../68-python-webencodings_0.5-2_all.deb ...\n",
            "Unpacking python-webencodings (0.5-2) ...\n",
            "Selecting previously unselected package python-html5lib.\n",
            "Preparing to unpack .../69-python-html5lib_0.999999999-1_all.deb ...\n",
            "Unpacking python-html5lib (0.999999999-1) ...\n",
            "Selecting previously unselected package python-openssl.\n",
            "Preparing to unpack .../70-python-openssl_17.5.0-1ubuntu1_all.deb ...\n",
            "Unpacking python-openssl (17.5.0-1ubuntu1) ...\n",
            "Selecting previously unselected package python-sparqlwrapper.\n",
            "Preparing to unpack .../71-python-sparqlwrapper_1.7.6-2_all.deb ...\n",
            "Unpacking python-sparqlwrapper (1.7.6-2) ...\n",
            "Selecting previously unselected package samtools.\n",
            "Preparing to unpack .../72-samtools_1.7-1_amd64.deb ...\n",
            "Unpacking samtools (1.7-1) ...\n",
            "Selecting previously unselected package sra-toolkit.\n",
            "Preparing to unpack .../73-sra-toolkit_2.8.2-5+dfsg-1_amd64.deb ...\n",
            "Unpacking sra-toolkit (2.8.2-5+dfsg-1) ...\n",
            "Selecting previously unselected package libauthen-sasl-perl.\n",
            "Preparing to unpack .../74-libauthen-sasl-perl_2.1600-1_all.deb ...\n",
            "Unpacking libauthen-sasl-perl (2.1600-1) ...\n",
            "Selecting previously unselected package libc-ares2:amd64.\n",
            "Preparing to unpack .../75-libc-ares2_1.14.0-1_amd64.deb ...\n",
            "Unpacking libc-ares2:amd64 (1.14.0-1) ...\n",
            "Selecting previously unselected package med-config.\n",
            "Preparing to unpack .../76-med-config_3.0.1ubuntu1_all.deb ...\n",
            "Unpacking med-config (3.0.1ubuntu1) ...\n",
            "Selecting previously unselected package nodejs.\n",
            "Preparing to unpack .../77-nodejs_8.10.0~dfsg-2ubuntu0.4_amd64.deb ...\n",
            "Unpacking nodejs (8.10.0~dfsg-2ubuntu0.4) ...\n",
            "Setting up libhtml-tagset-perl (3.20-3) ...\n",
            "Setting up python-idna (2.6-1) ...\n",
            "Setting up nodejs-doc (8.10.0~dfsg-2ubuntu0.4) ...\n",
            "Setting up libtry-tiny-perl (0.30-1) ...\n",
            "Setting up python-asn1crypto (0.24.0-1) ...\n",
            "Setting up bwa (0.7.17-1ubuntu0.1) ...\n",
            "Setting up libfont-afm-perl (1.20-2) ...\n",
            "Setting up libencode-locale-perl (1.05-1) ...\n",
            "Setting up libtimedate-perl (2.3000-2) ...\n",
            "Setting up perl-openssl-defaults:amd64 (3build1) ...\n",
            "Setting up libmbedcrypto1:amd64 (2.8.0-1) ...\n",
            "Setting up libio-html-perl (1.001-1) ...\n",
            "Setting up python-mistune (0.8.3-2) ...\n",
            "Setting up python-certifi (2018.1.18-2) ...\n",
            "Setting up menu (2.1.47ubuntu2.1) ...\n",
            "Setting up python-avro (1.8.2+dfsg-1) ...\n",
            "Setting up libkdf5-2 (2.8.2-2+dfsg-1build1) ...\n",
            "Setting up python-pkg-resources (39.0.1-2) ...\n",
            "Setting up python-ruamel.yaml (0.15.34-1) ...\n",
            "Setting up libmagic-mgc (1:5.32-2ubuntu0.4) ...\n",
            "Setting up libmagic1:amd64 (1:5.32-2ubuntu0.4) ...\n",
            "Setting up python-cffi-backend (1.11.5-1) ...\n",
            "Setting up python-six (1.11.0-2) ...\n",
            "Setting up liblwp-mediatypes-perl (6.02-1) ...\n",
            "Setting up python-isodate (0.6.0-1) ...\n",
            "Setting up liburi-perl (1.73-1) ...\n",
            "Setting up python-shellescape (3.4.1-2) ...\n",
            "Setting up libdata-dump-perl (1.23-1) ...\n",
            "Setting up python-enum34 (1.1.6-2) ...\n",
            "Setting up libhtml-parser-perl (3.72-3build1) ...\n",
            "Setting up libncbi-wvdb2 (2.8.2-2+dfsg-1build1) ...\n",
            "Setting up libnet-http-perl (6.17-1) ...\n",
            "Setting up libjs-bootstrap (3.3.7+dfsg-2) ...\n",
            "Setting up python-lockfile (1:0.12.2-2) ...\n",
            "Setting up python-ipaddress (1.0.17-1) ...\n",
            "Setting up libc-ares2:amd64 (1.14.0-1) ...\n",
            "Setting up libwww-robotrules-perl (6.01-1) ...\n",
            "Setting up libhts2:amd64 (1.7-2) ...\n",
            "Setting up python-webencodings (0.5-2) ...\n",
            "Setting up libauthen-sasl-perl (2.1600-1) ...\n",
            "Setting up python-typing (3.6.2-1) ...\n",
            "Setting up netbase (5.4) ...\n",
            "Setting up python-pyparsing (2.2.0+dfsg1-2) ...\n",
            "Setting up python-urllib3 (1.22-1ubuntu0.18.04.2) ...\n",
            "Setting up libhttp-date-perl (6.02-1) ...\n",
            "Setting up python-chardet (3.0.4-1) ...\n",
            "Setting up libmbedtls10:amd64 (2.8.0-1) ...\n",
            "Setting up nodejs (8.10.0~dfsg-2ubuntu0.4) ...\n",
            "update-alternatives: using /usr/bin/nodejs to provide /usr/bin/js (js) in auto mode\n",
            "Setting up libnet-ssleay-perl (1.84-1ubuntu0.2) ...\n",
            "Setting up blends-common (0.6.100ubuntu2) ...\n",
            "Setting up python-rdflib (4.2.1-2) ...\n",
            "Setting up python-sparqlwrapper (1.7.6-2) ...\n",
            "Setting up libncbi-vdb2 (2.8.2-2+dfsg-1build1) ...\n",
            "Setting up sra-toolkit (2.8.2-5+dfsg-1) ...\n",
            "Setting up libio-socket-ssl-perl (2.060-3~ubuntu18.04.1) ...\n",
            "Setting up libhtml-tree-perl (5.07-1) ...\n",
            "Setting up med-config (3.0.1ubuntu1) ...\n",
            "Adding group `med' (GID 109) ...\n",
            "Done.\n",
            "Setting up python-rdflib-jsonld (0.4.0-3) ...\n",
            "Setting up python-cryptography (2.1.4-1ubuntu1.4) ...\n",
            "Setting up libfile-listing-perl (6.04-1) ...\n",
            "Setting up python-requests (2.18.4-2ubuntu0.1) ...\n",
            "Setting up libhttp-message-perl (6.14-1) ...\n",
            "Setting up python-cachecontrol (0.11.7-1) ...\n",
            "Setting up python-schema-salad (2.6.20171201034858-3) ...\n",
            "Setting up python-html5lib (0.999999999-1) ...\n",
            "Setting up samtools (1.7-1) ...\n",
            "Setting up libhttp-negotiate-perl (6.00-2) ...\n",
            "Setting up libnet-smtp-ssl-perl (1.04-1) ...\n",
            "Setting up libhtml-format-perl (2.12-1) ...\n",
            "Setting up libhttp-cookies-perl (6.04-1) ...\n",
            "Setting up python-openssl (17.5.0-1ubuntu1) ...\n",
            "Setting up libhttp-daemon-perl (6.01-1) ...\n",
            "Setting up cwltool (1.0.20180302231433-1) ...\n",
            "Setting up libhtml-form-perl (6.03-1) ...\n",
            "Setting up libmailtools-perl (2.18-1) ...\n",
            "Setting up libwww-perl (6.31-1ubuntu0.1) ...\n",
            "Setting up ncbi-entrez-direct (7.40.20170928+ds-1) ...\n",
            "Setting up liblwp-protocol-https-perl (6.07-2) ...\n",
            "Processing triggers for libc-bin (2.27-3ubuntu1.2) ...\n",
            "/sbin/ldconfig.real: /usr/local/lib/python3.7/dist-packages/ideep4py/lib/libmkldnn.so.0 is not a symbolic link\n",
            "\n",
            "Processing triggers for man-db (2.8.3-2ubuntu0.1) ...\n",
            "Processing triggers for menu (2.1.47ubuntu2.1) ...\n"
          ],
          "name": "stdout"
        }
      ]
    },
    {
      "cell_type": "markdown",
      "metadata": {
        "id": "VsHhvhY1N0cg"
      },
      "source": [
        "### SARS-Cov-2\n",
        "Baixe o genoma do vírus **SARS-Cov-2 isolado Wuhan-Hu-1** do GenBank (GenBank: NC_045512.2), que servirá como **referência**."
      ]
    },
    {
      "cell_type": "code",
      "metadata": {
        "id": "wqh8bcY3Nl85"
      },
      "source": [
        "!efetch -db nucleotide -id NC_045512.2 -format fasta > NC_045512.2.fasta"
      ],
      "execution_count": 2,
      "outputs": []
    },
    {
      "cell_type": "code",
      "metadata": {
        "colab": {
          "base_uri": "https://localhost:8080/"
        },
        "id": "JFdOn-ZTOJBX",
        "outputId": "f02c9158-1333-49a8-f77d-a07a78a192a1"
      },
      "source": [
        "!head -10 NC_045512.2.fasta"
      ],
      "execution_count": 3,
      "outputs": [
        {
          "output_type": "stream",
          "text": [
            ">NC_045512.2 Severe acute respiratory syndrome coronavirus 2 isolate Wuhan-Hu-1, complete genome\n",
            "ATTAAAGGTTTATACCTTCCCAGGTAACAAACCAACCAACTTTCGATCTCTTGTAGATCTGTTCTCTAAA\n",
            "CGAACTTTAAAATCTGTGTGGCTGTCACTCGGCTGCATGCTTAGTGCACTCACGCAGTATAATTAATAAC\n",
            "TAATTACTGTCGTTGACAGGACACGAGTAACTCGTCTATCTTCTGCAGGCTGCTTACGGTTTCGTCCGTG\n",
            "TTGCAGCCGATCATCAGCACATCTAGGTTTCGTCCGGGTGTGACCGAAAGGTAAGATGGAGAGCCTTGTC\n",
            "CCTGGTTTCAACGAGAAAACACACGTCCAACTCAGTTTGCCTGTTTTACAGGTTCGCGACGTGCTCGTAC\n",
            "GTGGCTTTGGAGACTCCGTGGAGGAGGTCTTATCAGAGGCACGTCAACATCTTAAAGATGGCACTTGTGG\n",
            "CTTAGTAGAAGTTGAAAAAGGCGTTTTGCCTCAACTTGAACAGCCCTATGTGTTCATCAAACGTTCGGAT\n",
            "GCTCGAACTGCACCTCATGGTCATGTTATGGTTGAGCTGGTAGCAGAACTCGAAGGCATTCAGTACGGTC\n",
            "GTAGTGGTGAGACACTTGGTGTCCTTGTCCCTCATGTGGGCGAAATACCAGTGGCTTACCGCAAGGTTCT\n"
          ],
          "name": "stdout"
        }
      ]
    },
    {
      "cell_type": "markdown",
      "metadata": {
        "id": "-1vyJyO5Ob0D"
      },
      "source": [
        "Baixe os dados brutos de sequenciamento de **um novo isolado de SARS-Cov-2 obtido na Espanha** (SRA: ERR5908782).\n",
        "\n",
        "Obs: estes dados foram obtidos com Illumina MiSeq e usando uma biblioteca paired-end. "
      ]
    },
    {
      "cell_type": "code",
      "metadata": {
        "colab": {
          "base_uri": "https://localhost:8080/"
        },
        "id": "_wkOyJVFOYuf",
        "outputId": "d97ab8bc-29d4-4a5f-a352-02c048b87d68"
      },
      "source": [
        "!fastq-dump --split-3 ERR5908782"
      ],
      "execution_count": 4,
      "outputs": [
        {
          "output_type": "stream",
          "text": [
            "Rejected 48 READS because of filtering out non-biological READS\n",
            "Read 153205 spots for ERR5908782\n",
            "Written 153205 spots for ERR5908782\n"
          ],
          "name": "stdout"
        }
      ]
    },
    {
      "cell_type": "markdown",
      "metadata": {
        "id": "gu5DPx1MPi3B"
      },
      "source": [
        "Realize o **mapeamento das leituras** utilizando as ferramentas **BWA e Samtools** e gere um **relatório de cobertura** das leituras mapeadas contra a referência."
      ]
    },
    {
      "cell_type": "code",
      "metadata": {
        "colab": {
          "base_uri": "https://localhost:8080/"
        },
        "id": "O1mkHyNQPEcJ",
        "outputId": "0f99cb2c-2f5c-4f18-fbb9-e41d3ecc1ec4"
      },
      "source": [
        "!bwa index -p sarscov2 NC_045512.2.fasta"
      ],
      "execution_count": 5,
      "outputs": [
        {
          "output_type": "stream",
          "text": [
            "[bwa_index] Pack FASTA... 0.00 sec\n",
            "[bwa_index] Construct BWT for the packed sequence...\n",
            "[bwa_index] 0.01 seconds elapse.\n",
            "[bwa_index] Update BWT... 0.00 sec\n",
            "[bwa_index] Pack forward-only FASTA... 0.00 sec\n",
            "[bwa_index] Construct SA from BWT and Occ... 0.00 sec\n",
            "[main] Version: 0.7.17-r1188\n",
            "[main] CMD: bwa index -p sarscov2 NC_045512.2.fasta\n",
            "[main] Real time: 0.060 sec; CPU: 0.023 sec\n"
          ],
          "name": "stdout"
        }
      ]
    },
    {
      "cell_type": "code",
      "metadata": {
        "colab": {
          "base_uri": "https://localhost:8080/"
        },
        "id": "Q0Ls61JUPokH",
        "outputId": "4e9cb115-cc23-4adf-e27f-4948425b42aa"
      },
      "source": [
        "!bwa aln sarscov2 ERR5908782_1.fastq > ERR5908782_1.sai"
      ],
      "execution_count": 6,
      "outputs": [
        {
          "output_type": "stream",
          "text": [
            "[bwa_aln] 17bp reads: max_diff = 2\n",
            "[bwa_aln] 38bp reads: max_diff = 3\n",
            "[bwa_aln] 64bp reads: max_diff = 4\n",
            "[bwa_aln] 93bp reads: max_diff = 5\n",
            "[bwa_aln] 124bp reads: max_diff = 6\n",
            "[bwa_aln] 157bp reads: max_diff = 7\n",
            "[bwa_aln] 190bp reads: max_diff = 8\n",
            "[bwa_aln] 225bp reads: max_diff = 9\n",
            "[bwa_aln_core] calculate SA coordinate... 4.74 sec\n",
            "[bwa_aln_core] write to the disk... 0.03 sec\n",
            "[bwa_aln_core] 153157 sequences have been processed.\n",
            "[main] Version: 0.7.17-r1188\n",
            "[main] CMD: bwa aln sarscov2 ERR5908782_1.fastq\n",
            "[main] Real time: 5.222 sec; CPU: 5.163 sec\n"
          ],
          "name": "stdout"
        }
      ]
    },
    {
      "cell_type": "code",
      "metadata": {
        "colab": {
          "base_uri": "https://localhost:8080/"
        },
        "id": "BYtapuq9P99N",
        "outputId": "b230ce69-4951-4f07-964a-222c4a5f96b8"
      },
      "source": [
        "!bwa aln sarscov2 ERR5908782_2.fastq > ERR5908782_2.sai"
      ],
      "execution_count": 7,
      "outputs": [
        {
          "output_type": "stream",
          "text": [
            "[bwa_aln] 17bp reads: max_diff = 2\n",
            "[bwa_aln] 38bp reads: max_diff = 3\n",
            "[bwa_aln] 64bp reads: max_diff = 4\n",
            "[bwa_aln] 93bp reads: max_diff = 5\n",
            "[bwa_aln] 124bp reads: max_diff = 6\n",
            "[bwa_aln] 157bp reads: max_diff = 7\n",
            "[bwa_aln] 190bp reads: max_diff = 8\n",
            "[bwa_aln] 225bp reads: max_diff = 9\n",
            "[bwa_aln_core] calculate SA coordinate... 4.70 sec\n",
            "[bwa_aln_core] write to the disk... 0.01 sec\n",
            "[bwa_aln_core] 153157 sequences have been processed.\n",
            "[main] Version: 0.7.17-r1188\n",
            "[main] CMD: bwa aln sarscov2 ERR5908782_2.fastq\n",
            "[main] Real time: 5.055 sec; CPU: 5.006 sec\n"
          ],
          "name": "stdout"
        }
      ]
    },
    {
      "cell_type": "code",
      "metadata": {
        "colab": {
          "base_uri": "https://localhost:8080/"
        },
        "id": "uWxHWiMyQXfp",
        "outputId": "053227e6-0bf7-45fc-901c-d6071581f19f"
      },
      "source": [
        "!bwa sampe sarscov2 ERR5908782_1.sai ERR5908782_2.sai ERR5908782_1.fastq ERR5908782_2.fastq > alignment.sam"
      ],
      "execution_count": 8,
      "outputs": [
        {
          "output_type": "stream",
          "text": [
            "[bwa_sai2sam_pe_core] convert to sequence coordinate... \n",
            "[infer_isize] (25, 50, 75) percentile: (94, 138, 198)\n",
            "[infer_isize] low and high boundaries: 200 and 406 for estimating avg and std\n",
            "[infer_isize] inferred external isize from 36138 pairs: 257.792 +/- 44.163\n",
            "[infer_isize] skewness: 0.730; kurtosis: -0.318; ap_prior: 1.00e-05\n",
            "[infer_isize] inferred maximum insert size: 483 (5.11 sigma)\n",
            "[bwa_sai2sam_pe_core] time elapses: 0.97 sec\n",
            "[bwa_sai2sam_pe_core] changing coordinates of 44 alignments.\n",
            "[bwa_sai2sam_pe_core] align unmapped mate...\n",
            "[bwa_paired_sw] 751 out of 2000 Q17 singletons are mated.\n",
            "[bwa_paired_sw] 2 out of 112165 Q17 discordant pairs are fixed.\n",
            "[bwa_sai2sam_pe_core] time elapses: 3.13 sec\n",
            "[bwa_sai2sam_pe_core] refine gapped alignments... 0.60 sec\n",
            "[bwa_sai2sam_pe_core] print alignments... 0.82 sec\n",
            "[bwa_sai2sam_pe_core] 153157 sequences have been processed.\n",
            "[main] Version: 0.7.17-r1188\n",
            "[main] CMD: bwa sampe sarscov2 ERR5908782_1.sai ERR5908782_2.sai ERR5908782_1.fastq ERR5908782_2.fastq\n",
            "[main] Real time: 8.037 sec; CPU: 6.512 sec\n"
          ],
          "name": "stdout"
        }
      ]
    },
    {
      "cell_type": "code",
      "metadata": {
        "colab": {
          "base_uri": "https://localhost:8080/"
        },
        "id": "2UTwl85JUqQ4",
        "outputId": "7cbe92b7-4f3a-44ad-b4d6-7346cd1e5697"
      },
      "source": [
        "!head -10 alignment.sam"
      ],
      "execution_count": 9,
      "outputs": [
        {
          "output_type": "stream",
          "text": [
            "@SQ\tSN:NC_045512.2\tLN:29903\n",
            "@PG\tID:bwa\tPN:bwa\tVN:0.7.17-r1188\tCL:bwa sampe sarscov2 ERR5908782_1.sai ERR5908782_2.sai ERR5908782_1.fastq ERR5908782_2.fastq\n",
            "ERR5908782.1\t81\tNC_045512.2\t13654\t37\t83M\t=\t13654\t-83\tGTTAAGAGACACACTTTCTCTAACTACCAACATGAAGAAACAATTTATAATTTACTTAAGGATTGTCCAGCTGTTGCTAAACA\tGGGFGGGGGGGFGGGFCGDGGGGGGGFGGGGGGGDGGFFEGGGGFGGGGGGGGGGGFGF@GGGGGGGGGGGGGGGGGGCCCCC\tXT:A:U\tNM:i:0\tSM:i:37\tAM:i:37\tX0:i:1\tX1:i:0\tXM:i:0\tXO:i:0\tXG:i:0\tMD:Z:83\n",
            "ERR5908782.1\t161\tNC_045512.2\t13654\t37\t83M\t=\t13654\t83\tGTTAAGAGACACACTTTCTCTAACTACCAACATGAAGAAACAATTTATAATTTACTTAAGGATTGTCCAGCTGTTGCTAAACA\tCCCCCGGFFEEGGGGGCEFFGGFGGA8CEEF,EAFFGFEFGGGGFEGFGGGGGGGGFGGGF<FGDGFGGGGFEGDGGCGGDEF\tXT:A:U\tNM:i:0\tSM:i:37\tAM:i:37\tX0:i:1\tX1:i:0\tXM:i:0\tXO:i:0\tXG:i:0\tMD:Z:83\n",
            "ERR5908782.2\t99\tNC_045512.2\t23284\t60\t195M\t=\t23315\t231\tTGCTGTCCGTGATCCACAGACACTTGAGATTCTTGACATTACACCATGTTCTTTTGGTGGTGTCAGTGTTATAACACCAGGAACAAATACTTCTAACCAGGTTGCTGTTCTTTATCAGGGTGTTAACTGCACAGAAGTCCCTGTTGCTATTCATGCAGATCAACTTACTCCTACTTGGCGTGTTTATTCTACAGG\tGGGGGAEFGFDCEFFGGGGGGFGGGGGGFFGFFGCAFFGG<FFFDFFFGGFGAFGFGGDFGGGDCDGGGGGGGGGGGGGFG,CFG<CFEFFGGGGFFFGADGGGGGGE<EFGGDGCEFGGGGGGGFFFGDFGAFGFDG<AAFGEEFCGFFGGDGG9FGFFF=FGGGGGGAFFFGFGEEGGGGGGFFCFDFGF>EF\tXT:A:U\tNM:i:1\tSM:i:37\tAM:i:37\tX0:i:1\tX1:i:0\tXM:i:1\tXO:i:0\tXG:i:0\tMD:Z:119A75\n",
            "ERR5908782.2\t147\tNC_045512.2\t23315\t60\t200M\t=\t23284\t-231\tCTTGACATTACACCATGTTCTTTTGGTGGTGTCAGTGTTATAACACCAGGAACAAATACTTCTAACCAGGTTGCTGTTCTTTATCAGGGTGTTAACTGCACAGAAGTCCCTGTTGCTATTCATGCAGATCAACTTACTCCTACTTGGCGTGTTTATTCTACAGGTTCTAATGTTTTTCAAACACGTGCAGGCTGTTTAAT\t,DFGFD7,FE9FCCFCFED@,?GGGFDEEE8GGGGGGEFF=GF:DCGGEGFF9CEAAEFEFFFF9A<F<EFCGDGGFE<?E<FB@DCBCGGFF?@FGFCEFGGFEDB7,CCFGGFFCGGDCFCFFCFEFCFGGDFCEGGGFFFF@@ECGFFAFFGGGFFCECEFGDFGGFGGFGGGGGGGGGFCGDGGGFECFDF@CCCC\tXT:A:U\tNM:i:1\tSM:i:37\tAM:i:37\tX0:i:1\tX1:i:0\tXM:i:1\tXO:i:0\tXG:i:0\tMD:Z:88A111\n",
            "ERR5908782.3\t97\tNC_045512.2\t24901\t37\t158M\t=\t24901\t158\tAATCATTACTACACACAACACATTTGTGTCTGGTAACTGTGATGTTGTAATAGGAATTGTCAACAACACAGTTTATGATCCTTTGCAACCTGAATTAGACTCATTCAAGGAGGAGTTAGATAAATATTTTAAGAATCATACATCACCAGATGTTGATT\tCCCCCGGGGGGGFGGGEGGGGGGGGGGGGGGGGGGGGGGGGGGFFGGGGFGGFGGGGGGGGGGGGGGGGGGGGGGGGGDGGGGGGGGGGGGGGGGGGGGGGGGGGGGGFGFGG:CDGGFGGGFGGGGFFGGFFDGGGGGGGGGGGGGGGFGGGGGGGG\tXT:A:U\tNM:i:1\tSM:i:37\tAM:i:37\tX0:i:1\tX1:i:0\tXM:i:1\tXO:i:0\tXG:i:0\tMD:Z:13G144\n",
            "ERR5908782.3\t145\tNC_045512.2\t24901\t37\t158M\t=\t24901\t-158\tAATCATTACTACACACAACACATTTGTGTCTGGTAACTGTGATGTTGTAATAGGAATTGTCAACAACACAGTTTATGATCCTTTGCAACCTGAATTAGACTCATTCAAGGAGGAGTTAGATAAATATTTTAAGAATCATACATCACCAGATGTTGATT\tF9AGGGGGGGGGGGGGGFCFGFGGGGGGGGGFGGGGFFGGGGGGGFGGGFFGGGGGGGGGGGGFGGGGGGGFFGGGGDGGGGGGGGGGGGGGGGCGGGGGGGGGGGGGGGGGGGGFFGFGGGGGFGGGGGGGGGGGGGGGGGGGGGGGGGGGGCCCCC\tXT:A:U\tNM:i:1\tSM:i:37\tAM:i:37\tX0:i:1\tX1:i:0\tXM:i:1\tXO:i:0\tXG:i:0\tMD:Z:13G144\n",
            "ERR5908782.4\t97\tNC_045512.2\t23903\t37\t174M\t=\t23903\t174\tGTTTTTGCACAAGTCAAACAAATTTACAAAACACCACCAATTAAAGATTTTGGTGGTTTTAATTTTTCACAAATATTACCAGATCCATCAAAACCAAGCAAGAGGTCATTTATTGAAGATCTACTTTTCAACAAAGTGACACTTGCAGATGCTGGCTTCATCAAACAATATGGT\tCCCCCGGGGGGGGGGGFGGGGGGGGGGGGGGGGGGGGGGGGGGGGGGGGGGGGGGGEGGGGGGGGGGGGGGGGGGGGGGFGGFFGGGGGGGGGGGGGGGGGGGGGGGGGGGGGGGGGFGGGGGGGGGGGGGGGGGGGGGGGGGGFGGGGGGGGGGGGGGGGGGGGGGGGGGFGG\tXT:A:U\tNM:i:0\tSM:i:37\tAM:i:37\tX0:i:1\tX1:i:0\tXM:i:0\tXO:i:0\tXG:i:0\tMD:Z:174\n",
            "ERR5908782.4\t145\tNC_045512.2\t23903\t37\t174M\t=\t23903\t-174\tGTTTTTGCACAAGTCAAACAAATTTACAAAACACCACCAATTAAAGATTTTGGTGGTTTTAATTTTTCACAAATATTACCAGATCCATCAAAACCAAGCAAGAGGTCATTTATTGAAGATCTACTTTTCAACAAAGTGACACTTGCAGATGCTGGCTTCATCAAACAATATGGT\tGGGGGGGGGGGGGGGGGGGGGGFGGGGGGGGGGDGGGGGGFAGGGGGGGCFGGGGGGF<GGGGGCGGGGGGGGGGGGGGGGGFGGGGEDGGGGGGGGGGGGGGGGGGGGGGGFFGGGGGGGGGGFGGGGGGGGGGGGGGGGFGGGGGGGGGGGGGGGGGGGGGGGGGGGCCCCC\tXT:A:U\tNM:i:0\tSM:i:37\tAM:i:37\tX0:i:1\tX1:i:0\tXM:i:0\tXO:i:0\tXG:i:0\tMD:Z:174\n"
          ],
          "name": "stdout"
        }
      ]
    },
    {
      "cell_type": "code",
      "metadata": {
        "id": "fZ-K0EiEVXTi"
      },
      "source": [
        "!samtools view -S -b -o alignment.bam alignment.sam"
      ],
      "execution_count": 10,
      "outputs": []
    },
    {
      "cell_type": "code",
      "metadata": {
        "id": "e9-rGBFQVmdf"
      },
      "source": [
        "!samtools sort -o alignment.sorted.bam alignment.bam"
      ],
      "execution_count": 11,
      "outputs": []
    },
    {
      "cell_type": "code",
      "metadata": {
        "id": "NL3_5yLAWFNO"
      },
      "source": [
        "!samtools depth alignment.sorted.bam > coverage.txt"
      ],
      "execution_count": 12,
      "outputs": []
    },
    {
      "cell_type": "code",
      "metadata": {
        "colab": {
          "base_uri": "https://localhost:8080/"
        },
        "id": "D50_bSpLW3lV",
        "outputId": "e38fcfbe-576b-482c-a84b-22d0c36170db"
      },
      "source": [
        "!head -10 coverage.txt"
      ],
      "execution_count": 13,
      "outputs": [
        {
          "output_type": "stream",
          "text": [
            "NC_045512.2\t38\t1\n",
            "NC_045512.2\t39\t4\n",
            "NC_045512.2\t40\t7\n",
            "NC_045512.2\t41\t7\n",
            "NC_045512.2\t42\t12\n",
            "NC_045512.2\t43\t14\n",
            "NC_045512.2\t44\t14\n",
            "NC_045512.2\t45\t14\n",
            "NC_045512.2\t46\t15\n",
            "NC_045512.2\t47\t15\n"
          ],
          "name": "stdout"
        }
      ]
    },
    {
      "cell_type": "code",
      "metadata": {
        "id": "w9XFpU4kXKpm"
      },
      "source": [
        "import pandas as pd\n",
        "import matplotlib.pyplot as plt"
      ],
      "execution_count": 14,
      "outputs": []
    },
    {
      "cell_type": "code",
      "metadata": {
        "colab": {
          "base_uri": "https://localhost:8080/",
          "height": 343
        },
        "id": "odtll5EAXS_R",
        "outputId": "fdfeb7b0-2753-4834-998a-a885a270689e"
      },
      "source": [
        "df_coverage = pd.read_csv('coverage.txt', names=['CHROM', 'POS', 'COVERAGE'], sep='\\t')\n",
        "df_coverage.head(10)"
      ],
      "execution_count": 15,
      "outputs": [
        {
          "output_type": "execute_result",
          "data": {
            "text/html": [
              "<div>\n",
              "<style scoped>\n",
              "    .dataframe tbody tr th:only-of-type {\n",
              "        vertical-align: middle;\n",
              "    }\n",
              "\n",
              "    .dataframe tbody tr th {\n",
              "        vertical-align: top;\n",
              "    }\n",
              "\n",
              "    .dataframe thead th {\n",
              "        text-align: right;\n",
              "    }\n",
              "</style>\n",
              "<table border=\"1\" class=\"dataframe\">\n",
              "  <thead>\n",
              "    <tr style=\"text-align: right;\">\n",
              "      <th></th>\n",
              "      <th>CHROM</th>\n",
              "      <th>POS</th>\n",
              "      <th>COVERAGE</th>\n",
              "    </tr>\n",
              "  </thead>\n",
              "  <tbody>\n",
              "    <tr>\n",
              "      <th>0</th>\n",
              "      <td>NC_045512.2</td>\n",
              "      <td>38</td>\n",
              "      <td>1</td>\n",
              "    </tr>\n",
              "    <tr>\n",
              "      <th>1</th>\n",
              "      <td>NC_045512.2</td>\n",
              "      <td>39</td>\n",
              "      <td>4</td>\n",
              "    </tr>\n",
              "    <tr>\n",
              "      <th>2</th>\n",
              "      <td>NC_045512.2</td>\n",
              "      <td>40</td>\n",
              "      <td>7</td>\n",
              "    </tr>\n",
              "    <tr>\n",
              "      <th>3</th>\n",
              "      <td>NC_045512.2</td>\n",
              "      <td>41</td>\n",
              "      <td>7</td>\n",
              "    </tr>\n",
              "    <tr>\n",
              "      <th>4</th>\n",
              "      <td>NC_045512.2</td>\n",
              "      <td>42</td>\n",
              "      <td>12</td>\n",
              "    </tr>\n",
              "    <tr>\n",
              "      <th>5</th>\n",
              "      <td>NC_045512.2</td>\n",
              "      <td>43</td>\n",
              "      <td>14</td>\n",
              "    </tr>\n",
              "    <tr>\n",
              "      <th>6</th>\n",
              "      <td>NC_045512.2</td>\n",
              "      <td>44</td>\n",
              "      <td>14</td>\n",
              "    </tr>\n",
              "    <tr>\n",
              "      <th>7</th>\n",
              "      <td>NC_045512.2</td>\n",
              "      <td>45</td>\n",
              "      <td>14</td>\n",
              "    </tr>\n",
              "    <tr>\n",
              "      <th>8</th>\n",
              "      <td>NC_045512.2</td>\n",
              "      <td>46</td>\n",
              "      <td>15</td>\n",
              "    </tr>\n",
              "    <tr>\n",
              "      <th>9</th>\n",
              "      <td>NC_045512.2</td>\n",
              "      <td>47</td>\n",
              "      <td>15</td>\n",
              "    </tr>\n",
              "  </tbody>\n",
              "</table>\n",
              "</div>"
            ],
            "text/plain": [
              "         CHROM  POS  COVERAGE\n",
              "0  NC_045512.2   38         1\n",
              "1  NC_045512.2   39         4\n",
              "2  NC_045512.2   40         7\n",
              "3  NC_045512.2   41         7\n",
              "4  NC_045512.2   42        12\n",
              "5  NC_045512.2   43        14\n",
              "6  NC_045512.2   44        14\n",
              "7  NC_045512.2   45        14\n",
              "8  NC_045512.2   46        15\n",
              "9  NC_045512.2   47        15"
            ]
          },
          "metadata": {
            "tags": []
          },
          "execution_count": 15
        }
      ]
    },
    {
      "cell_type": "code",
      "metadata": {
        "colab": {
          "base_uri": "https://localhost:8080/"
        },
        "id": "mJjiOV3PYqQO",
        "outputId": "6f14a9d1-2f93-4b54-dddc-c668c012ad08"
      },
      "source": [
        "df_coverage['COVERAGE'].min()"
      ],
      "execution_count": 16,
      "outputs": [
        {
          "output_type": "execute_result",
          "data": {
            "text/plain": [
              "1"
            ]
          },
          "metadata": {
            "tags": []
          },
          "execution_count": 16
        }
      ]
    },
    {
      "cell_type": "code",
      "metadata": {
        "colab": {
          "base_uri": "https://localhost:8080/"
        },
        "id": "DhOSLwrnZy8A",
        "outputId": "cfab5c20-e9a4-4ff4-d584-0afd4f15b7d5"
      },
      "source": [
        "df_coverage['COVERAGE'].max()"
      ],
      "execution_count": 17,
      "outputs": [
        {
          "output_type": "execute_result",
          "data": {
            "text/plain": [
              "4737"
            ]
          },
          "metadata": {
            "tags": []
          },
          "execution_count": 17
        }
      ]
    },
    {
      "cell_type": "code",
      "metadata": {
        "colab": {
          "base_uri": "https://localhost:8080/"
        },
        "id": "hgHXMAoOZ1SH",
        "outputId": "91c327b2-8bce-4676-81cc-bbf98c18215c"
      },
      "source": [
        "df_coverage['COVERAGE'].mean()"
      ],
      "execution_count": 18,
      "outputs": [
        {
          "output_type": "execute_result",
          "data": {
            "text/plain": [
              "1395.2373927038627"
            ]
          },
          "metadata": {
            "tags": []
          },
          "execution_count": 18
        }
      ]
    },
    {
      "cell_type": "code",
      "metadata": {
        "colab": {
          "base_uri": "https://localhost:8080/"
        },
        "id": "QKgEQP-qZ-ou",
        "outputId": "a1b97289-7f67-4358-abcd-b101388f4da5"
      },
      "source": [
        "df_coverage['COVERAGE'].median()"
      ],
      "execution_count": 19,
      "outputs": [
        {
          "output_type": "execute_result",
          "data": {
            "text/plain": [
              "1360.0"
            ]
          },
          "metadata": {
            "tags": []
          },
          "execution_count": 19
        }
      ]
    },
    {
      "cell_type": "code",
      "metadata": {
        "colab": {
          "base_uri": "https://localhost:8080/",
          "height": 282
        },
        "id": "arBTVHtFaLFA",
        "outputId": "dde41c3f-6859-4894-ccb4-eadcad768fb6"
      },
      "source": [
        "df_coverage['COVERAGE'].hist(bins=100)"
      ],
      "execution_count": 20,
      "outputs": [
        {
          "output_type": "execute_result",
          "data": {
            "text/plain": [
              "<matplotlib.axes._subplots.AxesSubplot at 0x7f11e3418fd0>"
            ]
          },
          "metadata": {
            "tags": []
          },
          "execution_count": 20
        },
        {
          "output_type": "display_data",
          "data": {
            "image/png": "[encoded data removed]",
            "text/plain": [
              "<Figure size 432x288 with 1 Axes>"
            ]
          },
          "metadata": {
            "tags": [],
            "needs_background": "light"
          }
        }
      ]
    },
    {
      "cell_type": "code",
      "metadata": {
        "colab": {
          "base_uri": "https://localhost:8080/",
          "height": 265
        },
        "id": "y2UA7b-wakqD",
        "outputId": "2b342c87-28f7-4c6c-9708-34630aad9205"
      },
      "source": [
        "plt.hist(df_coverage['COVERAGE'], bins=100);"
      ],
      "execution_count": 21,
      "outputs": [
        {
          "output_type": "display_data",
          "data": {
            "image/png": "[encoded data removed]",
            "text/plain": [
              "<Figure size 432x288 with 1 Axes>"
            ]
          },
          "metadata": {
            "tags": [],
            "needs_background": "light"
          }
        }
      ]
    }
  ]
}